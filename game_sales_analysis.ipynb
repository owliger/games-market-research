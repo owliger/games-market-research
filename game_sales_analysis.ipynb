{
  "cells": [
    {
      "cell_type": "markdown",
      "metadata": {
        "id": "WvUOX_8DZ1OA"
      },
      "source": [
        "## Исследование продаж и популярности компьютерных игр\n"
      ]
    },
    {
      "cell_type": "markdown",
      "metadata": {
        "id": "L1DNs2qUP4fd"
      },
      "source": [
        "**Описание проекта:** В индустрии компьютерных игр успех продукта определяется множеством факторов: от платформы и жанра до оценок пользователей и критиков. Данный проект нацелен на выявление закономерностей, определяющих успешность игр, с целью оптимизации ассортимента и планирования рекламных кампаний для интернет-магазина «Стримчик».\n",
        "\n",
        "**Цель исследования:** Определить основные факторы, влияющие на продажи компьютерных игр в различных регионах, таких как Северная Америка, Европа и Япония, и выявить закономерности, которые помогут оптимизировать и улучшить продажи игр.\n",
        "\n",
        "**Ход исследования:**\n",
        "\n",
        "- Подготовка данных: загрузка и анализ исходной информации, включающей данные о продажах, жанрах, платформах, оценках критиков и пользователей, возрастных рейтингах и годах выпуска игр.\n",
        "- Предобработка данных: корректировка пропусков, дубликатов, приведение столбцов к нужным типам данных, добавление новых столбцов.\n",
        "- Исследовательский анализ данных: изучение ключевых характеристик игр, их платформ и жанров, анализ распределения продаж, корреляции между оценками и продажами, выявление аномалий.\n",
        "- Проверка гипотез: сравнение средних оценок пользователей для разных платформ и жанров для выявления значимых различий.\n",
        "\n",
        "**Описание данных:** Для анализа предоставлены данные о продажах игр в различных регионах (Северная Америка, Европа, Япония и другие страны), оценках пользователей и критиков, жанрах, платформах и годах выпуска игр, а также возрастные рейтинги ESRB.\n",
        "\n",
        "**Общий вывод:** Проведённый анализ позволит выявить ключевые факторы, влияющие на успех игр, и предложить рекомендации для дальнейшего улучшения ассортимента и рекламных кампаний интернет-магазина «Стримчик»."
      ]
    },
    {
      "cell_type": "markdown",
      "metadata": {
        "id": "oP0WzCWSZ1Vl"
      },
      "source": [
        "### Загрузка данных"
      ]
    },
    {
      "cell_type": "markdown",
      "metadata": {
        "id": "EVJ-HWAQQr4w"
      },
      "source": [
        "Для начала работы над проектом загрузим файл и изучим общую информацию о нем:"
      ]
    },
    {
      "cell_type": "code",
      "execution_count": null,
      "metadata": {
        "id": "Av3n77hZYwI_"
      },
      "outputs": [],
      "source": [
        "#импортируем библиотеки\n",
        "import pandas as pd\n",
        "import numpy as np\n",
        "import scipy.stats as st\n",
        "import matplotlib.pyplot as plt\n",
        "import seaborn as sns\n",
        "import warnings"
      ]
    },
    {
      "cell_type": "code",
      "execution_count": null,
      "metadata": {
        "id": "n84WPsgWkdbZ"
      },
      "outputs": [],
      "source": [
        "#отключаем предупреждения\n",
        "warnings.filterwarnings('ignore')"
      ]
    },
    {
      "cell_type": "code",
      "execution_count": null,
      "metadata": {
        "id": "agZ8NXV8kfix"
      },
      "outputs": [],
      "source": [
        "#загрузка данных из файла, вариант для локальной версии и для jupiter\n",
        "try:\n",
        "    data = pd.read_csv('games.csv')\n",
        "except:\n",
        "    data = pd.read_csv('/datasets/games.csv')"
      ]
    },
    {
      "cell_type": "code",
      "execution_count": null,
      "metadata": {
        "colab": {
          "base_uri": "https://localhost:8080/",
          "height": 363
        },
        "id": "om5QvhfRkr8k",
        "outputId": "6ee8cff9-6d6a-4b0c-a297-ac846c05f60d"
      },
      "outputs": [
        {
          "data": {
            "text/html": [
              "<div>\n",
              "<style scoped>\n",
              "    .dataframe tbody tr th:only-of-type {\n",
              "        vertical-align: middle;\n",
              "    }\n",
              "\n",
              "    .dataframe tbody tr th {\n",
              "        vertical-align: top;\n",
              "    }\n",
              "\n",
              "    .dataframe thead th {\n",
              "        text-align: right;\n",
              "    }\n",
              "</style>\n",
              "<table border=\"1\" class=\"dataframe\">\n",
              "  <thead>\n",
              "    <tr style=\"text-align: right;\">\n",
              "      <th></th>\n",
              "      <th>Unnamed: 0</th>\n",
              "      <th>Name</th>\n",
              "      <th>Platform</th>\n",
              "      <th>Year_of_Release</th>\n",
              "      <th>Genre</th>\n",
              "      <th>NA_sales</th>\n",
              "      <th>EU_sales</th>\n",
              "      <th>JP_sales</th>\n",
              "      <th>Other_sales</th>\n",
              "      <th>Critic_Score</th>\n",
              "      <th>User_Score</th>\n",
              "      <th>Rating</th>\n",
              "    </tr>\n",
              "  </thead>\n",
              "  <tbody>\n",
              "    <tr>\n",
              "      <th>0</th>\n",
              "      <td>0</td>\n",
              "      <td>Wii Sports</td>\n",
              "      <td>Wii</td>\n",
              "      <td>2006.0</td>\n",
              "      <td>Sports</td>\n",
              "      <td>41.36</td>\n",
              "      <td>28.96</td>\n",
              "      <td>3.77</td>\n",
              "      <td>8.45</td>\n",
              "      <td>76.0</td>\n",
              "      <td>8</td>\n",
              "      <td>E</td>\n",
              "    </tr>\n",
              "    <tr>\n",
              "      <th>1</th>\n",
              "      <td>1</td>\n",
              "      <td>Super Mario Bros.</td>\n",
              "      <td>NES</td>\n",
              "      <td>1985.0</td>\n",
              "      <td>Platform</td>\n",
              "      <td>29.08</td>\n",
              "      <td>3.58</td>\n",
              "      <td>6.81</td>\n",
              "      <td>0.77</td>\n",
              "      <td>NaN</td>\n",
              "      <td>NaN</td>\n",
              "      <td>NaN</td>\n",
              "    </tr>\n",
              "    <tr>\n",
              "      <th>2</th>\n",
              "      <td>2</td>\n",
              "      <td>Mario Kart Wii</td>\n",
              "      <td>Wii</td>\n",
              "      <td>2008.0</td>\n",
              "      <td>Racing</td>\n",
              "      <td>15.68</td>\n",
              "      <td>12.76</td>\n",
              "      <td>3.79</td>\n",
              "      <td>3.29</td>\n",
              "      <td>82.0</td>\n",
              "      <td>8.3</td>\n",
              "      <td>E</td>\n",
              "    </tr>\n",
              "    <tr>\n",
              "      <th>3</th>\n",
              "      <td>3</td>\n",
              "      <td>Wii Sports Resort</td>\n",
              "      <td>Wii</td>\n",
              "      <td>2009.0</td>\n",
              "      <td>Sports</td>\n",
              "      <td>15.61</td>\n",
              "      <td>10.93</td>\n",
              "      <td>3.28</td>\n",
              "      <td>2.95</td>\n",
              "      <td>80.0</td>\n",
              "      <td>8</td>\n",
              "      <td>E</td>\n",
              "    </tr>\n",
              "    <tr>\n",
              "      <th>4</th>\n",
              "      <td>4</td>\n",
              "      <td>Pokemon Red/Pokemon Blue</td>\n",
              "      <td>GB</td>\n",
              "      <td>1996.0</td>\n",
              "      <td>Role-Playing</td>\n",
              "      <td>11.27</td>\n",
              "      <td>8.89</td>\n",
              "      <td>10.22</td>\n",
              "      <td>1.00</td>\n",
              "      <td>NaN</td>\n",
              "      <td>NaN</td>\n",
              "      <td>NaN</td>\n",
              "    </tr>\n",
              "    <tr>\n",
              "      <th>5</th>\n",
              "      <td>5</td>\n",
              "      <td>Tetris</td>\n",
              "      <td>GB</td>\n",
              "      <td>1989.0</td>\n",
              "      <td>Puzzle</td>\n",
              "      <td>23.20</td>\n",
              "      <td>2.26</td>\n",
              "      <td>4.22</td>\n",
              "      <td>0.58</td>\n",
              "      <td>NaN</td>\n",
              "      <td>NaN</td>\n",
              "      <td>NaN</td>\n",
              "    </tr>\n",
              "    <tr>\n",
              "      <th>6</th>\n",
              "      <td>6</td>\n",
              "      <td>New Super Mario Bros.</td>\n",
              "      <td>DS</td>\n",
              "      <td>2006.0</td>\n",
              "      <td>Platform</td>\n",
              "      <td>11.28</td>\n",
              "      <td>9.14</td>\n",
              "      <td>6.50</td>\n",
              "      <td>2.88</td>\n",
              "      <td>89.0</td>\n",
              "      <td>8.5</td>\n",
              "      <td>E</td>\n",
              "    </tr>\n",
              "    <tr>\n",
              "      <th>7</th>\n",
              "      <td>7</td>\n",
              "      <td>Wii Play</td>\n",
              "      <td>Wii</td>\n",
              "      <td>2006.0</td>\n",
              "      <td>Misc</td>\n",
              "      <td>13.96</td>\n",
              "      <td>9.18</td>\n",
              "      <td>2.93</td>\n",
              "      <td>2.84</td>\n",
              "      <td>58.0</td>\n",
              "      <td>6.6</td>\n",
              "      <td>E</td>\n",
              "    </tr>\n",
              "    <tr>\n",
              "      <th>8</th>\n",
              "      <td>8</td>\n",
              "      <td>New Super Mario Bros. Wii</td>\n",
              "      <td>Wii</td>\n",
              "      <td>2009.0</td>\n",
              "      <td>Platform</td>\n",
              "      <td>14.44</td>\n",
              "      <td>6.94</td>\n",
              "      <td>4.70</td>\n",
              "      <td>2.24</td>\n",
              "      <td>87.0</td>\n",
              "      <td>8.4</td>\n",
              "      <td>E</td>\n",
              "    </tr>\n",
              "    <tr>\n",
              "      <th>9</th>\n",
              "      <td>9</td>\n",
              "      <td>Duck Hunt</td>\n",
              "      <td>NES</td>\n",
              "      <td>1984.0</td>\n",
              "      <td>Shooter</td>\n",
              "      <td>26.93</td>\n",
              "      <td>0.63</td>\n",
              "      <td>0.28</td>\n",
              "      <td>0.47</td>\n",
              "      <td>NaN</td>\n",
              "      <td>NaN</td>\n",
              "      <td>NaN</td>\n",
              "    </tr>\n",
              "  </tbody>\n",
              "</table>\n",
              "</div>"
            ],
            "text/plain": [
              "   Unnamed: 0                       Name Platform  Year_of_Release  \\\n",
              "0           0                 Wii Sports      Wii           2006.0   \n",
              "1           1          Super Mario Bros.      NES           1985.0   \n",
              "2           2             Mario Kart Wii      Wii           2008.0   \n",
              "3           3          Wii Sports Resort      Wii           2009.0   \n",
              "4           4   Pokemon Red/Pokemon Blue       GB           1996.0   \n",
              "5           5                     Tetris       GB           1989.0   \n",
              "6           6      New Super Mario Bros.       DS           2006.0   \n",
              "7           7                   Wii Play      Wii           2006.0   \n",
              "8           8  New Super Mario Bros. Wii      Wii           2009.0   \n",
              "9           9                  Duck Hunt      NES           1984.0   \n",
              "\n",
              "          Genre  NA_sales  EU_sales  JP_sales  Other_sales  Critic_Score  \\\n",
              "0        Sports     41.36     28.96      3.77         8.45          76.0   \n",
              "1      Platform     29.08      3.58      6.81         0.77           NaN   \n",
              "2        Racing     15.68     12.76      3.79         3.29          82.0   \n",
              "3        Sports     15.61     10.93      3.28         2.95          80.0   \n",
              "4  Role-Playing     11.27      8.89     10.22         1.00           NaN   \n",
              "5        Puzzle     23.20      2.26      4.22         0.58           NaN   \n",
              "6      Platform     11.28      9.14      6.50         2.88          89.0   \n",
              "7          Misc     13.96      9.18      2.93         2.84          58.0   \n",
              "8      Platform     14.44      6.94      4.70         2.24          87.0   \n",
              "9       Shooter     26.93      0.63      0.28         0.47           NaN   \n",
              "\n",
              "  User_Score Rating  \n",
              "0          8      E  \n",
              "1        NaN    NaN  \n",
              "2        8.3      E  \n",
              "3          8      E  \n",
              "4        NaN    NaN  \n",
              "5        NaN    NaN  \n",
              "6        8.5      E  \n",
              "7        6.6      E  \n",
              "8        8.4      E  \n",
              "9        NaN    NaN  "
            ]
          },
          "execution_count": 4,
          "metadata": {},
          "output_type": "execute_result"
        }
      ],
      "source": [
        "#знакомимся с данными\n",
        "data.head(10)"
      ]
    },
    {
      "cell_type": "code",
      "execution_count": null,
      "metadata": {
        "colab": {
          "base_uri": "https://localhost:8080/"
        },
        "id": "CsB_1W4PkuUo",
        "outputId": "f173201d-ca7c-4d3c-ac17-eb30ab19f1ba"
      },
      "outputs": [
        {
          "name": "stdout",
          "output_type": "stream",
          "text": [
            "<class 'pandas.core.frame.DataFrame'>\n",
            "RangeIndex: 16715 entries, 0 to 16714\n",
            "Data columns (total 12 columns):\n",
            " #   Column           Non-Null Count  Dtype  \n",
            "---  ------           --------------  -----  \n",
            " 0   Unnamed: 0       16715 non-null  int64  \n",
            " 1   Name             16713 non-null  object \n",
            " 2   Platform         16715 non-null  object \n",
            " 3   Year_of_Release  16446 non-null  float64\n",
            " 4   Genre            16713 non-null  object \n",
            " 5   NA_sales         16715 non-null  float64\n",
            " 6   EU_sales         16715 non-null  float64\n",
            " 7   JP_sales         16715 non-null  float64\n",
            " 8   Other_sales      16715 non-null  float64\n",
            " 9   Critic_Score     8137 non-null   float64\n",
            " 10  User_Score       10014 non-null  object \n",
            " 11  Rating           9949 non-null   object \n",
            "dtypes: float64(6), int64(1), object(5)\n",
            "memory usage: 1.5+ MB\n"
          ]
        }
      ],
      "source": [
        "#смотрим общую информацию\n",
        "data.info()"
      ]
    },
    {
      "cell_type": "markdown",
      "metadata": {
        "id": "360DwJTdQ3iI"
      },
      "source": [
        "Первичное знакомство с датафреймом наличие некорректных названий столбцов, наличие большого количества пропусков и неверные типы данных. Эти проблемы будут решены далее на этапе предобработки."
      ]
    },
    {
      "cell_type": "markdown",
      "metadata": {
        "id": "OqhNgIsTaC6F"
      },
      "source": [
        "### Предобработка данных"
      ]
    },
    {
      "cell_type": "markdown",
      "metadata": {
        "id": "DZHlfiDhRkEV"
      },
      "source": [
        "Перед началом анализа необходимо провести предобработку данных, чтобы убедиться в их корректности и целостности. Этот этап включает работку с пропусками, поиск дубликатов, а также приведение типов данных к нужным форматам. Все эти шаги позволят устранить возможные ошибки в данных и улучшить качество последующего анализа, обеспечив более достоверные результаты."
      ]
    },
    {
      "cell_type": "markdown",
      "metadata": {
        "id": "MYmp-ZMzSbtv"
      },
      "source": [
        "Для начала посмотрим есть ли в датафрейме дубликаты строк:"
      ]
    },
    {
      "cell_type": "code",
      "execution_count": null,
      "metadata": {
        "colab": {
          "base_uri": "https://localhost:8080/"
        },
        "id": "oVnS4B3URpOi",
        "outputId": "c0885660-4466-4572-b288-bc50f6f2875c"
      },
      "outputs": [
        {
          "data": {
            "text/plain": [
              "0"
            ]
          },
          "execution_count": 7,
          "metadata": {},
          "output_type": "execute_result"
        }
      ],
      "source": [
        "data.duplicated().sum()"
      ]
    },
    {
      "cell_type": "markdown",
      "metadata": {
        "id": "vAjUQ4A2THjz"
      },
      "source": [
        "Далее изменим наименование столбцов для удобства чтения, для этого приведем все к нижнему регистру:"
      ]
    },
    {
      "cell_type": "code",
      "execution_count": null,
      "metadata": {
        "id": "RD2DUZmiu5uz"
      },
      "outputs": [],
      "source": [
        "#изменяем регистр\n",
        "data.columns = data.columns.str.lower()"
      ]
    },
    {
      "cell_type": "markdown",
      "metadata": {
        "id": "dIEmlufu-iL8"
      },
      "source": [
        "После приведения названий к нижнему регистру проверим на наличие дубликатов по комбинации полей name, platform и year_of_release, чтобы удостовериться, что данные об одной игре не повторяются."
      ]
    },
    {
      "cell_type": "code",
      "execution_count": null,
      "metadata": {
        "id": "wu2_CPnc-iL8",
        "outputId": "7c6a5458-de31-46f8-c41e-95bef3e84a7b"
      },
      "outputs": [
        {
          "data": {
            "text/html": [
              "<div>\n",
              "<style scoped>\n",
              "    .dataframe tbody tr th:only-of-type {\n",
              "        vertical-align: middle;\n",
              "    }\n",
              "\n",
              "    .dataframe tbody tr th {\n",
              "        vertical-align: top;\n",
              "    }\n",
              "\n",
              "    .dataframe thead th {\n",
              "        text-align: right;\n",
              "    }\n",
              "</style>\n",
              "<table border=\"1\" class=\"dataframe\">\n",
              "  <thead>\n",
              "    <tr style=\"text-align: right;\">\n",
              "      <th></th>\n",
              "      <th>name</th>\n",
              "      <th>platform</th>\n",
              "      <th>year_of_release</th>\n",
              "      <th>genre</th>\n",
              "      <th>na_sales</th>\n",
              "      <th>eu_sales</th>\n",
              "      <th>jp_sales</th>\n",
              "      <th>other_sales</th>\n",
              "      <th>critic_score</th>\n",
              "      <th>user_score</th>\n",
              "      <th>rating</th>\n",
              "    </tr>\n",
              "  </thead>\n",
              "  <tbody>\n",
              "    <tr>\n",
              "      <th>604</th>\n",
              "      <td>Madden NFL 13</td>\n",
              "      <td>PS3</td>\n",
              "      <td>2012.0</td>\n",
              "      <td>Sports</td>\n",
              "      <td>2.11</td>\n",
              "      <td>0.22</td>\n",
              "      <td>0.00</td>\n",
              "      <td>0.23</td>\n",
              "      <td>83.0</td>\n",
              "      <td>5.5</td>\n",
              "      <td>E</td>\n",
              "    </tr>\n",
              "    <tr>\n",
              "      <th>659</th>\n",
              "      <td>NaN</td>\n",
              "      <td>GEN</td>\n",
              "      <td>1993.0</td>\n",
              "      <td>NaN</td>\n",
              "      <td>1.78</td>\n",
              "      <td>0.53</td>\n",
              "      <td>0.00</td>\n",
              "      <td>0.08</td>\n",
              "      <td>NaN</td>\n",
              "      <td>NaN</td>\n",
              "      <td>NaN</td>\n",
              "    </tr>\n",
              "    <tr>\n",
              "      <th>14244</th>\n",
              "      <td>NaN</td>\n",
              "      <td>GEN</td>\n",
              "      <td>1993.0</td>\n",
              "      <td>NaN</td>\n",
              "      <td>0.00</td>\n",
              "      <td>0.00</td>\n",
              "      <td>0.03</td>\n",
              "      <td>0.00</td>\n",
              "      <td>NaN</td>\n",
              "      <td>NaN</td>\n",
              "      <td>NaN</td>\n",
              "    </tr>\n",
              "    <tr>\n",
              "      <th>16230</th>\n",
              "      <td>Madden NFL 13</td>\n",
              "      <td>PS3</td>\n",
              "      <td>2012.0</td>\n",
              "      <td>Sports</td>\n",
              "      <td>0.00</td>\n",
              "      <td>0.01</td>\n",
              "      <td>0.00</td>\n",
              "      <td>0.00</td>\n",
              "      <td>83.0</td>\n",
              "      <td>5.5</td>\n",
              "      <td>E</td>\n",
              "    </tr>\n",
              "  </tbody>\n",
              "</table>\n",
              "</div>"
            ],
            "text/plain": [
              "                name platform  year_of_release   genre  na_sales  eu_sales  \\\n",
              "604    Madden NFL 13      PS3           2012.0  Sports      2.11      0.22   \n",
              "659              NaN      GEN           1993.0     NaN      1.78      0.53   \n",
              "14244            NaN      GEN           1993.0     NaN      0.00      0.00   \n",
              "16230  Madden NFL 13      PS3           2012.0  Sports      0.00      0.01   \n",
              "\n",
              "       jp_sales  other_sales  critic_score user_score rating  \n",
              "604        0.00         0.23          83.0        5.5      E  \n",
              "659        0.00         0.08           NaN        NaN    NaN  \n",
              "14244      0.03         0.00           NaN        NaN    NaN  \n",
              "16230      0.00         0.00          83.0        5.5      E  "
            ]
          },
          "execution_count": 9,
          "metadata": {},
          "output_type": "execute_result"
        }
      ],
      "source": [
        "#ищем дубликаты по трем столбцам\n",
        "data[data[['name', 'platform', 'year_of_release']].duplicated(keep=False)]"
      ]
    },
    {
      "cell_type": "markdown",
      "metadata": {
        "id": "KGpyF0c_-iL8"
      },
      "source": [
        "Две строчки с пропусками в наименовании мы рассмотрим чуть позже, а повторяющуются строчку с индексом 16230 удалим из датафрейме."
      ]
    },
    {
      "cell_type": "code",
      "execution_count": null,
      "metadata": {
        "id": "8gUE4cTs-iL9"
      },
      "outputs": [],
      "source": [
        "#удаляем строчку с повтором\n",
        "data = data.drop(16230).reset_index(drop=True)"
      ]
    },
    {
      "cell_type": "markdown",
      "metadata": {
        "id": "vyTkd81jTWx8"
      },
      "source": [
        "Изменяем тип столбца, содержащий год выхода игры, на datetime"
      ]
    },
    {
      "cell_type": "code",
      "execution_count": null,
      "metadata": {
        "id": "aPo4DaD1u5xX"
      },
      "outputs": [],
      "source": [
        "#приводим к типу datetime\n",
        "data['year_of_release'] = pd.to_datetime(data['year_of_release'], format='%Y')"
      ]
    },
    {
      "cell_type": "markdown",
      "metadata": {
        "id": "Ahl503KNTuEW"
      },
      "source": [
        "Судя по информации о датафрейме, в столбце user_score у нас должно содержаться число от 0 до 10. Однако тип столбца сейчас - object. Проверим какие значения содержатся в нем:"
      ]
    },
    {
      "cell_type": "code",
      "execution_count": null,
      "metadata": {
        "colab": {
          "base_uri": "https://localhost:8080/",
          "height": 490
        },
        "id": "loTUbEeXu56Q",
        "outputId": "8ef87924-a991-4183-d798-333ba15dbebc"
      },
      "outputs": [
        {
          "data": {
            "text/plain": [
              "tbd    2424\n",
              "7.8     324\n",
              "8       290\n",
              "8.2     282\n",
              "8.3     254\n",
              "       ... \n",
              "0.2       2\n",
              "0.5       2\n",
              "0.7       2\n",
              "9.7       1\n",
              "0         1\n",
              "Name: user_score, Length: 96, dtype: int64"
            ]
          },
          "execution_count": 12,
          "metadata": {},
          "output_type": "execute_result"
        }
      ],
      "source": [
        "data['user_score'].value_counts()"
      ]
    },
    {
      "cell_type": "markdown",
      "metadata": {
        "id": "xAeyyEmhT3OC"
      },
      "source": [
        "Краткий ресерч показал, что tbd - to be determined - когда оценка игры еще не была определена. Заменим это значение на пропуски, так как для нашего исследования нам достаточно информации, что рейтинг отсутствует. Заменим tbd на пропуски, приведем весь столбец к числовому формату:"
      ]
    },
    {
      "cell_type": "code",
      "execution_count": null,
      "metadata": {
        "id": "BTAW3XDm731z"
      },
      "outputs": [],
      "source": [
        "data['user_score'] = data['user_score'].replace('tbd', np.nan)"
      ]
    },
    {
      "cell_type": "code",
      "execution_count": null,
      "metadata": {
        "id": "0Bl3ax6x79nG"
      },
      "outputs": [],
      "source": [
        "#преобразуем столбец user_score в числовой формат\n",
        "data['user_score'] = pd.to_numeric(data['user_score'], errors='coerce')"
      ]
    },
    {
      "cell_type": "code",
      "execution_count": null,
      "metadata": {
        "colab": {
          "base_uri": "https://localhost:8080/"
        },
        "id": "-GNayS1Qu50B",
        "outputId": "07893f13-4f7d-4fc0-e97b-d1ffcab9a6f9"
      },
      "outputs": [
        {
          "name": "stdout",
          "output_type": "stream",
          "text": [
            "<class 'pandas.core.frame.DataFrame'>\n",
            "RangeIndex: 16714 entries, 0 to 16713\n",
            "Data columns (total 11 columns):\n",
            " #   Column           Non-Null Count  Dtype         \n",
            "---  ------           --------------  -----         \n",
            " 0   name             16712 non-null  object        \n",
            " 1   platform         16714 non-null  object        \n",
            " 2   year_of_release  16445 non-null  datetime64[ns]\n",
            " 3   genre            16712 non-null  object        \n",
            " 4   na_sales         16714 non-null  float64       \n",
            " 5   eu_sales         16714 non-null  float64       \n",
            " 6   jp_sales         16714 non-null  float64       \n",
            " 7   other_sales      16714 non-null  float64       \n",
            " 8   critic_score     8136 non-null   float64       \n",
            " 9   user_score       7589 non-null   float64       \n",
            " 10  rating           9948 non-null   object        \n",
            "dtypes: datetime64[ns](1), float64(6), object(4)\n",
            "memory usage: 1.4+ MB\n"
          ]
        }
      ],
      "source": [
        "#еще раз посмотрим информацию\n",
        "data.info()"
      ]
    },
    {
      "cell_type": "markdown",
      "metadata": {
        "id": "8o_9z1hqNKmH"
      },
      "source": [
        "Все типы столбцов теперь указаны правильно, далее переходим к заполнению пропусков:"
      ]
    },
    {
      "cell_type": "code",
      "execution_count": null,
      "metadata": {
        "colab": {
          "base_uri": "https://localhost:8080/",
          "height": 429
        },
        "id": "jTbmHLCJ0kRL",
        "outputId": "d625779b-4b21-401a-a2b6-dd4a33c53a1f"
      },
      "outputs": [
        {
          "data": {
            "text/plain": [
              "name                  2\n",
              "platform              0\n",
              "year_of_release     269\n",
              "genre                 2\n",
              "na_sales              0\n",
              "eu_sales              0\n",
              "jp_sales              0\n",
              "other_sales           0\n",
              "critic_score       8578\n",
              "user_score         9125\n",
              "rating             6766\n",
              "dtype: int64"
            ]
          },
          "execution_count": 16,
          "metadata": {},
          "output_type": "execute_result"
        }
      ],
      "source": [
        "#ищем пропуски в каждом столбце\n",
        "data.isna().sum()"
      ]
    },
    {
      "cell_type": "markdown",
      "metadata": {
        "id": "RsFVQ7H8TWyn"
      },
      "source": [
        "Посмотрим на строчки с пропусками в name и genre:"
      ]
    },
    {
      "cell_type": "code",
      "execution_count": null,
      "metadata": {
        "colab": {
          "base_uri": "https://localhost:8080/",
          "height": 112
        },
        "id": "HXg2SoqwNW_b",
        "outputId": "3c985e83-da25-423b-a25a-f013e4035c97"
      },
      "outputs": [
        {
          "data": {
            "text/html": [
              "<div>\n",
              "<style scoped>\n",
              "    .dataframe tbody tr th:only-of-type {\n",
              "        vertical-align: middle;\n",
              "    }\n",
              "\n",
              "    .dataframe tbody tr th {\n",
              "        vertical-align: top;\n",
              "    }\n",
              "\n",
              "    .dataframe thead th {\n",
              "        text-align: right;\n",
              "    }\n",
              "</style>\n",
              "<table border=\"1\" class=\"dataframe\">\n",
              "  <thead>\n",
              "    <tr style=\"text-align: right;\">\n",
              "      <th></th>\n",
              "      <th>name</th>\n",
              "      <th>platform</th>\n",
              "      <th>year_of_release</th>\n",
              "      <th>genre</th>\n",
              "      <th>na_sales</th>\n",
              "      <th>eu_sales</th>\n",
              "      <th>jp_sales</th>\n",
              "      <th>other_sales</th>\n",
              "      <th>critic_score</th>\n",
              "      <th>user_score</th>\n",
              "      <th>rating</th>\n",
              "    </tr>\n",
              "  </thead>\n",
              "  <tbody>\n",
              "    <tr>\n",
              "      <th>659</th>\n",
              "      <td>NaN</td>\n",
              "      <td>GEN</td>\n",
              "      <td>1993-01-01</td>\n",
              "      <td>NaN</td>\n",
              "      <td>1.78</td>\n",
              "      <td>0.53</td>\n",
              "      <td>0.00</td>\n",
              "      <td>0.08</td>\n",
              "      <td>NaN</td>\n",
              "      <td>NaN</td>\n",
              "      <td>NaN</td>\n",
              "    </tr>\n",
              "    <tr>\n",
              "      <th>14244</th>\n",
              "      <td>NaN</td>\n",
              "      <td>GEN</td>\n",
              "      <td>1993-01-01</td>\n",
              "      <td>NaN</td>\n",
              "      <td>0.00</td>\n",
              "      <td>0.00</td>\n",
              "      <td>0.03</td>\n",
              "      <td>0.00</td>\n",
              "      <td>NaN</td>\n",
              "      <td>NaN</td>\n",
              "      <td>NaN</td>\n",
              "    </tr>\n",
              "  </tbody>\n",
              "</table>\n",
              "</div>"
            ],
            "text/plain": [
              "      name platform year_of_release genre  na_sales  eu_sales  jp_sales  \\\n",
              "659    NaN      GEN      1993-01-01   NaN      1.78      0.53      0.00   \n",
              "14244  NaN      GEN      1993-01-01   NaN      0.00      0.00      0.03   \n",
              "\n",
              "       other_sales  critic_score  user_score rating  \n",
              "659           0.08           NaN         NaN    NaN  \n",
              "14244         0.00           NaN         NaN    NaN  "
            ]
          },
          "execution_count": 17,
          "metadata": {},
          "output_type": "execute_result"
        }
      ],
      "source": [
        "#смотрим строчки с пропусками\n",
        "data[data['name'].isna()]"
      ]
    },
    {
      "cell_type": "markdown",
      "metadata": {
        "id": "5Fv7FYasTew1"
      },
      "source": [
        "Данные строчки будем удалять из датафрейма, так как не имея информации о названии игры, не можем ее анализировать.\n",
        "\n",
        "Теперь рассмотрим строчки с пропусками в столбце year_of_release:"
      ]
    },
    {
      "cell_type": "code",
      "execution_count": null,
      "metadata": {
        "colab": {
          "base_uri": "https://localhost:8080/",
          "height": 424
        },
        "id": "dzaJjTZaNmdX",
        "outputId": "8af6c4a4-8955-4b24-febb-d937ee9475c7"
      },
      "outputs": [
        {
          "data": {
            "text/html": [
              "<div>\n",
              "<style scoped>\n",
              "    .dataframe tbody tr th:only-of-type {\n",
              "        vertical-align: middle;\n",
              "    }\n",
              "\n",
              "    .dataframe tbody tr th {\n",
              "        vertical-align: top;\n",
              "    }\n",
              "\n",
              "    .dataframe thead th {\n",
              "        text-align: right;\n",
              "    }\n",
              "</style>\n",
              "<table border=\"1\" class=\"dataframe\">\n",
              "  <thead>\n",
              "    <tr style=\"text-align: right;\">\n",
              "      <th></th>\n",
              "      <th>name</th>\n",
              "      <th>platform</th>\n",
              "      <th>year_of_release</th>\n",
              "      <th>genre</th>\n",
              "      <th>na_sales</th>\n",
              "      <th>eu_sales</th>\n",
              "      <th>jp_sales</th>\n",
              "      <th>other_sales</th>\n",
              "      <th>critic_score</th>\n",
              "      <th>user_score</th>\n",
              "      <th>rating</th>\n",
              "    </tr>\n",
              "  </thead>\n",
              "  <tbody>\n",
              "    <tr>\n",
              "      <th>183</th>\n",
              "      <td>Madden NFL 2004</td>\n",
              "      <td>PS2</td>\n",
              "      <td>NaT</td>\n",
              "      <td>Sports</td>\n",
              "      <td>4.26</td>\n",
              "      <td>0.26</td>\n",
              "      <td>0.01</td>\n",
              "      <td>0.71</td>\n",
              "      <td>94.0</td>\n",
              "      <td>8.5</td>\n",
              "      <td>E</td>\n",
              "    </tr>\n",
              "    <tr>\n",
              "      <th>377</th>\n",
              "      <td>FIFA Soccer 2004</td>\n",
              "      <td>PS2</td>\n",
              "      <td>NaT</td>\n",
              "      <td>Sports</td>\n",
              "      <td>0.59</td>\n",
              "      <td>2.36</td>\n",
              "      <td>0.04</td>\n",
              "      <td>0.51</td>\n",
              "      <td>84.0</td>\n",
              "      <td>6.4</td>\n",
              "      <td>E</td>\n",
              "    </tr>\n",
              "    <tr>\n",
              "      <th>456</th>\n",
              "      <td>LEGO Batman: The Videogame</td>\n",
              "      <td>Wii</td>\n",
              "      <td>NaT</td>\n",
              "      <td>Action</td>\n",
              "      <td>1.80</td>\n",
              "      <td>0.97</td>\n",
              "      <td>0.00</td>\n",
              "      <td>0.29</td>\n",
              "      <td>74.0</td>\n",
              "      <td>7.9</td>\n",
              "      <td>E10+</td>\n",
              "    </tr>\n",
              "    <tr>\n",
              "      <th>475</th>\n",
              "      <td>wwe Smackdown vs. Raw 2006</td>\n",
              "      <td>PS2</td>\n",
              "      <td>NaT</td>\n",
              "      <td>Fighting</td>\n",
              "      <td>1.57</td>\n",
              "      <td>1.02</td>\n",
              "      <td>0.00</td>\n",
              "      <td>0.41</td>\n",
              "      <td>NaN</td>\n",
              "      <td>NaN</td>\n",
              "      <td>NaN</td>\n",
              "    </tr>\n",
              "    <tr>\n",
              "      <th>609</th>\n",
              "      <td>Space Invaders</td>\n",
              "      <td>2600</td>\n",
              "      <td>NaT</td>\n",
              "      <td>Shooter</td>\n",
              "      <td>2.36</td>\n",
              "      <td>0.14</td>\n",
              "      <td>0.00</td>\n",
              "      <td>0.03</td>\n",
              "      <td>NaN</td>\n",
              "      <td>NaN</td>\n",
              "      <td>NaN</td>\n",
              "    </tr>\n",
              "    <tr>\n",
              "      <th>...</th>\n",
              "      <td>...</td>\n",
              "      <td>...</td>\n",
              "      <td>...</td>\n",
              "      <td>...</td>\n",
              "      <td>...</td>\n",
              "      <td>...</td>\n",
              "      <td>...</td>\n",
              "      <td>...</td>\n",
              "      <td>...</td>\n",
              "      <td>...</td>\n",
              "      <td>...</td>\n",
              "    </tr>\n",
              "    <tr>\n",
              "      <th>16372</th>\n",
              "      <td>PDC World Championship Darts 2008</td>\n",
              "      <td>PSP</td>\n",
              "      <td>NaT</td>\n",
              "      <td>Sports</td>\n",
              "      <td>0.01</td>\n",
              "      <td>0.00</td>\n",
              "      <td>0.00</td>\n",
              "      <td>0.00</td>\n",
              "      <td>43.0</td>\n",
              "      <td>NaN</td>\n",
              "      <td>E10+</td>\n",
              "    </tr>\n",
              "    <tr>\n",
              "      <th>16404</th>\n",
              "      <td>Freaky Flyers</td>\n",
              "      <td>GC</td>\n",
              "      <td>NaT</td>\n",
              "      <td>Racing</td>\n",
              "      <td>0.01</td>\n",
              "      <td>0.00</td>\n",
              "      <td>0.00</td>\n",
              "      <td>0.00</td>\n",
              "      <td>69.0</td>\n",
              "      <td>6.5</td>\n",
              "      <td>T</td>\n",
              "    </tr>\n",
              "    <tr>\n",
              "      <th>16447</th>\n",
              "      <td>Inversion</td>\n",
              "      <td>PC</td>\n",
              "      <td>NaT</td>\n",
              "      <td>Shooter</td>\n",
              "      <td>0.01</td>\n",
              "      <td>0.00</td>\n",
              "      <td>0.00</td>\n",
              "      <td>0.00</td>\n",
              "      <td>59.0</td>\n",
              "      <td>6.7</td>\n",
              "      <td>M</td>\n",
              "    </tr>\n",
              "    <tr>\n",
              "      <th>16457</th>\n",
              "      <td>Hakuouki: Shinsengumi Kitan</td>\n",
              "      <td>PS3</td>\n",
              "      <td>NaT</td>\n",
              "      <td>Adventure</td>\n",
              "      <td>0.01</td>\n",
              "      <td>0.00</td>\n",
              "      <td>0.00</td>\n",
              "      <td>0.00</td>\n",
              "      <td>NaN</td>\n",
              "      <td>NaN</td>\n",
              "      <td>NaN</td>\n",
              "    </tr>\n",
              "    <tr>\n",
              "      <th>16521</th>\n",
              "      <td>Virtua Quest</td>\n",
              "      <td>GC</td>\n",
              "      <td>NaT</td>\n",
              "      <td>Role-Playing</td>\n",
              "      <td>0.01</td>\n",
              "      <td>0.00</td>\n",
              "      <td>0.00</td>\n",
              "      <td>0.00</td>\n",
              "      <td>55.0</td>\n",
              "      <td>5.5</td>\n",
              "      <td>T</td>\n",
              "    </tr>\n",
              "  </tbody>\n",
              "</table>\n",
              "<p>269 rows × 11 columns</p>\n",
              "</div>"
            ],
            "text/plain": [
              "                                    name platform year_of_release  \\\n",
              "183                      Madden NFL 2004      PS2             NaT   \n",
              "377                     FIFA Soccer 2004      PS2             NaT   \n",
              "456           LEGO Batman: The Videogame      Wii             NaT   \n",
              "475           wwe Smackdown vs. Raw 2006      PS2             NaT   \n",
              "609                       Space Invaders     2600             NaT   \n",
              "...                                  ...      ...             ...   \n",
              "16372  PDC World Championship Darts 2008      PSP             NaT   \n",
              "16404                      Freaky Flyers       GC             NaT   \n",
              "16447                          Inversion       PC             NaT   \n",
              "16457        Hakuouki: Shinsengumi Kitan      PS3             NaT   \n",
              "16521                       Virtua Quest       GC             NaT   \n",
              "\n",
              "              genre  na_sales  eu_sales  jp_sales  other_sales  critic_score  \\\n",
              "183          Sports      4.26      0.26      0.01         0.71          94.0   \n",
              "377          Sports      0.59      2.36      0.04         0.51          84.0   \n",
              "456          Action      1.80      0.97      0.00         0.29          74.0   \n",
              "475        Fighting      1.57      1.02      0.00         0.41           NaN   \n",
              "609         Shooter      2.36      0.14      0.00         0.03           NaN   \n",
              "...             ...       ...       ...       ...          ...           ...   \n",
              "16372        Sports      0.01      0.00      0.00         0.00          43.0   \n",
              "16404        Racing      0.01      0.00      0.00         0.00          69.0   \n",
              "16447       Shooter      0.01      0.00      0.00         0.00          59.0   \n",
              "16457     Adventure      0.01      0.00      0.00         0.00           NaN   \n",
              "16521  Role-Playing      0.01      0.00      0.00         0.00          55.0   \n",
              "\n",
              "       user_score rating  \n",
              "183           8.5      E  \n",
              "377           6.4      E  \n",
              "456           7.9   E10+  \n",
              "475           NaN    NaN  \n",
              "609           NaN    NaN  \n",
              "...           ...    ...  \n",
              "16372         NaN   E10+  \n",
              "16404         6.5      T  \n",
              "16447         6.7      M  \n",
              "16457         NaN    NaN  \n",
              "16521         5.5      T  \n",
              "\n",
              "[269 rows x 11 columns]"
            ]
          },
          "execution_count": 18,
          "metadata": {},
          "output_type": "execute_result"
        }
      ],
      "source": [
        "#смотрим строчки с пропусками\n",
        "data[data['year_of_release'].isna()]"
      ]
    },
    {
      "cell_type": "markdown",
      "metadata": {
        "id": "UUsnfmv5Y10f"
      },
      "source": [
        "Год выпуска игр также критически важен для нас, так как не имея информации о точном годе, мы не можем знать относится ли эта игра к актуальному периоду анализа. Однако, хочется отметить, что теоретически для части игр можно было бы осуществить парсинг информации в интернете и записать год выпуска игры самостоятельно. Либо же запросить дополнительную информацию у заказчика."
      ]
    },
    {
      "cell_type": "code",
      "execution_count": null,
      "metadata": {
        "id": "UyyQdYsF863D"
      },
      "outputs": [],
      "source": [
        "#удаляем строчки с пропусками\n",
        "data = data.dropna(subset=['name', 'year_of_release', 'genre'])"
      ]
    },
    {
      "cell_type": "markdown",
      "metadata": {
        "id": "AyD_X2FzdgFl"
      },
      "source": [
        "Рассмотрим значения в столбце rating, содержащий пропуски:"
      ]
    },
    {
      "cell_type": "code",
      "execution_count": null,
      "metadata": {
        "colab": {
          "base_uri": "https://localhost:8080/",
          "height": 366
        },
        "id": "h_MikcvEoM3f",
        "outputId": "86d2d6a8-7e0f-4cc5-a2f7-957f6b476274"
      },
      "outputs": [
        {
          "data": {
            "text/plain": [
              "E       3920\n",
              "T       2905\n",
              "M       1536\n",
              "E10+    1393\n",
              "EC         8\n",
              "K-A        3\n",
              "AO         1\n",
              "RP         1\n",
              "Name: rating, dtype: int64"
            ]
          },
          "execution_count": 20,
          "metadata": {},
          "output_type": "execute_result"
        }
      ],
      "source": [
        "data['rating'].value_counts()"
      ]
    },
    {
      "cell_type": "markdown",
      "metadata": {
        "id": "aRn7kM0LsOgG"
      },
      "source": [
        "Типы рейтингов для понимания как распределяются игры:\n",
        "- 'E' - Everyone — Для всех\n",
        "- 'M' - Mature 17+ - Для взрослых\n",
        "- 'T' - Teen - Подросткам\n",
        "- 'E10+' - Everyone 10+ - Для всех от 10 лет и старше\n",
        "- 'K-A' - Kids to Adults - От детей до взрослых (устаревшая версия рейтинга 'E')\n",
        "- 'AO' - Adults Only - Только для взрослых\n",
        "- 'EC' - Early childhood — Для детей младшего возраста\n",
        "- 'RP' - Rating Pending — Рейтинг ожидается"
      ]
    },
    {
      "cell_type": "markdown",
      "metadata": {
        "id": "xitwDGOw-iMB"
      },
      "source": [
        "Так как столбец rating является у нас категориальной переменной, то мы можем заменить все пропущенные значения на специально слово 'unknown', которое впоследствии будет означать пропущенное значение для нас."
      ]
    },
    {
      "cell_type": "code",
      "execution_count": null,
      "metadata": {
        "id": "pJl2-qO8-iMB"
      },
      "outputs": [],
      "source": [
        "data['rating'] = data['rating'].fillna(value='unknown')"
      ]
    },
    {
      "cell_type": "markdown",
      "metadata": {
        "id": "6yDbdjlMoSvB"
      },
      "source": [
        "Еще раз найдем количество пропусков:"
      ]
    },
    {
      "cell_type": "code",
      "execution_count": null,
      "metadata": {
        "colab": {
          "base_uri": "https://localhost:8080/",
          "height": 429
        },
        "id": "H_6fmEeCoen9",
        "outputId": "2d10dbb5-8227-4ed0-b6ea-f9a5adc651fb"
      },
      "outputs": [
        {
          "data": {
            "text/plain": [
              "name                  0\n",
              "platform              0\n",
              "year_of_release       0\n",
              "genre                 0\n",
              "na_sales              0\n",
              "eu_sales              0\n",
              "jp_sales              0\n",
              "other_sales           0\n",
              "critic_score       8461\n",
              "user_score         8981\n",
              "rating                0\n",
              "dtype: int64"
            ]
          },
          "execution_count": 22,
          "metadata": {},
          "output_type": "execute_result"
        }
      ],
      "source": [
        "#смотрим количество пропусков\n",
        "data.isna().sum()"
      ]
    },
    {
      "cell_type": "markdown",
      "metadata": {
        "id": "3sOUNMxLoqvu"
      },
      "source": [
        "Пропуски в столбцах critic_score и user_score составляют почти половину всех значений, поэтому их удаление невозможно без значительной потери данных. Заполнение пропусков медианой или средним значением также не является оптимальным решением, так как это может исказить динамику данных и повлиять на дальнейший анализ. Поэтому было принято решение оставить пропуски, но учитывать их наличие при дальнейшем исследовании, особенно при работе с рейтингами. Также стоит отметить, что для более точного анализа желательно обратиться к заказчику, чтобы выяснить причины такого большого количества пропусков."
      ]
    },
    {
      "cell_type": "markdown",
      "metadata": {
        "id": "3PiNTUxIp6cC"
      },
      "source": [
        "Создадим новый столбец, содержащий общее количество продаж игры:"
      ]
    },
    {
      "cell_type": "code",
      "execution_count": null,
      "metadata": {
        "id": "m0BcVNdUu582"
      },
      "outputs": [],
      "source": [
        "#добавляем новый столбец\n",
        "data['total_sales'] = data['na_sales'] + data['eu_sales'] + data['jp_sales'] + data['other_sales']"
      ]
    },
    {
      "cell_type": "code",
      "execution_count": null,
      "metadata": {
        "colab": {
          "base_uri": "https://localhost:8080/",
          "height": 206
        },
        "id": "EU_XNVoQu6Aw",
        "outputId": "7b607ec3-4c27-4d90-886c-a2acd9c13720"
      },
      "outputs": [
        {
          "data": {
            "text/html": [
              "<div>\n",
              "<style scoped>\n",
              "    .dataframe tbody tr th:only-of-type {\n",
              "        vertical-align: middle;\n",
              "    }\n",
              "\n",
              "    .dataframe tbody tr th {\n",
              "        vertical-align: top;\n",
              "    }\n",
              "\n",
              "    .dataframe thead th {\n",
              "        text-align: right;\n",
              "    }\n",
              "</style>\n",
              "<table border=\"1\" class=\"dataframe\">\n",
              "  <thead>\n",
              "    <tr style=\"text-align: right;\">\n",
              "      <th></th>\n",
              "      <th>name</th>\n",
              "      <th>platform</th>\n",
              "      <th>year_of_release</th>\n",
              "      <th>genre</th>\n",
              "      <th>na_sales</th>\n",
              "      <th>eu_sales</th>\n",
              "      <th>jp_sales</th>\n",
              "      <th>other_sales</th>\n",
              "      <th>critic_score</th>\n",
              "      <th>user_score</th>\n",
              "      <th>rating</th>\n",
              "      <th>total_sales</th>\n",
              "    </tr>\n",
              "  </thead>\n",
              "  <tbody>\n",
              "    <tr>\n",
              "      <th>0</th>\n",
              "      <td>Wii Sports</td>\n",
              "      <td>Wii</td>\n",
              "      <td>2006-01-01</td>\n",
              "      <td>Sports</td>\n",
              "      <td>41.36</td>\n",
              "      <td>28.96</td>\n",
              "      <td>3.77</td>\n",
              "      <td>8.45</td>\n",
              "      <td>76.0</td>\n",
              "      <td>8.0</td>\n",
              "      <td>E</td>\n",
              "      <td>82.54</td>\n",
              "    </tr>\n",
              "    <tr>\n",
              "      <th>1</th>\n",
              "      <td>Super Mario Bros.</td>\n",
              "      <td>NES</td>\n",
              "      <td>1985-01-01</td>\n",
              "      <td>Platform</td>\n",
              "      <td>29.08</td>\n",
              "      <td>3.58</td>\n",
              "      <td>6.81</td>\n",
              "      <td>0.77</td>\n",
              "      <td>NaN</td>\n",
              "      <td>NaN</td>\n",
              "      <td>unknown</td>\n",
              "      <td>40.24</td>\n",
              "    </tr>\n",
              "    <tr>\n",
              "      <th>2</th>\n",
              "      <td>Mario Kart Wii</td>\n",
              "      <td>Wii</td>\n",
              "      <td>2008-01-01</td>\n",
              "      <td>Racing</td>\n",
              "      <td>15.68</td>\n",
              "      <td>12.76</td>\n",
              "      <td>3.79</td>\n",
              "      <td>3.29</td>\n",
              "      <td>82.0</td>\n",
              "      <td>8.3</td>\n",
              "      <td>E</td>\n",
              "      <td>35.52</td>\n",
              "    </tr>\n",
              "    <tr>\n",
              "      <th>3</th>\n",
              "      <td>Wii Sports Resort</td>\n",
              "      <td>Wii</td>\n",
              "      <td>2009-01-01</td>\n",
              "      <td>Sports</td>\n",
              "      <td>15.61</td>\n",
              "      <td>10.93</td>\n",
              "      <td>3.28</td>\n",
              "      <td>2.95</td>\n",
              "      <td>80.0</td>\n",
              "      <td>8.0</td>\n",
              "      <td>E</td>\n",
              "      <td>32.77</td>\n",
              "    </tr>\n",
              "    <tr>\n",
              "      <th>4</th>\n",
              "      <td>Pokemon Red/Pokemon Blue</td>\n",
              "      <td>GB</td>\n",
              "      <td>1996-01-01</td>\n",
              "      <td>Role-Playing</td>\n",
              "      <td>11.27</td>\n",
              "      <td>8.89</td>\n",
              "      <td>10.22</td>\n",
              "      <td>1.00</td>\n",
              "      <td>NaN</td>\n",
              "      <td>NaN</td>\n",
              "      <td>unknown</td>\n",
              "      <td>31.38</td>\n",
              "    </tr>\n",
              "  </tbody>\n",
              "</table>\n",
              "</div>"
            ],
            "text/plain": [
              "                       name platform year_of_release         genre  na_sales  \\\n",
              "0                Wii Sports      Wii      2006-01-01        Sports     41.36   \n",
              "1         Super Mario Bros.      NES      1985-01-01      Platform     29.08   \n",
              "2            Mario Kart Wii      Wii      2008-01-01        Racing     15.68   \n",
              "3         Wii Sports Resort      Wii      2009-01-01        Sports     15.61   \n",
              "4  Pokemon Red/Pokemon Blue       GB      1996-01-01  Role-Playing     11.27   \n",
              "\n",
              "   eu_sales  jp_sales  other_sales  critic_score  user_score   rating  \\\n",
              "0     28.96      3.77         8.45          76.0         8.0        E   \n",
              "1      3.58      6.81         0.77           NaN         NaN  unknown   \n",
              "2     12.76      3.79         3.29          82.0         8.3        E   \n",
              "3     10.93      3.28         2.95          80.0         8.0        E   \n",
              "4      8.89     10.22         1.00           NaN         NaN  unknown   \n",
              "\n",
              "   total_sales  \n",
              "0        82.54  \n",
              "1        40.24  \n",
              "2        35.52  \n",
              "3        32.77  \n",
              "4        31.38  "
            ]
          },
          "execution_count": 24,
          "metadata": {},
          "output_type": "execute_result"
        }
      ],
      "source": [
        "#смотрим получившийся датафрейм\n",
        "data.head()"
      ]
    },
    {
      "cell_type": "markdown",
      "metadata": {
        "id": "US4bbDeHqIsV"
      },
      "source": [
        "На этапе предобработки данных были проведены несколько ключевых операций. Во-первых, названия столбцов были приведены к нижнему регистру для упрощения работы с ними. Во-вторых, изменены типы данных в двух столбцах, что позволило корректно работать с датами и числовыми значениями. Также были удалены пропуски в некоторых столбцах, где это было необходимо для точности анализа. Эти шаги помогли подготовить данные для дальнейшего исследования."
      ]
    },
    {
      "cell_type": "markdown",
      "metadata": {
        "id": "iYfTX5sPZsGr"
      },
      "source": [
        "### Исследовательский анализ"
      ]
    },
    {
      "cell_type": "markdown",
      "metadata": {
        "id": "iiqrqaVuqcyt"
      },
      "source": [
        "Исследовательский анализ данных помогает выявить ключевые закономерности и тренды в продажах игр на разных платформах и в различных жанрах. В рамках этого этапа мы изучим динамику выпуска игр, проанализируем популярные платформы, их продажи, а также влияние отзывов пользователей и критиков на продажи. Это позволит определить актуальные тренды и сделать выводы, которые помогут в прогнозировании на следующий год."
      ]
    },
    {
      "cell_type": "markdown",
      "metadata": {
        "id": "-WfkLvDZxJIc"
      },
      "source": [
        "#### Распределение игр по годам"
      ]
    },
    {
      "cell_type": "markdown",
      "metadata": {
        "id": "z7jm2GF6y1RQ"
      },
      "source": [
        "С помощью сводной таблицы мы проанализируем распределение игр по годам их выпуска и посмотрим, сколько игр выходило в разные годы за весь доступный период. Для наглядности построим линейный график, отображающий это распределение."
      ]
    },
    {
      "cell_type": "code",
      "execution_count": null,
      "metadata": {
        "colab": {
          "base_uri": "https://localhost:8080/",
          "height": 487
        },
        "id": "ER9g2Zcohh1u",
        "outputId": "29c09dde-3fdb-43e4-b527-0b9ec4956eb3"
      },
      "outputs": [
        {
          "data": {
            "image/png": "[encoded data removed]",
            "text/plain": [
              "<Figure size 1080x360 with 1 Axes>"
            ]
          },
          "metadata": {
            "needs_background": "light"
          },
          "output_type": "display_data"
        }
      ],
      "source": [
        "data.pivot_table(\n",
        "    index='year_of_release',\n",
        "    values='name',\n",
        "    aggfunc='count'\n",
        ").sort_index().plot(\n",
        "    kind='line',\n",
        "    marker='o',\n",
        "    figsize=(15, 5),\n",
        "    grid=True,\n",
        "    legend=False,\n",
        "    title='Количество игр по годам',\n",
        "    xlabel='Год',\n",
        "    ylabel='Количество игр',\n",
        ")\n",
        "plt.show()"
      ]
    },
    {
      "cell_type": "markdown",
      "metadata": {
        "id": "fvx5iKuul0J0"
      },
      "source": [
        "Из графика видно, что в первые годы развития игровой индустрии количество выпускаемых игр было сравнительно небольшим. Лишь к 1995-2000 годам, с появлением новых платформ и увеличением их разнообразия, рынок игр начал активно расти. Наибольший пик выпуска игр пришёлся на 2007-2008 годы, после чего количество игр начало снижаться. Важно отметить, что данные за 2016 год могут быть неполными и не отражают реальной картины.\n",
        "\n",
        "Для анализа будет актуально использовать данные за последние 15 лет, так как до этого времени рынок только начинал формироваться, и количество игр было значительно ниже. Период в 15 лет позволит учесть современные тенденции, изменения в популярности платформ и жанров, а также циклы развития игровой индустрии."
      ]
    },
    {
      "cell_type": "markdown",
      "metadata": {
        "id": "FfdRi8RdzUA5"
      },
      "source": [
        "#### Продажи топ игр\n"
      ]
    },
    {
      "cell_type": "markdown",
      "metadata": {
        "id": "01TyKoKrzehj"
      },
      "source": [
        "Найдем топ платформ за все время, с самыми большими продажами:"
      ]
    },
    {
      "cell_type": "code",
      "execution_count": null,
      "metadata": {
        "colab": {
          "base_uri": "https://localhost:8080/",
          "height": 394
        },
        "id": "SGS_3Om5aXD1",
        "outputId": "560720cd-2bb6-47c3-e0cf-80c929b431e6"
      },
      "outputs": [
        {
          "data": {
            "text/html": [
              "<div>\n",
              "<style scoped>\n",
              "    .dataframe tbody tr th:only-of-type {\n",
              "        vertical-align: middle;\n",
              "    }\n",
              "\n",
              "    .dataframe tbody tr th {\n",
              "        vertical-align: top;\n",
              "    }\n",
              "\n",
              "    .dataframe thead th {\n",
              "        text-align: right;\n",
              "    }\n",
              "</style>\n",
              "<table border=\"1\" class=\"dataframe\">\n",
              "  <thead>\n",
              "    <tr style=\"text-align: right;\">\n",
              "      <th></th>\n",
              "      <th>total_sales</th>\n",
              "    </tr>\n",
              "    <tr>\n",
              "      <th>platform</th>\n",
              "      <th></th>\n",
              "    </tr>\n",
              "  </thead>\n",
              "  <tbody>\n",
              "    <tr>\n",
              "      <th>PS2</th>\n",
              "      <td>1233.56</td>\n",
              "    </tr>\n",
              "    <tr>\n",
              "      <th>X360</th>\n",
              "      <td>961.24</td>\n",
              "    </tr>\n",
              "    <tr>\n",
              "      <th>PS3</th>\n",
              "      <td>931.33</td>\n",
              "    </tr>\n",
              "    <tr>\n",
              "      <th>Wii</th>\n",
              "      <td>891.18</td>\n",
              "    </tr>\n",
              "    <tr>\n",
              "      <th>DS</th>\n",
              "      <td>802.78</td>\n",
              "    </tr>\n",
              "    <tr>\n",
              "      <th>PS</th>\n",
              "      <td>727.58</td>\n",
              "    </tr>\n",
              "    <tr>\n",
              "      <th>PS4</th>\n",
              "      <td>314.14</td>\n",
              "    </tr>\n",
              "    <tr>\n",
              "      <th>GBA</th>\n",
              "      <td>312.88</td>\n",
              "    </tr>\n",
              "    <tr>\n",
              "      <th>PSP</th>\n",
              "      <td>289.53</td>\n",
              "    </tr>\n",
              "    <tr>\n",
              "      <th>3DS</th>\n",
              "      <td>257.81</td>\n",
              "    </tr>\n",
              "  </tbody>\n",
              "</table>\n",
              "</div>"
            ],
            "text/plain": [
              "          total_sales\n",
              "platform             \n",
              "PS2           1233.56\n",
              "X360           961.24\n",
              "PS3            931.33\n",
              "Wii            891.18\n",
              "DS             802.78\n",
              "PS             727.58\n",
              "PS4            314.14\n",
              "GBA            312.88\n",
              "PSP            289.53\n",
              "3DS            257.81"
            ]
          },
          "execution_count": 26,
          "metadata": {},
          "output_type": "execute_result"
        }
      ],
      "source": [
        "top_platform = data.pivot_table(\n",
        "    index='platform',\n",
        "    values='total_sales',\n",
        "    aggfunc='sum'\n",
        ").sort_values(by='total_sales', ascending=False).head(10)\n",
        "top_platform"
      ]
    },
    {
      "cell_type": "markdown",
      "metadata": {
        "id": "09aGaDca08-t"
      },
      "source": [
        "В отдельный датафрейм выделим игры только по топовым 6 платформам, потому что данные по ним явно выделяются суммами продаж на фоне остальных игр:"
      ]
    },
    {
      "cell_type": "code",
      "execution_count": null,
      "metadata": {
        "id": "lcLLQf5-5_jd"
      },
      "outputs": [],
      "source": [
        "top_platform = top_platform.head(6)"
      ]
    },
    {
      "cell_type": "code",
      "execution_count": null,
      "metadata": {
        "colab": {
          "base_uri": "https://localhost:8080/",
          "height": 206
        },
        "id": "tEpsKeSNnueL",
        "outputId": "f4e72821-f6c1-4da3-9057-ab8e88b2dc0d"
      },
      "outputs": [
        {
          "data": {
            "text/html": [
              "<div>\n",
              "<style scoped>\n",
              "    .dataframe tbody tr th:only-of-type {\n",
              "        vertical-align: middle;\n",
              "    }\n",
              "\n",
              "    .dataframe tbody tr th {\n",
              "        vertical-align: top;\n",
              "    }\n",
              "\n",
              "    .dataframe thead th {\n",
              "        text-align: right;\n",
              "    }\n",
              "</style>\n",
              "<table border=\"1\" class=\"dataframe\">\n",
              "  <thead>\n",
              "    <tr style=\"text-align: right;\">\n",
              "      <th></th>\n",
              "      <th>name</th>\n",
              "      <th>platform</th>\n",
              "      <th>year_of_release</th>\n",
              "      <th>genre</th>\n",
              "      <th>na_sales</th>\n",
              "      <th>eu_sales</th>\n",
              "      <th>jp_sales</th>\n",
              "      <th>other_sales</th>\n",
              "      <th>critic_score</th>\n",
              "      <th>user_score</th>\n",
              "      <th>rating</th>\n",
              "      <th>total_sales</th>\n",
              "    </tr>\n",
              "  </thead>\n",
              "  <tbody>\n",
              "    <tr>\n",
              "      <th>0</th>\n",
              "      <td>Wii Sports</td>\n",
              "      <td>Wii</td>\n",
              "      <td>2006-01-01</td>\n",
              "      <td>Sports</td>\n",
              "      <td>41.36</td>\n",
              "      <td>28.96</td>\n",
              "      <td>3.77</td>\n",
              "      <td>8.45</td>\n",
              "      <td>76.0</td>\n",
              "      <td>8.0</td>\n",
              "      <td>E</td>\n",
              "      <td>82.54</td>\n",
              "    </tr>\n",
              "    <tr>\n",
              "      <th>2</th>\n",
              "      <td>Mario Kart Wii</td>\n",
              "      <td>Wii</td>\n",
              "      <td>2008-01-01</td>\n",
              "      <td>Racing</td>\n",
              "      <td>15.68</td>\n",
              "      <td>12.76</td>\n",
              "      <td>3.79</td>\n",
              "      <td>3.29</td>\n",
              "      <td>82.0</td>\n",
              "      <td>8.3</td>\n",
              "      <td>E</td>\n",
              "      <td>35.52</td>\n",
              "    </tr>\n",
              "    <tr>\n",
              "      <th>3</th>\n",
              "      <td>Wii Sports Resort</td>\n",
              "      <td>Wii</td>\n",
              "      <td>2009-01-01</td>\n",
              "      <td>Sports</td>\n",
              "      <td>15.61</td>\n",
              "      <td>10.93</td>\n",
              "      <td>3.28</td>\n",
              "      <td>2.95</td>\n",
              "      <td>80.0</td>\n",
              "      <td>8.0</td>\n",
              "      <td>E</td>\n",
              "      <td>32.77</td>\n",
              "    </tr>\n",
              "    <tr>\n",
              "      <th>6</th>\n",
              "      <td>New Super Mario Bros.</td>\n",
              "      <td>DS</td>\n",
              "      <td>2006-01-01</td>\n",
              "      <td>Platform</td>\n",
              "      <td>11.28</td>\n",
              "      <td>9.14</td>\n",
              "      <td>6.50</td>\n",
              "      <td>2.88</td>\n",
              "      <td>89.0</td>\n",
              "      <td>8.5</td>\n",
              "      <td>E</td>\n",
              "      <td>29.80</td>\n",
              "    </tr>\n",
              "    <tr>\n",
              "      <th>7</th>\n",
              "      <td>Wii Play</td>\n",
              "      <td>Wii</td>\n",
              "      <td>2006-01-01</td>\n",
              "      <td>Misc</td>\n",
              "      <td>13.96</td>\n",
              "      <td>9.18</td>\n",
              "      <td>2.93</td>\n",
              "      <td>2.84</td>\n",
              "      <td>58.0</td>\n",
              "      <td>6.6</td>\n",
              "      <td>E</td>\n",
              "      <td>28.91</td>\n",
              "    </tr>\n",
              "  </tbody>\n",
              "</table>\n",
              "</div>"
            ],
            "text/plain": [
              "                    name platform year_of_release     genre  na_sales  \\\n",
              "0             Wii Sports      Wii      2006-01-01    Sports     41.36   \n",
              "2         Mario Kart Wii      Wii      2008-01-01    Racing     15.68   \n",
              "3      Wii Sports Resort      Wii      2009-01-01    Sports     15.61   \n",
              "6  New Super Mario Bros.       DS      2006-01-01  Platform     11.28   \n",
              "7               Wii Play      Wii      2006-01-01      Misc     13.96   \n",
              "\n",
              "   eu_sales  jp_sales  other_sales  critic_score  user_score rating  \\\n",
              "0     28.96      3.77         8.45          76.0         8.0      E   \n",
              "2     12.76      3.79         3.29          82.0         8.3      E   \n",
              "3     10.93      3.28         2.95          80.0         8.0      E   \n",
              "6      9.14      6.50         2.88          89.0         8.5      E   \n",
              "7      9.18      2.93         2.84          58.0         6.6      E   \n",
              "\n",
              "   total_sales  \n",
              "0        82.54  \n",
              "2        35.52  \n",
              "3        32.77  \n",
              "6        29.80  \n",
              "7        28.91  "
            ]
          },
          "execution_count": 28,
          "metadata": {},
          "output_type": "execute_result"
        }
      ],
      "source": [
        "data_top = data.query('platform in @top_platform.index')\n",
        "data_top.head()"
      ]
    },
    {
      "cell_type": "code",
      "execution_count": null,
      "metadata": {
        "colab": {
          "base_uri": "https://localhost:8080/",
          "height": 833
        },
        "id": "v7SXsEgKn8al",
        "outputId": "ce6cf4bb-af8f-46ff-a2fb-fd896dd96e37",
        "scrolled": true
      },
      "outputs": [
        {
          "data": {
            "text/html": [
              "<div>\n",
              "<style scoped>\n",
              "    .dataframe tbody tr th:only-of-type {\n",
              "        vertical-align: middle;\n",
              "    }\n",
              "\n",
              "    .dataframe tbody tr th {\n",
              "        vertical-align: top;\n",
              "    }\n",
              "\n",
              "    .dataframe thead th {\n",
              "        text-align: right;\n",
              "    }\n",
              "</style>\n",
              "<table border=\"1\" class=\"dataframe\">\n",
              "  <thead>\n",
              "    <tr style=\"text-align: right;\">\n",
              "      <th>platform</th>\n",
              "      <th>DS</th>\n",
              "      <th>PS</th>\n",
              "      <th>PS2</th>\n",
              "      <th>PS3</th>\n",
              "      <th>Wii</th>\n",
              "      <th>X360</th>\n",
              "    </tr>\n",
              "    <tr>\n",
              "      <th>year_of_release</th>\n",
              "      <th></th>\n",
              "      <th></th>\n",
              "      <th></th>\n",
              "      <th></th>\n",
              "      <th></th>\n",
              "      <th></th>\n",
              "    </tr>\n",
              "  </thead>\n",
              "  <tbody>\n",
              "    <tr>\n",
              "      <th>1985-01-01</th>\n",
              "      <td>0.02</td>\n",
              "      <td>NaN</td>\n",
              "      <td>NaN</td>\n",
              "      <td>NaN</td>\n",
              "      <td>NaN</td>\n",
              "      <td>NaN</td>\n",
              "    </tr>\n",
              "    <tr>\n",
              "      <th>1994-01-01</th>\n",
              "      <td>NaN</td>\n",
              "      <td>6.03</td>\n",
              "      <td>NaN</td>\n",
              "      <td>NaN</td>\n",
              "      <td>NaN</td>\n",
              "      <td>NaN</td>\n",
              "    </tr>\n",
              "    <tr>\n",
              "      <th>1995-01-01</th>\n",
              "      <td>NaN</td>\n",
              "      <td>35.96</td>\n",
              "      <td>NaN</td>\n",
              "      <td>NaN</td>\n",
              "      <td>NaN</td>\n",
              "      <td>NaN</td>\n",
              "    </tr>\n",
              "    <tr>\n",
              "      <th>1996-01-01</th>\n",
              "      <td>NaN</td>\n",
              "      <td>94.70</td>\n",
              "      <td>NaN</td>\n",
              "      <td>NaN</td>\n",
              "      <td>NaN</td>\n",
              "      <td>NaN</td>\n",
              "    </tr>\n",
              "    <tr>\n",
              "      <th>1997-01-01</th>\n",
              "      <td>NaN</td>\n",
              "      <td>136.17</td>\n",
              "      <td>NaN</td>\n",
              "      <td>NaN</td>\n",
              "      <td>NaN</td>\n",
              "      <td>NaN</td>\n",
              "    </tr>\n",
              "    <tr>\n",
              "      <th>1998-01-01</th>\n",
              "      <td>NaN</td>\n",
              "      <td>169.49</td>\n",
              "      <td>NaN</td>\n",
              "      <td>NaN</td>\n",
              "      <td>NaN</td>\n",
              "      <td>NaN</td>\n",
              "    </tr>\n",
              "    <tr>\n",
              "      <th>1999-01-01</th>\n",
              "      <td>NaN</td>\n",
              "      <td>144.53</td>\n",
              "      <td>NaN</td>\n",
              "      <td>NaN</td>\n",
              "      <td>NaN</td>\n",
              "      <td>NaN</td>\n",
              "    </tr>\n",
              "    <tr>\n",
              "      <th>2000-01-01</th>\n",
              "      <td>NaN</td>\n",
              "      <td>96.37</td>\n",
              "      <td>39.17</td>\n",
              "      <td>NaN</td>\n",
              "      <td>NaN</td>\n",
              "      <td>NaN</td>\n",
              "    </tr>\n",
              "    <tr>\n",
              "      <th>2001-01-01</th>\n",
              "      <td>NaN</td>\n",
              "      <td>35.59</td>\n",
              "      <td>166.43</td>\n",
              "      <td>NaN</td>\n",
              "      <td>NaN</td>\n",
              "      <td>NaN</td>\n",
              "    </tr>\n",
              "    <tr>\n",
              "      <th>2002-01-01</th>\n",
              "      <td>NaN</td>\n",
              "      <td>6.67</td>\n",
              "      <td>205.38</td>\n",
              "      <td>NaN</td>\n",
              "      <td>NaN</td>\n",
              "      <td>NaN</td>\n",
              "    </tr>\n",
              "    <tr>\n",
              "      <th>2003-01-01</th>\n",
              "      <td>NaN</td>\n",
              "      <td>2.07</td>\n",
              "      <td>184.31</td>\n",
              "      <td>NaN</td>\n",
              "      <td>NaN</td>\n",
              "      <td>NaN</td>\n",
              "    </tr>\n",
              "    <tr>\n",
              "      <th>2004-01-01</th>\n",
              "      <td>17.27</td>\n",
              "      <td>NaN</td>\n",
              "      <td>211.81</td>\n",
              "      <td>NaN</td>\n",
              "      <td>NaN</td>\n",
              "      <td>NaN</td>\n",
              "    </tr>\n",
              "    <tr>\n",
              "      <th>2005-01-01</th>\n",
              "      <td>130.14</td>\n",
              "      <td>NaN</td>\n",
              "      <td>160.66</td>\n",
              "      <td>NaN</td>\n",
              "      <td>NaN</td>\n",
              "      <td>8.25</td>\n",
              "    </tr>\n",
              "    <tr>\n",
              "      <th>2006-01-01</th>\n",
              "      <td>119.81</td>\n",
              "      <td>NaN</td>\n",
              "      <td>103.42</td>\n",
              "      <td>20.96</td>\n",
              "      <td>137.15</td>\n",
              "      <td>51.62</td>\n",
              "    </tr>\n",
              "    <tr>\n",
              "      <th>2007-01-01</th>\n",
              "      <td>146.94</td>\n",
              "      <td>NaN</td>\n",
              "      <td>75.99</td>\n",
              "      <td>73.19</td>\n",
              "      <td>152.77</td>\n",
              "      <td>95.41</td>\n",
              "    </tr>\n",
              "    <tr>\n",
              "      <th>2008-01-01</th>\n",
              "      <td>145.31</td>\n",
              "      <td>NaN</td>\n",
              "      <td>53.90</td>\n",
              "      <td>118.52</td>\n",
              "      <td>171.32</td>\n",
              "      <td>135.26</td>\n",
              "    </tr>\n",
              "    <tr>\n",
              "      <th>2009-01-01</th>\n",
              "      <td>119.54</td>\n",
              "      <td>NaN</td>\n",
              "      <td>26.40</td>\n",
              "      <td>130.93</td>\n",
              "      <td>206.97</td>\n",
              "      <td>120.29</td>\n",
              "    </tr>\n",
              "    <tr>\n",
              "      <th>2010-01-01</th>\n",
              "      <td>85.02</td>\n",
              "      <td>NaN</td>\n",
              "      <td>5.64</td>\n",
              "      <td>142.17</td>\n",
              "      <td>127.95</td>\n",
              "      <td>170.03</td>\n",
              "    </tr>\n",
              "    <tr>\n",
              "      <th>2011-01-01</th>\n",
              "      <td>26.18</td>\n",
              "      <td>NaN</td>\n",
              "      <td>0.45</td>\n",
              "      <td>156.78</td>\n",
              "      <td>59.65</td>\n",
              "      <td>143.84</td>\n",
              "    </tr>\n",
              "    <tr>\n",
              "      <th>2012-01-01</th>\n",
              "      <td>11.01</td>\n",
              "      <td>NaN</td>\n",
              "      <td>NaN</td>\n",
              "      <td>107.35</td>\n",
              "      <td>21.71</td>\n",
              "      <td>99.74</td>\n",
              "    </tr>\n",
              "    <tr>\n",
              "      <th>2013-01-01</th>\n",
              "      <td>1.54</td>\n",
              "      <td>NaN</td>\n",
              "      <td>NaN</td>\n",
              "      <td>113.25</td>\n",
              "      <td>8.59</td>\n",
              "      <td>88.58</td>\n",
              "    </tr>\n",
              "    <tr>\n",
              "      <th>2014-01-01</th>\n",
              "      <td>NaN</td>\n",
              "      <td>NaN</td>\n",
              "      <td>NaN</td>\n",
              "      <td>47.76</td>\n",
              "      <td>3.75</td>\n",
              "      <td>34.74</td>\n",
              "    </tr>\n",
              "    <tr>\n",
              "      <th>2015-01-01</th>\n",
              "      <td>NaN</td>\n",
              "      <td>NaN</td>\n",
              "      <td>NaN</td>\n",
              "      <td>16.82</td>\n",
              "      <td>1.14</td>\n",
              "      <td>11.96</td>\n",
              "    </tr>\n",
              "    <tr>\n",
              "      <th>2016-01-01</th>\n",
              "      <td>NaN</td>\n",
              "      <td>NaN</td>\n",
              "      <td>NaN</td>\n",
              "      <td>3.60</td>\n",
              "      <td>0.18</td>\n",
              "      <td>1.52</td>\n",
              "    </tr>\n",
              "  </tbody>\n",
              "</table>\n",
              "</div>"
            ],
            "text/plain": [
              "platform             DS      PS     PS2     PS3     Wii    X360\n",
              "year_of_release                                                \n",
              "1985-01-01         0.02     NaN     NaN     NaN     NaN     NaN\n",
              "1994-01-01          NaN    6.03     NaN     NaN     NaN     NaN\n",
              "1995-01-01          NaN   35.96     NaN     NaN     NaN     NaN\n",
              "1996-01-01          NaN   94.70     NaN     NaN     NaN     NaN\n",
              "1997-01-01          NaN  136.17     NaN     NaN     NaN     NaN\n",
              "1998-01-01          NaN  169.49     NaN     NaN     NaN     NaN\n",
              "1999-01-01          NaN  144.53     NaN     NaN     NaN     NaN\n",
              "2000-01-01          NaN   96.37   39.17     NaN     NaN     NaN\n",
              "2001-01-01          NaN   35.59  166.43     NaN     NaN     NaN\n",
              "2002-01-01          NaN    6.67  205.38     NaN     NaN     NaN\n",
              "2003-01-01          NaN    2.07  184.31     NaN     NaN     NaN\n",
              "2004-01-01        17.27     NaN  211.81     NaN     NaN     NaN\n",
              "2005-01-01       130.14     NaN  160.66     NaN     NaN    8.25\n",
              "2006-01-01       119.81     NaN  103.42   20.96  137.15   51.62\n",
              "2007-01-01       146.94     NaN   75.99   73.19  152.77   95.41\n",
              "2008-01-01       145.31     NaN   53.90  118.52  171.32  135.26\n",
              "2009-01-01       119.54     NaN   26.40  130.93  206.97  120.29\n",
              "2010-01-01        85.02     NaN    5.64  142.17  127.95  170.03\n",
              "2011-01-01        26.18     NaN    0.45  156.78   59.65  143.84\n",
              "2012-01-01        11.01     NaN     NaN  107.35   21.71   99.74\n",
              "2013-01-01         1.54     NaN     NaN  113.25    8.59   88.58\n",
              "2014-01-01          NaN     NaN     NaN   47.76    3.75   34.74\n",
              "2015-01-01          NaN     NaN     NaN   16.82    1.14   11.96\n",
              "2016-01-01          NaN     NaN     NaN    3.60    0.18    1.52"
            ]
          },
          "execution_count": 29,
          "metadata": {},
          "output_type": "execute_result"
        }
      ],
      "source": [
        "platform_sales = data_top.pivot_table(\n",
        "    index='year_of_release',\n",
        "    columns='platform',\n",
        "    values='total_sales',\n",
        "    aggfunc='sum'\n",
        ")\n",
        "platform_sales"
      ]
    },
    {
      "cell_type": "markdown",
      "metadata": {
        "id": "RQzV2iSd2bIh"
      },
      "source": [
        "Используя сводную таблицу, мы распределили игры по платформам в зависимости от года их выпуска и просуммировали общие продажи для каждой платформы за каждый год. Это позволит нам увидеть динамику продаж на различных платформах с течением времени. Далее мы построим график, на котором будет наглядно видно, как менялись продажи игр по каждой из топовых платформ в год их выпуска"
      ]
    },
    {
      "cell_type": "code",
      "execution_count": null,
      "metadata": {
        "colab": {
          "base_uri": "https://localhost:8080/",
          "height": 680
        },
        "id": "1pS-zFjTpTcL",
        "outputId": "ad54aa84-cb2f-4b07-93d5-1f34a13f37c3"
      },
      "outputs": [
        {
          "data": {
            "text/plain": [
              "<Figure size 1008x504 with 0 Axes>"
            ]
          },
          "metadata": {},
          "output_type": "display_data"
        },
        {
          "data": {
            "image/png": "[encoded data removed]",
            "text/plain": [
              "<Figure size 864x576 with 1 Axes>"
            ]
          },
          "metadata": {
            "needs_background": "light"
          },
          "output_type": "display_data"
        }
      ],
      "source": [
        "#построение графика\n",
        "plt.figure(figsize=(14, 7))\n",
        "platform_sales.plot(kind='line', grid=True, figsize=(12, 8))\n",
        "\n",
        "#ограничим показ данных по оси X\n",
        "plt.xlim('1993-01-01', '2017-01-01')\n",
        "\n",
        "#настройки графика\n",
        "plt.title('Распределение продаж игр по платформам')\n",
        "plt.xlabel('Год выпуска')\n",
        "plt.ylabel('Суммарные продажи (в миллионах)')\n",
        "plt.legend(title='Топ-платформы')\n",
        "plt.grid(True)\n",
        "plt.show()"
      ]
    },
    {
      "cell_type": "markdown",
      "metadata": {
        "id": "4v3wMhp0ly_Y"
      },
      "source": [
        "Выборка шести платформ с наибольшими суммарными продажами показала, что каждая из них проходит характерный жизненный цикл, который длится около 10-15 лет. За этот период платформа достигает своего пика, после чего её популярность постепенно снижается.\n",
        "\n",
        "Платформы, такие как PlayStation и Xbox 360, демонстрируют классический пример этого цикла: их пик продаж приходится на несколько лет после выпуска, после чего начинается спад. PlayStation 2, одна из самых успешных платформ, достигла максимума продаж через несколько лет после выхода, затем её продажи начали падать с появлением PlayStation 3. Аналогично, платформа Wii продемонстрировала быстрый рост с пиком в середине жизненного цикла, но затем потеряла популярность на фоне выхода новых консолей."
      ]
    },
    {
      "cell_type": "markdown",
      "metadata": {
        "id": "zPXm9Kpv1KtP"
      },
      "source": [
        "#### Определение актуального периода"
      ]
    },
    {
      "cell_type": "markdown",
      "metadata": {
        "id": "PI73JV9rZknx"
      },
      "source": [
        "Для анализа и прогнозов на 2017 год мы решили использовать данные, начиная с 2012 года. Этот период выбран, так как он охватывает последние годы, когда платформы и жанры уже стабилизировались, и можно наблюдать текущие тренды. Данные до 2012 года уже не так актуальны, поскольку многие из тех игр прошли свои пиковые моменты.\n",
        "\n",
        "Также стоит отметить, что данные за 2016 год являются неполными, так как не все игры того года могли быть учтены. Однако мы включаем их в анализ, чтобы увидеть последние тенденции.\n",
        "\n",
        "Таким образом, для дальнейшего анализа мы будем использовать данные игр, выпущенных после 2012 года."
      ]
    },
    {
      "cell_type": "code",
      "execution_count": null,
      "metadata": {
        "colab": {
          "base_uri": "https://localhost:8080/",
          "height": 206
        },
        "id": "PO_lW6VRwvQh",
        "outputId": "94254767-b08d-4117-e820-bbd7eb0aa19e"
      },
      "outputs": [
        {
          "data": {
            "text/html": [
              "<div>\n",
              "<style scoped>\n",
              "    .dataframe tbody tr th:only-of-type {\n",
              "        vertical-align: middle;\n",
              "    }\n",
              "\n",
              "    .dataframe tbody tr th {\n",
              "        vertical-align: top;\n",
              "    }\n",
              "\n",
              "    .dataframe thead th {\n",
              "        text-align: right;\n",
              "    }\n",
              "</style>\n",
              "<table border=\"1\" class=\"dataframe\">\n",
              "  <thead>\n",
              "    <tr style=\"text-align: right;\">\n",
              "      <th></th>\n",
              "      <th>name</th>\n",
              "      <th>platform</th>\n",
              "      <th>year_of_release</th>\n",
              "      <th>genre</th>\n",
              "      <th>na_sales</th>\n",
              "      <th>eu_sales</th>\n",
              "      <th>jp_sales</th>\n",
              "      <th>other_sales</th>\n",
              "      <th>critic_score</th>\n",
              "      <th>user_score</th>\n",
              "      <th>rating</th>\n",
              "      <th>total_sales</th>\n",
              "    </tr>\n",
              "  </thead>\n",
              "  <tbody>\n",
              "    <tr>\n",
              "      <th>0</th>\n",
              "      <td>Grand Theft Auto V</td>\n",
              "      <td>PS3</td>\n",
              "      <td>2013-01-01</td>\n",
              "      <td>Action</td>\n",
              "      <td>7.02</td>\n",
              "      <td>9.09</td>\n",
              "      <td>0.98</td>\n",
              "      <td>3.96</td>\n",
              "      <td>97.0</td>\n",
              "      <td>8.2</td>\n",
              "      <td>M</td>\n",
              "      <td>21.05</td>\n",
              "    </tr>\n",
              "    <tr>\n",
              "      <th>1</th>\n",
              "      <td>Grand Theft Auto V</td>\n",
              "      <td>X360</td>\n",
              "      <td>2013-01-01</td>\n",
              "      <td>Action</td>\n",
              "      <td>9.66</td>\n",
              "      <td>5.14</td>\n",
              "      <td>0.06</td>\n",
              "      <td>1.41</td>\n",
              "      <td>97.0</td>\n",
              "      <td>8.1</td>\n",
              "      <td>M</td>\n",
              "      <td>16.27</td>\n",
              "    </tr>\n",
              "    <tr>\n",
              "      <th>2</th>\n",
              "      <td>Call of Duty: Black Ops 3</td>\n",
              "      <td>PS4</td>\n",
              "      <td>2015-01-01</td>\n",
              "      <td>Shooter</td>\n",
              "      <td>6.03</td>\n",
              "      <td>5.86</td>\n",
              "      <td>0.36</td>\n",
              "      <td>2.38</td>\n",
              "      <td>NaN</td>\n",
              "      <td>NaN</td>\n",
              "      <td>unknown</td>\n",
              "      <td>14.63</td>\n",
              "    </tr>\n",
              "    <tr>\n",
              "      <th>3</th>\n",
              "      <td>Pokemon X/Pokemon Y</td>\n",
              "      <td>3DS</td>\n",
              "      <td>2013-01-01</td>\n",
              "      <td>Role-Playing</td>\n",
              "      <td>5.28</td>\n",
              "      <td>4.19</td>\n",
              "      <td>4.35</td>\n",
              "      <td>0.78</td>\n",
              "      <td>NaN</td>\n",
              "      <td>NaN</td>\n",
              "      <td>unknown</td>\n",
              "      <td>14.60</td>\n",
              "    </tr>\n",
              "    <tr>\n",
              "      <th>4</th>\n",
              "      <td>Grand Theft Auto V</td>\n",
              "      <td>PS4</td>\n",
              "      <td>2014-01-01</td>\n",
              "      <td>Action</td>\n",
              "      <td>3.96</td>\n",
              "      <td>6.31</td>\n",
              "      <td>0.38</td>\n",
              "      <td>1.97</td>\n",
              "      <td>97.0</td>\n",
              "      <td>8.3</td>\n",
              "      <td>M</td>\n",
              "      <td>12.62</td>\n",
              "    </tr>\n",
              "  </tbody>\n",
              "</table>\n",
              "</div>"
            ],
            "text/plain": [
              "                        name platform year_of_release         genre  na_sales  \\\n",
              "0         Grand Theft Auto V      PS3      2013-01-01        Action      7.02   \n",
              "1         Grand Theft Auto V     X360      2013-01-01        Action      9.66   \n",
              "2  Call of Duty: Black Ops 3      PS4      2015-01-01       Shooter      6.03   \n",
              "3        Pokemon X/Pokemon Y      3DS      2013-01-01  Role-Playing      5.28   \n",
              "4         Grand Theft Auto V      PS4      2014-01-01        Action      3.96   \n",
              "\n",
              "   eu_sales  jp_sales  other_sales  critic_score  user_score   rating  \\\n",
              "0      9.09      0.98         3.96          97.0         8.2        M   \n",
              "1      5.14      0.06         1.41          97.0         8.1        M   \n",
              "2      5.86      0.36         2.38           NaN         NaN  unknown   \n",
              "3      4.19      4.35         0.78           NaN         NaN  unknown   \n",
              "4      6.31      0.38         1.97          97.0         8.3        M   \n",
              "\n",
              "   total_sales  \n",
              "0        21.05  \n",
              "1        16.27  \n",
              "2        14.63  \n",
              "3        14.60  \n",
              "4        12.62  "
            ]
          },
          "execution_count": 31,
          "metadata": {},
          "output_type": "execute_result"
        }
      ],
      "source": [
        "data_actual = data.query('year_of_release > 2012').reset_index(drop=True)\n",
        "data_actual.head()"
      ]
    },
    {
      "cell_type": "markdown",
      "metadata": {
        "id": "pwLq1ej01O-5"
      },
      "source": [
        "Рассмотрим информацию о полученным датафрейме:"
      ]
    },
    {
      "cell_type": "code",
      "execution_count": null,
      "metadata": {
        "colab": {
          "base_uri": "https://localhost:8080/"
        },
        "id": "owj-m0msm_4a",
        "outputId": "15d40538-7f49-4de3-f69e-45a1fc246eac"
      },
      "outputs": [
        {
          "name": "stdout",
          "output_type": "stream",
          "text": [
            "<class 'pandas.core.frame.DataFrame'>\n",
            "RangeIndex: 2233 entries, 0 to 2232\n",
            "Data columns (total 12 columns):\n",
            " #   Column           Non-Null Count  Dtype         \n",
            "---  ------           --------------  -----         \n",
            " 0   name             2233 non-null   object        \n",
            " 1   platform         2233 non-null   object        \n",
            " 2   year_of_release  2233 non-null   datetime64[ns]\n",
            " 3   genre            2233 non-null   object        \n",
            " 4   na_sales         2233 non-null   float64       \n",
            " 5   eu_sales         2233 non-null   float64       \n",
            " 6   jp_sales         2233 non-null   float64       \n",
            " 7   other_sales      2233 non-null   float64       \n",
            " 8   critic_score     991 non-null    float64       \n",
            " 9   user_score       1192 non-null   float64       \n",
            " 10  rating           2233 non-null   object        \n",
            " 11  total_sales      2233 non-null   float64       \n",
            "dtypes: datetime64[ns](1), float64(7), object(4)\n",
            "memory usage: 209.5+ KB\n"
          ]
        }
      ],
      "source": [
        "data_actual.info()"
      ]
    },
    {
      "cell_type": "markdown",
      "metadata": {
        "id": "ZcwtSW6b737h"
      },
      "source": [
        "Далее весь анализ мы будем осуществлять уже с новым датафреймом data_actual. Рассмотрим какие уникальные платформы остались у нас в новом датафрейме:"
      ]
    },
    {
      "cell_type": "code",
      "execution_count": null,
      "metadata": {
        "colab": {
          "base_uri": "https://localhost:8080/"
        },
        "id": "zD17yq7g1ePR",
        "outputId": "24b2bde8-1dde-4b3d-8009-2dba6a39129a"
      },
      "outputs": [
        {
          "data": {
            "text/plain": [
              "array(['PS3', 'X360', 'PS4', '3DS', 'XOne', 'WiiU', 'Wii', 'PC', 'PSV',\n",
              "       'DS', 'PSP'], dtype=object)"
            ]
          },
          "execution_count": 33,
          "metadata": {},
          "output_type": "execute_result"
        }
      ],
      "source": [
        "data_actual['platform'].unique()"
      ]
    },
    {
      "cell_type": "markdown",
      "metadata": {
        "id": "XEUXTmWs8Lx1"
      },
      "source": [
        "#### Отслеживание тенденций и поиск потенциально прибыльных платформ"
      ]
    },
    {
      "cell_type": "markdown",
      "metadata": {
        "id": "EJJZsPIB9adJ"
      },
      "source": [
        "Для более детального анализа распределения продаж по платформам, мы сгруппируем данные по платформам и году выпуска игр. Это позволит нам увидеть, как менялись продажи каждой платформы на протяжении выбранного актуального периода. Такой подход поможет лучше понять, сколько игр было продано для каждой платформы в конкретный год, а также выявить ключевые тенденции, связанные с жизненным циклом платформ: когда они выходят на рынок, достигают пика популярности и постепенно теряют свою актуальность."
      ]
    },
    {
      "cell_type": "code",
      "execution_count": null,
      "metadata": {
        "colab": {
          "base_uri": "https://localhost:8080/",
          "height": 206
        },
        "id": "GsTvVXNTGOFv",
        "outputId": "0ca1f154-43cc-40a6-ff12-85bfc7f3aa87"
      },
      "outputs": [
        {
          "data": {
            "text/html": [
              "<div>\n",
              "<style scoped>\n",
              "    .dataframe tbody tr th:only-of-type {\n",
              "        vertical-align: middle;\n",
              "    }\n",
              "\n",
              "    .dataframe tbody tr th {\n",
              "        vertical-align: top;\n",
              "    }\n",
              "\n",
              "    .dataframe thead th {\n",
              "        text-align: right;\n",
              "    }\n",
              "</style>\n",
              "<table border=\"1\" class=\"dataframe\">\n",
              "  <thead>\n",
              "    <tr style=\"text-align: right;\">\n",
              "      <th></th>\n",
              "      <th>platform</th>\n",
              "      <th>year_of_release</th>\n",
              "      <th>total_sales</th>\n",
              "    </tr>\n",
              "  </thead>\n",
              "  <tbody>\n",
              "    <tr>\n",
              "      <th>0</th>\n",
              "      <td>3DS</td>\n",
              "      <td>2013-01-01</td>\n",
              "      <td>56.57</td>\n",
              "    </tr>\n",
              "    <tr>\n",
              "      <th>1</th>\n",
              "      <td>3DS</td>\n",
              "      <td>2014-01-01</td>\n",
              "      <td>43.76</td>\n",
              "    </tr>\n",
              "    <tr>\n",
              "      <th>2</th>\n",
              "      <td>3DS</td>\n",
              "      <td>2015-01-01</td>\n",
              "      <td>27.78</td>\n",
              "    </tr>\n",
              "    <tr>\n",
              "      <th>3</th>\n",
              "      <td>3DS</td>\n",
              "      <td>2016-01-01</td>\n",
              "      <td>15.14</td>\n",
              "    </tr>\n",
              "    <tr>\n",
              "      <th>4</th>\n",
              "      <td>DS</td>\n",
              "      <td>2013-01-01</td>\n",
              "      <td>1.54</td>\n",
              "    </tr>\n",
              "  </tbody>\n",
              "</table>\n",
              "</div>"
            ],
            "text/plain": [
              "  platform year_of_release  total_sales\n",
              "0      3DS      2013-01-01        56.57\n",
              "1      3DS      2014-01-01        43.76\n",
              "2      3DS      2015-01-01        27.78\n",
              "3      3DS      2016-01-01        15.14\n",
              "4       DS      2013-01-01         1.54"
            ]
          },
          "execution_count": 34,
          "metadata": {},
          "output_type": "execute_result"
        }
      ],
      "source": [
        "#агрегируем данные по платформам и годам\n",
        "platform_sales_actual = data_actual.groupby(['platform', 'year_of_release'])['total_sales'].sum().reset_index()\n",
        "platform_sales_actual.head()"
      ]
    },
    {
      "cell_type": "code",
      "execution_count": null,
      "metadata": {
        "colab": {
          "base_uri": "https://localhost:8080/",
          "height": 81
        },
        "id": "34jkX1XqAnGt",
        "outputId": "506302c7-25da-40fb-df86-fc8570e27777"
      },
      "outputs": [
        {
          "data": {
            "text/html": [
              "<div>\n",
              "<style scoped>\n",
              "    .dataframe tbody tr th:only-of-type {\n",
              "        vertical-align: middle;\n",
              "    }\n",
              "\n",
              "    .dataframe tbody tr th {\n",
              "        vertical-align: top;\n",
              "    }\n",
              "\n",
              "    .dataframe thead th {\n",
              "        text-align: right;\n",
              "    }\n",
              "</style>\n",
              "<table border=\"1\" class=\"dataframe\">\n",
              "  <thead>\n",
              "    <tr style=\"text-align: right;\">\n",
              "      <th></th>\n",
              "      <th>platform</th>\n",
              "      <th>year_of_release</th>\n",
              "      <th>total_sales</th>\n",
              "    </tr>\n",
              "  </thead>\n",
              "  <tbody>\n",
              "  </tbody>\n",
              "</table>\n",
              "</div>"
            ],
            "text/plain": [
              "Empty DataFrame\n",
              "Columns: [platform, year_of_release, total_sales]\n",
              "Index: []"
            ]
          },
          "execution_count": 35,
          "metadata": {},
          "output_type": "execute_result"
        }
      ],
      "source": [
        "platform_sales_actual[platform_sales_actual['platform'] == 'N64']"
      ]
    },
    {
      "cell_type": "markdown",
      "metadata": {
        "id": "BvdewZst-zAz"
      },
      "source": [
        "После этого мы построим линейный график для каждой платформы, чтобы визуализировать изменения в продажах по годам. Это даст возможность наглядно увидеть, как быстро появляются новые платформы, когда достигают пиков продаж и когда начинают снижаться по популярности. Такие данные помогут определить, какие платформы имеют потенциал для дальнейшего роста, а какие уже начинают сдавать свои позиции на рынке."
      ]
    },
    {
      "cell_type": "code",
      "execution_count": null,
      "metadata": {
        "colab": {
          "base_uri": "https://localhost:8080/",
          "height": 641
        },
        "id": "a74HpgWiX9v7",
        "outputId": "72df438f-f087-4405-8588-2e2dca89183e"
      },
      "outputs": [
        {
          "data": {
            "image/png": "[encoded data removed]",
            "text/plain": [
              "<Figure size 1008x504 with 1 Axes>"
            ]
          },
          "metadata": {
            "needs_background": "light"
          },
          "output_type": "display_data"
        }
      ],
      "source": [
        "#строим график\n",
        "plt.figure(figsize=(14, 7))\n",
        "for platform in platform_sales_actual['platform'].unique():\n",
        "    platform_data = platform_sales_actual[platform_sales_actual['platform'] == platform]\n",
        "    plt.plot(platform_data['year_of_release'], platform_data['total_sales'], label=platform)\n",
        "\n",
        "#добавляем заголовки и легенду\n",
        "plt.title('Динамика продаж по платформам')\n",
        "plt.xlabel('Год выпуска')\n",
        "plt.ylabel('Суммарные продажи (в миллионах)')\n",
        "plt.legend(title='Платформа')\n",
        "plt.grid(True)\n",
        "plt.show()"
      ]
    },
    {
      "cell_type": "markdown",
      "metadata": {
        "id": "DrijubyU-1M9"
      },
      "source": [
        "Что можно увидеть на графике:\n",
        "\n",
        "- PS3 и Xbox 360 находятся на спаде — они прошли свой жизненный цикл, от пика продаж до постепенного снижения. Это платформы, на которые уже не стоит делать ставку в будущем, так как их популярность будет продолжать снижаться.\n",
        "\n",
        "- 3DS показывает стабильные продажи, но без сильного роста. Несмотря на это, она по-прежнему остается популярной среди портативных платформ, однако её потенциал для дальнейшего роста ограничен.\n",
        "- PS4 и Xbox One продолжают расти и набирать популярность, что делает их наиболее перспективными платформами для дальнейших инвестиций.\n",
        "\n",
        "- Wii, PSP, Wii U, PC и PS Vita демонстрируют горизонтальные линии на графике, что говорит о том, что их продажи остаются на одном уровне без значительного роста или падения. Эти платформы уже не показывают динамику, поэтому они вряд ли будут перспективными для инвестиций.\n",
        "\n",
        "- Видна динамика продаж для различных поколений консолей одной компании — на примере PlayStation. Мы можем наблюдать конец жизненного цикла PS3, которая уже уступает место новому поколению — PS4, находящейся на этапе роста.\n"
      ]
    },
    {
      "cell_type": "markdown",
      "metadata": {
        "id": "7lQNr7Ew8vHy"
      },
      "source": [
        "#### Распределение продаж игр"
      ]
    },
    {
      "cell_type": "markdown",
      "metadata": {
        "id": "5oznP4J_EqEK"
      },
      "source": [
        "Далее рассмотрим, как различные игры продавались на каждой платформе за весь актуальный период без учета распределения по годам. Для этого построим \"ящик с усами\" (boxplot) по глобальным продажам игр, разделенным по платформам. Это поможет нам проанализировать медианные значения продаж, выявить разброс данных и обнаружить выбросы — игры с аномально высокими продажами. Такой анализ даст представление о том, как распределялись продажи внутри каждой платформы и какие платформы имеют наиболее стабильные или, наоборот, нестабильные результаты."
      ]
    },
    {
      "cell_type": "code",
      "execution_count": null,
      "metadata": {
        "colab": {
          "base_uri": "https://localhost:8080/",
          "height": 586
        },
        "id": "7Csj_jVNjHGS",
        "outputId": "9c792d16-825d-4c9d-c303-faea48b35e5c"
      },
      "outputs": [
        {
          "data": {
            "image/png": "[encoded data removed]",
            "text/plain": [
              "<Figure size 864x432 with 1 Axes>"
            ]
          },
          "metadata": {
            "needs_background": "light"
          },
          "output_type": "display_data"
        }
      ],
      "source": [
        "#строим boxplot для глобальных продаж игр в разбивке по платформам\n",
        "plt.figure(figsize=(12, 6))\n",
        "sns.boxplot(x='platform', y='total_sales', data=data_actual)\n",
        "\n",
        "#добавляем заголовки\n",
        "plt.title('Распределение глобальных продаж по платформам')\n",
        "plt.xlabel('Платформа')\n",
        "plt.ylabel('Глобальные продажи (в миллионах копий)')\n",
        "\n",
        "plt.xticks(rotation=45) #для удобства чтения меток\n",
        "plt.grid(True)\n",
        "plt.show()"
      ]
    },
    {
      "cell_type": "markdown",
      "metadata": {
        "id": "diU-rUYcFfOi"
      },
      "source": [
        "График в исходном виде оказался плохочитабельным — сложно определить медианные значения для платформ, так как у некоторых из них присутствуют значительные выбросы с очень высокими продажами. Эти выбросы искажают общее восприятие данных, затрудняя анализ. Посмотрим подробнее какие это игры:"
      ]
    },
    {
      "cell_type": "code",
      "execution_count": null,
      "metadata": {
        "colab": {
          "base_uri": "https://localhost:8080/",
          "height": 523
        },
        "id": "Rx_fNVVJ85NT",
        "outputId": "fd50abfe-e2b1-49d7-e69c-9dab7d442771"
      },
      "outputs": [
        {
          "data": {
            "text/html": [
              "<div>\n",
              "<style scoped>\n",
              "    .dataframe tbody tr th:only-of-type {\n",
              "        vertical-align: middle;\n",
              "    }\n",
              "\n",
              "    .dataframe tbody tr th {\n",
              "        vertical-align: top;\n",
              "    }\n",
              "\n",
              "    .dataframe thead th {\n",
              "        text-align: right;\n",
              "    }\n",
              "</style>\n",
              "<table border=\"1\" class=\"dataframe\">\n",
              "  <thead>\n",
              "    <tr style=\"text-align: right;\">\n",
              "      <th></th>\n",
              "      <th>name</th>\n",
              "      <th>platform</th>\n",
              "      <th>year_of_release</th>\n",
              "      <th>genre</th>\n",
              "      <th>na_sales</th>\n",
              "      <th>eu_sales</th>\n",
              "      <th>jp_sales</th>\n",
              "      <th>other_sales</th>\n",
              "      <th>critic_score</th>\n",
              "      <th>user_score</th>\n",
              "      <th>rating</th>\n",
              "      <th>total_sales</th>\n",
              "    </tr>\n",
              "  </thead>\n",
              "  <tbody>\n",
              "    <tr>\n",
              "      <th>0</th>\n",
              "      <td>Grand Theft Auto V</td>\n",
              "      <td>PS3</td>\n",
              "      <td>2013-01-01</td>\n",
              "      <td>Action</td>\n",
              "      <td>7.02</td>\n",
              "      <td>9.09</td>\n",
              "      <td>0.98</td>\n",
              "      <td>3.96</td>\n",
              "      <td>97.0</td>\n",
              "      <td>8.2</td>\n",
              "      <td>M</td>\n",
              "      <td>21.05</td>\n",
              "    </tr>\n",
              "    <tr>\n",
              "      <th>1</th>\n",
              "      <td>Grand Theft Auto V</td>\n",
              "      <td>X360</td>\n",
              "      <td>2013-01-01</td>\n",
              "      <td>Action</td>\n",
              "      <td>9.66</td>\n",
              "      <td>5.14</td>\n",
              "      <td>0.06</td>\n",
              "      <td>1.41</td>\n",
              "      <td>97.0</td>\n",
              "      <td>8.1</td>\n",
              "      <td>M</td>\n",
              "      <td>16.27</td>\n",
              "    </tr>\n",
              "    <tr>\n",
              "      <th>2</th>\n",
              "      <td>Call of Duty: Black Ops 3</td>\n",
              "      <td>PS4</td>\n",
              "      <td>2015-01-01</td>\n",
              "      <td>Shooter</td>\n",
              "      <td>6.03</td>\n",
              "      <td>5.86</td>\n",
              "      <td>0.36</td>\n",
              "      <td>2.38</td>\n",
              "      <td>NaN</td>\n",
              "      <td>NaN</td>\n",
              "      <td>unknown</td>\n",
              "      <td>14.63</td>\n",
              "    </tr>\n",
              "    <tr>\n",
              "      <th>3</th>\n",
              "      <td>Pokemon X/Pokemon Y</td>\n",
              "      <td>3DS</td>\n",
              "      <td>2013-01-01</td>\n",
              "      <td>Role-Playing</td>\n",
              "      <td>5.28</td>\n",
              "      <td>4.19</td>\n",
              "      <td>4.35</td>\n",
              "      <td>0.78</td>\n",
              "      <td>NaN</td>\n",
              "      <td>NaN</td>\n",
              "      <td>unknown</td>\n",
              "      <td>14.60</td>\n",
              "    </tr>\n",
              "    <tr>\n",
              "      <th>4</th>\n",
              "      <td>Grand Theft Auto V</td>\n",
              "      <td>PS4</td>\n",
              "      <td>2014-01-01</td>\n",
              "      <td>Action</td>\n",
              "      <td>3.96</td>\n",
              "      <td>6.31</td>\n",
              "      <td>0.38</td>\n",
              "      <td>1.97</td>\n",
              "      <td>97.0</td>\n",
              "      <td>8.3</td>\n",
              "      <td>M</td>\n",
              "      <td>12.62</td>\n",
              "    </tr>\n",
              "    <tr>\n",
              "      <th>5</th>\n",
              "      <td>Pokemon Omega Ruby/Pokemon Alpha Sapphire</td>\n",
              "      <td>3DS</td>\n",
              "      <td>2014-01-01</td>\n",
              "      <td>Role-Playing</td>\n",
              "      <td>4.35</td>\n",
              "      <td>3.49</td>\n",
              "      <td>3.10</td>\n",
              "      <td>0.74</td>\n",
              "      <td>NaN</td>\n",
              "      <td>NaN</td>\n",
              "      <td>unknown</td>\n",
              "      <td>11.68</td>\n",
              "    </tr>\n",
              "    <tr>\n",
              "      <th>6</th>\n",
              "      <td>Call of Duty: Ghosts</td>\n",
              "      <td>X360</td>\n",
              "      <td>2013-01-01</td>\n",
              "      <td>Shooter</td>\n",
              "      <td>6.73</td>\n",
              "      <td>2.56</td>\n",
              "      <td>0.04</td>\n",
              "      <td>0.91</td>\n",
              "      <td>73.0</td>\n",
              "      <td>2.6</td>\n",
              "      <td>M</td>\n",
              "      <td>10.24</td>\n",
              "    </tr>\n",
              "    <tr>\n",
              "      <th>7</th>\n",
              "      <td>Call of Duty: Ghosts</td>\n",
              "      <td>PS3</td>\n",
              "      <td>2013-01-01</td>\n",
              "      <td>Shooter</td>\n",
              "      <td>4.10</td>\n",
              "      <td>3.63</td>\n",
              "      <td>0.38</td>\n",
              "      <td>1.25</td>\n",
              "      <td>71.0</td>\n",
              "      <td>2.6</td>\n",
              "      <td>M</td>\n",
              "      <td>9.36</td>\n",
              "    </tr>\n",
              "    <tr>\n",
              "      <th>8</th>\n",
              "      <td>Minecraft</td>\n",
              "      <td>X360</td>\n",
              "      <td>2013-01-01</td>\n",
              "      <td>Misc</td>\n",
              "      <td>5.70</td>\n",
              "      <td>2.65</td>\n",
              "      <td>0.02</td>\n",
              "      <td>0.81</td>\n",
              "      <td>NaN</td>\n",
              "      <td>NaN</td>\n",
              "      <td>unknown</td>\n",
              "      <td>9.18</td>\n",
              "    </tr>\n",
              "    <tr>\n",
              "      <th>9</th>\n",
              "      <td>FIFA 16</td>\n",
              "      <td>PS4</td>\n",
              "      <td>2015-01-01</td>\n",
              "      <td>Sports</td>\n",
              "      <td>1.12</td>\n",
              "      <td>6.12</td>\n",
              "      <td>0.06</td>\n",
              "      <td>1.28</td>\n",
              "      <td>82.0</td>\n",
              "      <td>4.3</td>\n",
              "      <td>E</td>\n",
              "      <td>8.58</td>\n",
              "    </tr>\n",
              "  </tbody>\n",
              "</table>\n",
              "</div>"
            ],
            "text/plain": [
              "                                        name platform year_of_release  \\\n",
              "0                         Grand Theft Auto V      PS3      2013-01-01   \n",
              "1                         Grand Theft Auto V     X360      2013-01-01   \n",
              "2                  Call of Duty: Black Ops 3      PS4      2015-01-01   \n",
              "3                        Pokemon X/Pokemon Y      3DS      2013-01-01   \n",
              "4                         Grand Theft Auto V      PS4      2014-01-01   \n",
              "5  Pokemon Omega Ruby/Pokemon Alpha Sapphire      3DS      2014-01-01   \n",
              "6                       Call of Duty: Ghosts     X360      2013-01-01   \n",
              "7                       Call of Duty: Ghosts      PS3      2013-01-01   \n",
              "8                                  Minecraft     X360      2013-01-01   \n",
              "9                                    FIFA 16      PS4      2015-01-01   \n",
              "\n",
              "          genre  na_sales  eu_sales  jp_sales  other_sales  critic_score  \\\n",
              "0        Action      7.02      9.09      0.98         3.96          97.0   \n",
              "1        Action      9.66      5.14      0.06         1.41          97.0   \n",
              "2       Shooter      6.03      5.86      0.36         2.38           NaN   \n",
              "3  Role-Playing      5.28      4.19      4.35         0.78           NaN   \n",
              "4        Action      3.96      6.31      0.38         1.97          97.0   \n",
              "5  Role-Playing      4.35      3.49      3.10         0.74           NaN   \n",
              "6       Shooter      6.73      2.56      0.04         0.91          73.0   \n",
              "7       Shooter      4.10      3.63      0.38         1.25          71.0   \n",
              "8          Misc      5.70      2.65      0.02         0.81           NaN   \n",
              "9        Sports      1.12      6.12      0.06         1.28          82.0   \n",
              "\n",
              "   user_score   rating  total_sales  \n",
              "0         8.2        M        21.05  \n",
              "1         8.1        M        16.27  \n",
              "2         NaN  unknown        14.63  \n",
              "3         NaN  unknown        14.60  \n",
              "4         8.3        M        12.62  \n",
              "5         NaN  unknown        11.68  \n",
              "6         2.6        M        10.24  \n",
              "7         2.6        M         9.36  \n",
              "8         NaN  unknown         9.18  \n",
              "9         4.3        E         8.58  "
            ]
          },
          "execution_count": 38,
          "metadata": {},
          "output_type": "execute_result"
        }
      ],
      "source": [
        "data_actual.query('total_sales > 8')"
      ]
    },
    {
      "cell_type": "markdown",
      "metadata": {
        "id": "cmMYlUz_y-CN"
      },
      "source": [
        "Обычно при анализе данных выбросы, которые сильно отличаются от межквартильного размаха, рекомендуют удалять, чтобы они не искажали результаты. Однако в данном случае, поскольку наша цель — проанализировать популярность платформ и построить прогноз для будущих игр, стремящихся к такому же успеху, удаление этих выбросов было бы некорректным. Высокие продажи — это ключевой показатель, на который мы ориентируемся, и их исключение может исказить важную информацию о платформе.\n",
        "\n",
        "Для более наглядного анализа медиан и общего распределения продаж мы построим повторный «ящик с усами», ограничив максимальное значение продаж до 2 миллионов. Это позволит лучше оценить общие тенденции без влияния крупных выбросов."
      ]
    },
    {
      "cell_type": "code",
      "execution_count": null,
      "metadata": {
        "colab": {
          "base_uri": "https://localhost:8080/",
          "height": 586
        },
        "id": "6HCcX3ykxnVs",
        "outputId": "c539a249-93c0-4b30-f6d4-49baf5679e29"
      },
      "outputs": [
        {
          "data": {
            "image/png": "[encoded data removed]",
            "text/plain": [
              "<Figure size 864x432 with 1 Axes>"
            ]
          },
          "metadata": {
            "needs_background": "light"
          },
          "output_type": "display_data"
        }
      ],
      "source": [
        "# Строим boxplot для глобальных продаж игр в разбивке по платформам\n",
        "plt.figure(figsize=(12, 6))\n",
        "sns.boxplot(x='platform', y='total_sales', data=data_actual)\n",
        "\n",
        "plt.ylim(0,2)\n",
        "# Добавляем заголовки\n",
        "plt.title('Распределение глобальных продаж по платформам')\n",
        "plt.xlabel('Платформа')\n",
        "plt.ylabel('Глобальные продажи (в миллионах копий)')\n",
        "mean_sales = data_actual[\"total_sales\"].mean()\n",
        "median_sales = data_actual[\"total_sales\"].median()\n",
        "plt.axhline(mean_sales, color=\"r\", linestyle=\"--\", label=f\"Среднее: {mean_sales:.2f}\")\n",
        "plt.axhline(\n",
        "    median_sales, color=\"g\", linestyle=\"-\", label=f\"Медиана: {median_sales:.2f}\"\n",
        ")\n",
        "plt.xticks(rotation=45) #для удобства чтения меток\n",
        "plt.legend()\n",
        "plt.grid(True)\n",
        "plt.show()"
      ]
    },
    {
      "cell_type": "markdown",
      "metadata": {
        "id": "goySkfBL3tMi"
      },
      "source": [
        "Первая диаграмма демонстрирует глобальные продажи по платформам, с максимальными значениями выбросов, особенно для платформ PS3, X360, PS4 и 3DS. Видно, что эти платформы имеют значительно высокие продажи отдельных игр, что также создает большие разбросы данных. Например, выбросы могут достигать более 10 миллионов копий для некоторых платформ.\n",
        "\n",
        "Среднее значение продаж игр на всех платформах составляет около 0.49 миллиона копий, тогда как медиана — около 0.11 миллиона копий. Это свидетельствует о том, что большая часть игр продается в пределах от 0 до 1 миллиона копий, и лишь немногие проекты достигают высоких продаж.\n",
        "\n",
        "На второй диаграмме с масштабированием до 2 миллионов копий мы видим более детализированное распределение продаж. Платформы PS4, XOne и WiiU демонстрируют более высокие медианные значения по сравнению с другими платформами, что делает их потенциально прибыльными на данный момент.\n",
        "\n",
        "PS4 и XOne выделяются как наиболее перспективные платформы для дальнейших вложений, так как их средние и медианные значения продаж заметно выше, чем у других."
      ]
    },
    {
      "cell_type": "markdown",
      "metadata": {
        "id": "rW-aRMi2JY09"
      },
      "source": [
        "#### Зависимость продаж от отзывов"
      ]
    },
    {
      "cell_type": "markdown",
      "metadata": {
        "id": "Z_cFIzfjNStI"
      },
      "source": [
        "В этом разделе мы исследуем, как пользовательские и критические отзывы влияют на продажи игр внутри одной популярной платформы. Для анализа выберем самую популярную платформу по продажам:"
      ]
    },
    {
      "cell_type": "code",
      "execution_count": null,
      "metadata": {
        "colab": {
          "base_uri": "https://localhost:8080/",
          "height": 272
        },
        "id": "ovkoKd66n2Bi",
        "outputId": "8b2e247b-f510-4a6b-ea68-6cb27b69d357"
      },
      "outputs": [
        {
          "data": {
            "text/plain": [
              "platform\n",
              "PS4     314.14\n",
              "PS3     181.43\n",
              "XOne    159.32\n",
              "3DS     143.25\n",
              "X360    136.80\n",
              "Name: total_sales, dtype: float64"
            ]
          },
          "execution_count": 40,
          "metadata": {},
          "output_type": "execute_result"
        }
      ],
      "source": [
        "data_actual.groupby('platform')['total_sales'].sum().sort_values(ascending=False).head()"
      ]
    },
    {
      "cell_type": "markdown",
      "metadata": {
        "id": "xJ-0SY8oN20R"
      },
      "source": [
        "Для самой популярной платформы PS4 создадим отдельный датафрейм только с ее играми:"
      ]
    },
    {
      "cell_type": "code",
      "execution_count": null,
      "metadata": {
        "colab": {
          "base_uri": "https://localhost:8080/",
          "height": 528
        },
        "id": "OKuhQRuM40Z0",
        "outputId": "84d03a0a-8ecb-455b-fa1a-62a717553106"
      },
      "outputs": [
        {
          "data": {
            "text/html": [
              "<div>\n",
              "<style scoped>\n",
              "    .dataframe tbody tr th:only-of-type {\n",
              "        vertical-align: middle;\n",
              "    }\n",
              "\n",
              "    .dataframe tbody tr th {\n",
              "        vertical-align: top;\n",
              "    }\n",
              "\n",
              "    .dataframe thead th {\n",
              "        text-align: right;\n",
              "    }\n",
              "</style>\n",
              "<table border=\"1\" class=\"dataframe\">\n",
              "  <thead>\n",
              "    <tr style=\"text-align: right;\">\n",
              "      <th></th>\n",
              "      <th>name</th>\n",
              "      <th>platform</th>\n",
              "      <th>year_of_release</th>\n",
              "      <th>genre</th>\n",
              "      <th>na_sales</th>\n",
              "      <th>eu_sales</th>\n",
              "      <th>jp_sales</th>\n",
              "      <th>other_sales</th>\n",
              "      <th>critic_score</th>\n",
              "      <th>user_score</th>\n",
              "      <th>rating</th>\n",
              "      <th>total_sales</th>\n",
              "    </tr>\n",
              "  </thead>\n",
              "  <tbody>\n",
              "    <tr>\n",
              "      <th>2</th>\n",
              "      <td>Call of Duty: Black Ops 3</td>\n",
              "      <td>PS4</td>\n",
              "      <td>2015-01-01</td>\n",
              "      <td>Shooter</td>\n",
              "      <td>6.03</td>\n",
              "      <td>5.86</td>\n",
              "      <td>0.36</td>\n",
              "      <td>2.38</td>\n",
              "      <td>NaN</td>\n",
              "      <td>NaN</td>\n",
              "      <td>unknown</td>\n",
              "      <td>14.63</td>\n",
              "    </tr>\n",
              "    <tr>\n",
              "      <th>4</th>\n",
              "      <td>Grand Theft Auto V</td>\n",
              "      <td>PS4</td>\n",
              "      <td>2014-01-01</td>\n",
              "      <td>Action</td>\n",
              "      <td>3.96</td>\n",
              "      <td>6.31</td>\n",
              "      <td>0.38</td>\n",
              "      <td>1.97</td>\n",
              "      <td>97.0</td>\n",
              "      <td>8.3</td>\n",
              "      <td>M</td>\n",
              "      <td>12.62</td>\n",
              "    </tr>\n",
              "    <tr>\n",
              "      <th>9</th>\n",
              "      <td>FIFA 16</td>\n",
              "      <td>PS4</td>\n",
              "      <td>2015-01-01</td>\n",
              "      <td>Sports</td>\n",
              "      <td>1.12</td>\n",
              "      <td>6.12</td>\n",
              "      <td>0.06</td>\n",
              "      <td>1.28</td>\n",
              "      <td>82.0</td>\n",
              "      <td>4.3</td>\n",
              "      <td>E</td>\n",
              "      <td>8.58</td>\n",
              "    </tr>\n",
              "    <tr>\n",
              "      <th>10</th>\n",
              "      <td>Star Wars Battlefront (2015)</td>\n",
              "      <td>PS4</td>\n",
              "      <td>2015-01-01</td>\n",
              "      <td>Shooter</td>\n",
              "      <td>2.99</td>\n",
              "      <td>3.49</td>\n",
              "      <td>0.22</td>\n",
              "      <td>1.28</td>\n",
              "      <td>NaN</td>\n",
              "      <td>NaN</td>\n",
              "      <td>unknown</td>\n",
              "      <td>7.98</td>\n",
              "    </tr>\n",
              "    <tr>\n",
              "      <th>11</th>\n",
              "      <td>Call of Duty: Advanced Warfare</td>\n",
              "      <td>PS4</td>\n",
              "      <td>2014-01-01</td>\n",
              "      <td>Shooter</td>\n",
              "      <td>2.81</td>\n",
              "      <td>3.48</td>\n",
              "      <td>0.14</td>\n",
              "      <td>1.23</td>\n",
              "      <td>83.0</td>\n",
              "      <td>5.7</td>\n",
              "      <td>M</td>\n",
              "      <td>7.66</td>\n",
              "    </tr>\n",
              "  </tbody>\n",
              "</table>\n",
              "</div>"
            ],
            "text/plain": [
              "                              name platform year_of_release    genre  \\\n",
              "2        Call of Duty: Black Ops 3      PS4      2015-01-01  Shooter   \n",
              "4               Grand Theft Auto V      PS4      2014-01-01   Action   \n",
              "9                          FIFA 16      PS4      2015-01-01   Sports   \n",
              "10    Star Wars Battlefront (2015)      PS4      2015-01-01  Shooter   \n",
              "11  Call of Duty: Advanced Warfare      PS4      2014-01-01  Shooter   \n",
              "\n",
              "    na_sales  eu_sales  jp_sales  other_sales  critic_score  user_score  \\\n",
              "2       6.03      5.86      0.36         2.38           NaN         NaN   \n",
              "4       3.96      6.31      0.38         1.97          97.0         8.3   \n",
              "9       1.12      6.12      0.06         1.28          82.0         4.3   \n",
              "10      2.99      3.49      0.22         1.28           NaN         NaN   \n",
              "11      2.81      3.48      0.14         1.23          83.0         5.7   \n",
              "\n",
              "     rating  total_sales  \n",
              "2   unknown        14.63  \n",
              "4         M        12.62  \n",
              "9         E         8.58  \n",
              "10  unknown         7.98  \n",
              "11        M         7.66  "
            ]
          },
          "execution_count": 41,
          "metadata": {},
          "output_type": "execute_result"
        }
      ],
      "source": [
        "data_top1= data_actual.query('platform == \"PS4\"')\n",
        "data_top1.head()"
      ]
    },
    {
      "cell_type": "markdown",
      "metadata": {
        "id": "zo6S9tncN_sm"
      },
      "source": [
        "Построим диаграммы рассеяния, чтобы наглядно увидеть зависимость между оценками и продажами и также рассчитаем коэффициент корреляции, чтобы количественно оценить силу связи между отзывами и продажами."
      ]
    },
    {
      "cell_type": "markdown",
      "metadata": {
        "id": "iJJJtf-oOHt1"
      },
      "source": [
        "Сначала найдем зависимость продаж от пользовательйской оценки user_score:"
      ]
    },
    {
      "cell_type": "code",
      "execution_count": null,
      "metadata": {
        "colab": {
          "base_uri": "https://localhost:8080/",
          "height": 564
        },
        "id": "4uXa_TEF8T-6",
        "outputId": "471ef556-3c65-48d4-833b-c49a3d2e4d92"
      },
      "outputs": [
        {
          "data": {
            "image/png": "[encoded data removed]",
            "text/plain": [
              "<Figure size 864x432 with 1 Axes>"
            ]
          },
          "metadata": {
            "needs_background": "light"
          },
          "output_type": "display_data"
        }
      ],
      "source": [
        "data_top1.plot(\n",
        "    kind='scatter',\n",
        "    x='user_score',\n",
        "    y='total_sales',\n",
        "    figsize=(12, 6),\n",
        "    grid=True,\n",
        "    legend=False\n",
        ")\n",
        "plt.title('Зависимость продаж PS4 от пользовательской оценки')\n",
        "plt.xlabel('Оценка пользователей')\n",
        "plt.ylabel('Продажи (миллионы)')\n",
        "plt.show()"
      ]
    },
    {
      "cell_type": "code",
      "execution_count": null,
      "metadata": {
        "colab": {
          "base_uri": "https://localhost:8080/"
        },
        "id": "8mimZZ-i80Cv",
        "outputId": "4d788f1f-3efd-4d23-a8a6-baf38c754fae"
      },
      "outputs": [
        {
          "data": {
            "text/plain": [
              "-0.031957110204556376"
            ]
          },
          "execution_count": 43,
          "metadata": {},
          "output_type": "execute_result"
        }
      ],
      "source": [
        "data_top1['total_sales'].corr(data_top1['user_score'])"
      ]
    },
    {
      "cell_type": "markdown",
      "metadata": {
        "id": "rCjo_Wk0OTtb"
      },
      "source": [
        "Далее аналогичным образом рассчитаем зависимость от оценки критиков critic_score:"
      ]
    },
    {
      "cell_type": "code",
      "execution_count": null,
      "metadata": {
        "colab": {
          "base_uri": "https://localhost:8080/",
          "height": 564
        },
        "id": "P0QYzFi15kGv",
        "outputId": "2ef5549a-85a3-4e0a-da9b-1d0f12b2f2ff"
      },
      "outputs": [
        {
          "data": {
            "image/png": "[encoded data removed]",
            "text/plain": [
              "<Figure size 864x432 with 1 Axes>"
            ]
          },
          "metadata": {
            "needs_background": "light"
          },
          "output_type": "display_data"
        }
      ],
      "source": [
        "data_top1.plot(\n",
        "    kind='scatter',\n",
        "    x='critic_score',\n",
        "    y='total_sales',\n",
        "    figsize=(12, 6),\n",
        "    grid=True,\n",
        "    legend=False\n",
        ")\n",
        "plt.title('Зависимость продаж PS4 от оценки критиков')\n",
        "plt.xlabel('Оценка критиков')\n",
        "plt.ylabel('Продажи (миллионы)')\n",
        "plt.show()"
      ]
    },
    {
      "cell_type": "code",
      "execution_count": null,
      "metadata": {
        "colab": {
          "base_uri": "https://localhost:8080/"
        },
        "id": "f0KhXiwn8633",
        "outputId": "a47b2c18-4592-432c-d35a-c6e14dfaf9cc"
      },
      "outputs": [
        {
          "data": {
            "text/plain": [
              "0.406567902061781"
            ]
          },
          "execution_count": 45,
          "metadata": {},
          "output_type": "execute_result"
        }
      ],
      "source": [
        "data_top1['total_sales'].corr(data_top1['critic_score'])"
      ]
    },
    {
      "cell_type": "markdown",
      "metadata": {
        "id": "GwV-GiPyHIss"
      },
      "source": [
        "На основе диаграмм рассеяния и рассчитанных значений корреляции для платформы PS4 можно сделать следующие выводы:\n",
        "\n",
        "- Влияние оценки пользователей: Корреляция между оценкой пользователей и продажами составила -0.03, что указывает на практически полное отсутствие зависимости. Это означает, что пользовательские оценки практически не влияют на уровень продаж игр.\n",
        "\n",
        "- Влияние оценки критиков: Корреляция между оценкой критиков и продажами составила 0.39, что указывает на умеренную положительную зависимость. Игры с высокими оценками критиков чаще имеют лучшие продажи, но данная зависимость не является решающей.\n",
        "\n",
        "Таким образом, хотя оценки критиков играют некоторую роль в формировании успешных продаж игр, пользовательские отзывы для платформы PS4 почти не оказывают влияния на продажи."
      ]
    },
    {
      "cell_type": "markdown",
      "metadata": {
        "id": "XfW1CQllOfeS"
      },
      "source": [
        "Рассмотрим применяется ли данная логика для всех платформ. Для этого построим диаграммы рассеяния для определения зависимости для остальных платформ в топ 5 популярных."
      ]
    },
    {
      "cell_type": "code",
      "execution_count": null,
      "metadata": {
        "scrolled": true,
        "id": "WO3-2DmG-iMF",
        "outputId": "8ce3b97f-ddf9-4927-b049-74f7e00dbcf2"
      },
      "outputs": [
        {
          "data": {
            "image/png": "[encoded data removed]",
            "text/plain": [
              "<Figure size 432x288 with 1 Axes>"
            ]
          },
          "metadata": {
            "needs_background": "light"
          },
          "output_type": "display_data"
        },
        {
          "data": {
            "image/png": "[encoded data removed]",
            "text/plain": [
              "<Figure size 432x288 with 1 Axes>"
            ]
          },
          "metadata": {
            "needs_background": "light"
          },
          "output_type": "display_data"
        },
        {
          "data": {
            "image/png": "[encoded data removed]",
            "text/plain": [
              "<Figure size 432x288 with 1 Axes>"
            ]
          },
          "metadata": {
            "needs_background": "light"
          },
          "output_type": "display_data"
        },
        {
          "data": {
            "image/png": "[encoded data removed]",
            "text/plain": [
              "<Figure size 432x288 with 1 Axes>"
            ]
          },
          "metadata": {
            "needs_background": "light"
          },
          "output_type": "display_data"
        }
      ],
      "source": [
        "#список платформ\n",
        "platforms = ['PS3', 'XOne', '3DS', 'X360']\n",
        "\n",
        "#цикл для построения диаграмм\n",
        "for platform in platforms:\n",
        "    platform_data = data_actual[data_actual['platform'] == platform]  #фильтруем данные по платформе\n",
        "    plt.scatter(platform_data['user_score'], platform_data['total_sales'])\n",
        "    plt.title(f'Зависимость продаж от пользовательской оценки для {platform}')\n",
        "    plt.xlabel('Оценка пользователей')\n",
        "    plt.ylabel('Продажи (в миллионах)')\n",
        "    plt.grid(True)\n",
        "    plt.show()"
      ]
    },
    {
      "cell_type": "code",
      "execution_count": null,
      "metadata": {
        "id": "IZcbC67e-iMF",
        "outputId": "a5ce95b5-f747-4a18-fcab-1020c01edd3a"
      },
      "outputs": [
        {
          "data": {
            "image/png": "[encoded data removed]",
            "text/plain": [
              "<Figure size 432x288 with 1 Axes>"
            ]
          },
          "metadata": {
            "needs_background": "light"
          },
          "output_type": "display_data"
        },
        {
          "data": {
            "image/png": "[encoded data removed]",
            "text/plain": [
              "<Figure size 432x288 with 1 Axes>"
            ]
          },
          "metadata": {
            "needs_background": "light"
          },
          "output_type": "display_data"
        },
        {
          "data": {
            "image/png": "[encoded data removed]",
            "text/plain": [
              "<Figure size 432x288 with 1 Axes>"
            ]
          },
          "metadata": {
            "needs_background": "light"
          },
          "output_type": "display_data"
        },
        {
          "data": {
            "image/png": "[encoded data removed]",
            "text/plain": [
              "<Figure size 432x288 with 1 Axes>"
            ]
          },
          "metadata": {
            "needs_background": "light"
          },
          "output_type": "display_data"
        }
      ],
      "source": [
        "#список платформ\n",
        "platforms = ['PS3', 'XOne', '3DS', 'X360']\n",
        "\n",
        "#цикл для построения диаграмм\n",
        "for platform in platforms:\n",
        "    platform_data = data_actual[data_actual['platform'] == platform]  #фильтруем данные по платформе\n",
        "    plt.scatter(platform_data['critic_score'], platform_data['total_sales'])\n",
        "    plt.title(f'Зависимость продаж от оценки критиков для {platform}')\n",
        "    plt.xlabel('Оценка критиков')\n",
        "    plt.ylabel('Продажи (в миллионах)')\n",
        "    plt.grid(True)\n",
        "    plt.show()\n"
      ]
    },
    {
      "cell_type": "markdown",
      "metadata": {
        "id": "b8Mviwqk-iMF"
      },
      "source": [
        "Также для каждой платформы дополнительно рассчитаем коэффициент корреляции:"
      ]
    },
    {
      "cell_type": "code",
      "execution_count": null,
      "metadata": {
        "id": "HuU7Tjrp-iMF",
        "outputId": "4affcd50-c136-4fad-eb9d-902b154927f6"
      },
      "outputs": [
        {
          "name": "stdout",
          "output_type": "stream",
          "text": [
            "Платформа: PS3\n",
            "Корреляция с оценкой пользователей: 0.00\n",
            "Корреляция с оценкой критиков: 0.33\n",
            "\n",
            "Платформа: XOne\n",
            "Корреляция с оценкой пользователей: -0.07\n",
            "Корреляция с оценкой критиков: 0.42\n",
            "\n",
            "Платформа: 3DS\n",
            "Корреляция с оценкой пользователей: 0.24\n",
            "Корреляция с оценкой критиков: 0.36\n",
            "\n",
            "Платформа: X360\n",
            "Корреляция с оценкой пользователей: -0.01\n",
            "Корреляция с оценкой критиков: 0.35\n",
            "\n"
          ]
        }
      ],
      "source": [
        "platforms = ['PS3', 'XOne', '3DS', 'X360']\n",
        "\n",
        "for platform in platforms:\n",
        "    platform_data = data_actual[data_actual['platform'] == platform]\n",
        "    user_corr = platform_data['total_sales'].corr(platform_data['user_score'])\n",
        "    critic_corr = platform_data['total_sales'].corr(platform_data['critic_score'])\n",
        "\n",
        "    print(f\"Платформа: {platform}\")\n",
        "    print(f\"Корреляция с оценкой пользователей: {user_corr:.2f}\")\n",
        "    print(f\"Корреляция с оценкой критиков: {critic_corr:.2f}\")\n",
        "    print()"
      ]
    },
    {
      "cell_type": "markdown",
      "metadata": {
        "id": "0jBy_4_bPwv2"
      },
      "source": [
        "На основе новых данных можно сделать вывод, что на всех платформах отзывы критиков оказывают более сильное влияние на продажи, чем отзывы пользователей. Корреляция с оценками пользователей либо очень слабая, либо даже отрицательная, что указывает на незначительное влияние этого фактора. В то же время, положительная корреляция с оценками критиков присутствует на всех платформах, но она также не является высокой, что подтверждает вывод о том, что на продажи влияют и другие факторы."
      ]
    },
    {
      "cell_type": "markdown",
      "metadata": {
        "id": "Ie51oDl6PnD6"
      },
      "source": [
        "#### Распределение игр по жанрам"
      ]
    },
    {
      "cell_type": "markdown",
      "metadata": {
        "id": "ZqAwExoRQrFY"
      },
      "source": [
        "Жанр игры — это одна из ключевых характеристик, которая напрямую влияет на восприятие, популярность и успешность игры на рынке. Каждый жанр привлекает определённую аудиторию с особыми ожиданиями, что отражается на объёмах продаж и стратегии продвижения. Чтобы лучше понять тенденции, начнем с анализа распределения игр по жанрам за актуальный период:"
      ]
    },
    {
      "cell_type": "code",
      "execution_count": null,
      "metadata": {
        "colab": {
          "base_uri": "https://localhost:8080/",
          "height": 457
        },
        "id": "d6BIU_SmJ-TU",
        "outputId": "701bbe5a-6fad-46b9-b27f-476679197557"
      },
      "outputs": [
        {
          "data": {
            "text/html": [
              "<div>\n",
              "<style scoped>\n",
              "    .dataframe tbody tr th:only-of-type {\n",
              "        vertical-align: middle;\n",
              "    }\n",
              "\n",
              "    .dataframe tbody tr th {\n",
              "        vertical-align: top;\n",
              "    }\n",
              "\n",
              "    .dataframe thead th {\n",
              "        text-align: right;\n",
              "    }\n",
              "</style>\n",
              "<table border=\"1\" class=\"dataframe\">\n",
              "  <thead>\n",
              "    <tr style=\"text-align: right;\">\n",
              "      <th></th>\n",
              "      <th>name</th>\n",
              "    </tr>\n",
              "    <tr>\n",
              "      <th>genre</th>\n",
              "      <th></th>\n",
              "    </tr>\n",
              "  </thead>\n",
              "  <tbody>\n",
              "    <tr>\n",
              "      <th>Action</th>\n",
              "      <td>766</td>\n",
              "    </tr>\n",
              "    <tr>\n",
              "      <th>Role-Playing</th>\n",
              "      <td>292</td>\n",
              "    </tr>\n",
              "    <tr>\n",
              "      <th>Adventure</th>\n",
              "      <td>245</td>\n",
              "    </tr>\n",
              "    <tr>\n",
              "      <th>Sports</th>\n",
              "      <td>214</td>\n",
              "    </tr>\n",
              "    <tr>\n",
              "      <th>Shooter</th>\n",
              "      <td>187</td>\n",
              "    </tr>\n",
              "    <tr>\n",
              "      <th>Misc</th>\n",
              "      <td>155</td>\n",
              "    </tr>\n",
              "    <tr>\n",
              "      <th>Racing</th>\n",
              "      <td>85</td>\n",
              "    </tr>\n",
              "    <tr>\n",
              "      <th>Fighting</th>\n",
              "      <td>80</td>\n",
              "    </tr>\n",
              "    <tr>\n",
              "      <th>Platform</th>\n",
              "      <td>74</td>\n",
              "    </tr>\n",
              "    <tr>\n",
              "      <th>Simulation</th>\n",
              "      <td>62</td>\n",
              "    </tr>\n",
              "    <tr>\n",
              "      <th>Strategy</th>\n",
              "      <td>56</td>\n",
              "    </tr>\n",
              "    <tr>\n",
              "      <th>Puzzle</th>\n",
              "      <td>17</td>\n",
              "    </tr>\n",
              "  </tbody>\n",
              "</table>\n",
              "</div>"
            ],
            "text/plain": [
              "              name\n",
              "genre             \n",
              "Action         766\n",
              "Role-Playing   292\n",
              "Adventure      245\n",
              "Sports         214\n",
              "Shooter        187\n",
              "Misc           155\n",
              "Racing          85\n",
              "Fighting        80\n",
              "Platform        74\n",
              "Simulation      62\n",
              "Strategy        56\n",
              "Puzzle          17"
            ]
          },
          "execution_count": 49,
          "metadata": {},
          "output_type": "execute_result"
        }
      ],
      "source": [
        "data_actual.pivot_table(\n",
        "    index='genre',\n",
        "    values='name',\n",
        "    aggfunc='count'\n",
        ").sort_values(by='name', ascending=False)"
      ]
    },
    {
      "cell_type": "markdown",
      "metadata": {
        "id": "qS4L7qiXRq2q"
      },
      "source": [
        "Теперь посмотрим как в тот же актуальный период распределились глобальные продажи игр в зависимости от жанров:"
      ]
    },
    {
      "cell_type": "code",
      "execution_count": null,
      "metadata": {
        "colab": {
          "base_uri": "https://localhost:8080/",
          "height": 457
        },
        "id": "W0uHLxZcCNS6",
        "outputId": "4fd3c1e4-61f6-4057-949e-e99ed4605b39"
      },
      "outputs": [
        {
          "data": {
            "text/html": [
              "<div>\n",
              "<style scoped>\n",
              "    .dataframe tbody tr th:only-of-type {\n",
              "        vertical-align: middle;\n",
              "    }\n",
              "\n",
              "    .dataframe tbody tr th {\n",
              "        vertical-align: top;\n",
              "    }\n",
              "\n",
              "    .dataframe thead th {\n",
              "        text-align: right;\n",
              "    }\n",
              "</style>\n",
              "<table border=\"1\" class=\"dataframe\">\n",
              "  <thead>\n",
              "    <tr style=\"text-align: right;\">\n",
              "      <th></th>\n",
              "      <th>total_sales</th>\n",
              "    </tr>\n",
              "    <tr>\n",
              "      <th>genre</th>\n",
              "      <th></th>\n",
              "    </tr>\n",
              "  </thead>\n",
              "  <tbody>\n",
              "    <tr>\n",
              "      <th>Shooter</th>\n",
              "      <td>0.450</td>\n",
              "    </tr>\n",
              "    <tr>\n",
              "      <th>Sports</th>\n",
              "      <td>0.240</td>\n",
              "    </tr>\n",
              "    <tr>\n",
              "      <th>Platform</th>\n",
              "      <td>0.225</td>\n",
              "    </tr>\n",
              "    <tr>\n",
              "      <th>Role-Playing</th>\n",
              "      <td>0.125</td>\n",
              "    </tr>\n",
              "    <tr>\n",
              "      <th>Fighting</th>\n",
              "      <td>0.125</td>\n",
              "    </tr>\n",
              "    <tr>\n",
              "      <th>Racing</th>\n",
              "      <td>0.120</td>\n",
              "    </tr>\n",
              "    <tr>\n",
              "      <th>Action</th>\n",
              "      <td>0.110</td>\n",
              "    </tr>\n",
              "    <tr>\n",
              "      <th>Simulation</th>\n",
              "      <td>0.100</td>\n",
              "    </tr>\n",
              "    <tr>\n",
              "      <th>Misc</th>\n",
              "      <td>0.100</td>\n",
              "    </tr>\n",
              "    <tr>\n",
              "      <th>Strategy</th>\n",
              "      <td>0.080</td>\n",
              "    </tr>\n",
              "    <tr>\n",
              "      <th>Puzzle</th>\n",
              "      <td>0.060</td>\n",
              "    </tr>\n",
              "    <tr>\n",
              "      <th>Adventure</th>\n",
              "      <td>0.030</td>\n",
              "    </tr>\n",
              "  </tbody>\n",
              "</table>\n",
              "</div>"
            ],
            "text/plain": [
              "              total_sales\n",
              "genre                    \n",
              "Shooter             0.450\n",
              "Sports              0.240\n",
              "Platform            0.225\n",
              "Role-Playing        0.125\n",
              "Fighting            0.125\n",
              "Racing              0.120\n",
              "Action              0.110\n",
              "Simulation          0.100\n",
              "Misc                0.100\n",
              "Strategy            0.080\n",
              "Puzzle              0.060\n",
              "Adventure           0.030"
            ]
          },
          "execution_count": 50,
          "metadata": {},
          "output_type": "execute_result"
        }
      ],
      "source": [
        "data_actual.pivot_table(\n",
        "    index='genre',\n",
        "    values='total_sales',\n",
        "    aggfunc='median'\n",
        ").sort_values(by='total_sales', ascending=False)"
      ]
    },
    {
      "cell_type": "code",
      "execution_count": null,
      "metadata": {
        "id": "4mSyzq-7-iMG",
        "outputId": "78be81ef-6ebb-4d72-9541-627c8cd948cc"
      },
      "outputs": [
        {
          "data": {
            "image/png": "[encoded data removed]",
            "text/plain": [
              "<Figure size 720x432 with 1 Axes>"
            ]
          },
          "metadata": {
            "needs_background": "light"
          },
          "output_type": "display_data"
        }
      ],
      "source": [
        "# Построим boxplot для жанров\n",
        "plt.figure(figsize=(10, 6))\n",
        "plt.ylim(0,5)\n",
        "sns.boxplot(data=data_actual, x='genre', y='total_sales')\n",
        "plt.title('Распределение продаж по жанрам (boxplot)')\n",
        "plt.xticks(rotation=45)\n",
        "plt.grid(True)\n",
        "plt.show()"
      ]
    },
    {
      "cell_type": "markdown",
      "metadata": {
        "id": "oNjWzYbmR7XX"
      },
      "source": [
        "**Выводы:**\n",
        "\n",
        "1) Жанры с высокими продажами: Shooter и Sports выделяются на фоне других жанров как по медианным, так и по суммарным продажам. Это говорит о том, что в этих жанрах есть как отдельные игры-блокбастеры, так и стабильные продажи в среднем. Platform также показывает хорошие показатели, занимая третье место по медианным продажам, что свидетельствует о его стабильной популярности.\n",
        "\n",
        "2) Жанры со средними продажами: Role-Playing, Fighting, Racing демонстрируют медианные продажи на уровне около 0.12-0.13 миллионов копий. Это значит, что эти жанры не так сильно выделяются среди топов, но также могут приносить доход.\n",
        "\n",
        "3) Жанры с низкими продажами: Action, Simulation, Misc, Strategy, Puzzle, и Adventure показывают наиболее низкие медианные значения продаж. Несмотря на большое количество выпущенных игр, продажи в этих жанрах в среднем ниже, что может говорить о более высоком уровне конкуренции или меньшей привлекательности для аудитории.\n",
        "\n",
        "Таким образом, жанры Shooter, Sports, и Platform выглядят наиболее прибыльными с точки зрения стабильных продаж, в то время как такие жанры как Puzzle и Adventure характеризуются наименьшими продажами."
      ]
    },
    {
      "cell_type": "markdown",
      "metadata": {
        "id": "cM6fXq2VPR4v"
      },
      "source": [
        "### Составление портретов пользователей"
      ]
    },
    {
      "cell_type": "markdown",
      "metadata": {
        "id": "rMyxZxIyz2yv"
      },
      "source": [
        "Согласно нашему датафрейму, пользователи интернет-магазина «Стримчик» делятся на несколько категорий по регионам, среди которых основными являются Северная Америка, Европа и Япония. Также имеются данные по продажам в других странах, однако акцент анализа будет сделан на трёх ключевых регионах. Продажи игр могут значительно различаться в зависимости от региона, и наша задача — выяснить, какие платформы и жанры игр популярны в каждом регионе, а также как на них влияет рейтинг ESRB. Для анализа будут использованы функции, которые помогут выявить топ платформ, жанров и оценить влияние рейтингов на продажи."
      ]
    },
    {
      "cell_type": "code",
      "execution_count": null,
      "metadata": {
        "id": "fhd7wvk63hZO"
      },
      "outputs": [],
      "source": [
        "def get_top_platform(data, region_sales):\n",
        "    \"\"\"\n",
        "    Функция для получения топ-платформ\n",
        "    по заданному региону продаж и их доли в общей сумме продаж.\n",
        "    \"\"\"\n",
        "    total_sales = data[region_sales].sum()\n",
        "    top_platform = data.pivot_table(\n",
        "        index='platform',\n",
        "        values=region_sales,\n",
        "        aggfunc='sum'\n",
        "    ).sort_values(by=region_sales, ascending=False).head()\n",
        "    top_platform['share'] = top_platform[region_sales] / total_sales\n",
        "    return top_platform"
      ]
    },
    {
      "cell_type": "code",
      "execution_count": null,
      "metadata": {
        "id": "8JBqDjOX6S4t"
      },
      "outputs": [],
      "source": [
        "def get_top_genres(data, region_sales):\n",
        "    \"\"\"\n",
        "    Функция для получения топ-жанров\n",
        "    по заданному региону продаж.\n",
        "    \"\"\"\n",
        "    top_genres = data.pivot_table(\n",
        "        index='genre',\n",
        "        values=region_sales,\n",
        "        aggfunc='sum'\n",
        "    ).sort_values(by=region_sales, ascending=False).head()\n",
        "    return top_genres"
      ]
    },
    {
      "cell_type": "code",
      "execution_count": null,
      "metadata": {
        "id": "WcvWIJaD9oOt"
      },
      "outputs": [],
      "source": [
        "def get_rating_sales(data, region_sales):\n",
        "    \"\"\"\n",
        "    Функция для расчета суммы продаж по каждому рейтингу\n",
        "    \"\"\"\n",
        "    rating_sales = data.pivot_table(\n",
        "        index='rating',\n",
        "        values=region_sales,\n",
        "        aggfunc='sum'\n",
        "    ).sort_values(by=region_sales, ascending=False)\n",
        "    rating_sales['share'] = rating_sales[region_sales] / rating_sales[region_sales].sum()\n",
        "    return rating_sales"
      ]
    },
    {
      "cell_type": "markdown",
      "metadata": {
        "id": "WaNOIxvOI4gO"
      },
      "source": [
        "#### Портрет пользователей Северной Америки (NA)"
      ]
    },
    {
      "cell_type": "markdown",
      "metadata": {
        "id": "h8TFA55oBdM3"
      },
      "source": [
        "Рассмотрим подробнее показатели для пользователей региона Северной Америки:"
      ]
    },
    {
      "cell_type": "code",
      "execution_count": null,
      "metadata": {
        "colab": {
          "base_uri": "https://localhost:8080/",
          "height": 238
        },
        "id": "HLYwKt1T4d3u",
        "outputId": "01557488-7027-404a-8bf5-52b86a56bbba"
      },
      "outputs": [
        {
          "data": {
            "text/html": [
              "<div>\n",
              "<style scoped>\n",
              "    .dataframe tbody tr th:only-of-type {\n",
              "        vertical-align: middle;\n",
              "    }\n",
              "\n",
              "    .dataframe tbody tr th {\n",
              "        vertical-align: top;\n",
              "    }\n",
              "\n",
              "    .dataframe thead th {\n",
              "        text-align: right;\n",
              "    }\n",
              "</style>\n",
              "<table border=\"1\" class=\"dataframe\">\n",
              "  <thead>\n",
              "    <tr style=\"text-align: right;\">\n",
              "      <th></th>\n",
              "      <th>na_sales</th>\n",
              "      <th>share</th>\n",
              "    </tr>\n",
              "    <tr>\n",
              "      <th>platform</th>\n",
              "      <th></th>\n",
              "      <th></th>\n",
              "    </tr>\n",
              "  </thead>\n",
              "  <tbody>\n",
              "    <tr>\n",
              "      <th>PS4</th>\n",
              "      <td>108.74</td>\n",
              "      <td>0.248429</td>\n",
              "    </tr>\n",
              "    <tr>\n",
              "      <th>XOne</th>\n",
              "      <td>93.12</td>\n",
              "      <td>0.212744</td>\n",
              "    </tr>\n",
              "    <tr>\n",
              "      <th>X360</th>\n",
              "      <td>81.66</td>\n",
              "      <td>0.186562</td>\n",
              "    </tr>\n",
              "    <tr>\n",
              "      <th>PS3</th>\n",
              "      <td>63.50</td>\n",
              "      <td>0.145073</td>\n",
              "    </tr>\n",
              "    <tr>\n",
              "      <th>3DS</th>\n",
              "      <td>38.20</td>\n",
              "      <td>0.087272</td>\n",
              "    </tr>\n",
              "  </tbody>\n",
              "</table>\n",
              "</div>"
            ],
            "text/plain": [
              "          na_sales     share\n",
              "platform                    \n",
              "PS4         108.74  0.248429\n",
              "XOne         93.12  0.212744\n",
              "X360         81.66  0.186562\n",
              "PS3          63.50  0.145073\n",
              "3DS          38.20  0.087272"
            ]
          },
          "execution_count": 55,
          "metadata": {},
          "output_type": "execute_result"
        }
      ],
      "source": [
        "platform_na_sales = get_top_platform(data_actual, 'na_sales')\n",
        "platform_na_sales"
      ]
    },
    {
      "cell_type": "code",
      "execution_count": null,
      "metadata": {
        "colab": {
          "base_uri": "https://localhost:8080/",
          "height": 238
        },
        "id": "i_-IgQHP9ebH",
        "outputId": "73ff7845-ffc7-4b85-f0fa-f33dc89685ea"
      },
      "outputs": [
        {
          "data": {
            "text/html": [
              "<div>\n",
              "<style scoped>\n",
              "    .dataframe tbody tr th:only-of-type {\n",
              "        vertical-align: middle;\n",
              "    }\n",
              "\n",
              "    .dataframe tbody tr th {\n",
              "        vertical-align: top;\n",
              "    }\n",
              "\n",
              "    .dataframe thead th {\n",
              "        text-align: right;\n",
              "    }\n",
              "</style>\n",
              "<table border=\"1\" class=\"dataframe\">\n",
              "  <thead>\n",
              "    <tr style=\"text-align: right;\">\n",
              "      <th></th>\n",
              "      <th>na_sales</th>\n",
              "    </tr>\n",
              "    <tr>\n",
              "      <th>genre</th>\n",
              "      <th></th>\n",
              "    </tr>\n",
              "  </thead>\n",
              "  <tbody>\n",
              "    <tr>\n",
              "      <th>Action</th>\n",
              "      <td>126.05</td>\n",
              "    </tr>\n",
              "    <tr>\n",
              "      <th>Shooter</th>\n",
              "      <td>109.74</td>\n",
              "    </tr>\n",
              "    <tr>\n",
              "      <th>Sports</th>\n",
              "      <td>65.27</td>\n",
              "    </tr>\n",
              "    <tr>\n",
              "      <th>Role-Playing</th>\n",
              "      <td>46.40</td>\n",
              "    </tr>\n",
              "    <tr>\n",
              "      <th>Misc</th>\n",
              "      <td>27.49</td>\n",
              "    </tr>\n",
              "  </tbody>\n",
              "</table>\n",
              "</div>"
            ],
            "text/plain": [
              "              na_sales\n",
              "genre                 \n",
              "Action          126.05\n",
              "Shooter         109.74\n",
              "Sports           65.27\n",
              "Role-Playing     46.40\n",
              "Misc             27.49"
            ]
          },
          "execution_count": 56,
          "metadata": {},
          "output_type": "execute_result"
        }
      ],
      "source": [
        "genres_na_sales = get_top_genres(data_actual, 'na_sales')\n",
        "genres_na_sales"
      ]
    },
    {
      "cell_type": "code",
      "execution_count": null,
      "metadata": {
        "colab": {
          "base_uri": "https://localhost:8080/",
          "height": 300
        },
        "id": "WtcxfsJZBRXl",
        "outputId": "656f372d-9ea0-498d-ba85-8450f52764dd"
      },
      "outputs": [
        {
          "data": {
            "text/html": [
              "<div>\n",
              "<style scoped>\n",
              "    .dataframe tbody tr th:only-of-type {\n",
              "        vertical-align: middle;\n",
              "    }\n",
              "\n",
              "    .dataframe tbody tr th {\n",
              "        vertical-align: top;\n",
              "    }\n",
              "\n",
              "    .dataframe thead th {\n",
              "        text-align: right;\n",
              "    }\n",
              "</style>\n",
              "<table border=\"1\" class=\"dataframe\">\n",
              "  <thead>\n",
              "    <tr style=\"text-align: right;\">\n",
              "      <th></th>\n",
              "      <th>na_sales</th>\n",
              "      <th>share</th>\n",
              "    </tr>\n",
              "    <tr>\n",
              "      <th>rating</th>\n",
              "      <th></th>\n",
              "      <th></th>\n",
              "    </tr>\n",
              "  </thead>\n",
              "  <tbody>\n",
              "    <tr>\n",
              "      <th>M</th>\n",
              "      <td>165.21</td>\n",
              "      <td>0.377442</td>\n",
              "    </tr>\n",
              "    <tr>\n",
              "      <th>unknown</th>\n",
              "      <td>89.42</td>\n",
              "      <td>0.204291</td>\n",
              "    </tr>\n",
              "    <tr>\n",
              "      <th>E</th>\n",
              "      <td>79.05</td>\n",
              "      <td>0.180599</td>\n",
              "    </tr>\n",
              "    <tr>\n",
              "      <th>E10+</th>\n",
              "      <td>54.24</td>\n",
              "      <td>0.123918</td>\n",
              "    </tr>\n",
              "    <tr>\n",
              "      <th>T</th>\n",
              "      <td>49.79</td>\n",
              "      <td>0.113751</td>\n",
              "    </tr>\n",
              "  </tbody>\n",
              "</table>\n",
              "</div>"
            ],
            "text/plain": [
              "         na_sales     share\n",
              "rating                     \n",
              "M          165.21  0.377442\n",
              "unknown     89.42  0.204291\n",
              "E           79.05  0.180599\n",
              "E10+        54.24  0.123918\n",
              "T           49.79  0.113751"
            ]
          },
          "execution_count": 57,
          "metadata": {},
          "output_type": "execute_result"
        }
      ],
      "source": [
        "na_rating_sales = get_rating_sales(data_actual, 'na_sales')\n",
        "na_rating_sales"
      ]
    },
    {
      "cell_type": "markdown",
      "metadata": {
        "id": "mw_NyGOwEcc6"
      },
      "source": [
        "Среди пользователей Северной Америки наибольшей популярностью пользуются платформы PS4 и XOne, которые доминируют по продажам. Платформы X360 и PS3 также занимают значительную долю рынка, хотя и находятся на стадии спада. Жанры экшен, шутеры и спортивные игры остаются наиболее востребованными, благодаря динамичному и увлекательному геймплею. В рейтинге по возрастным категориям лидируют игры с рейтингом 'M' (Mature — для взрослых), однако значительная доля продаж приходится на игры с неопределённым рейтингом \"unknown\". Игры с рейтингом 'E' для всех возрастов также популярны, отражая спрос на семейные и доступные для всех возрастов проекты."
      ]
    },
    {
      "cell_type": "markdown",
      "metadata": {
        "id": "We00h6V_JAeH"
      },
      "source": [
        "#### Портрет пользователей Европы (EU)"
      ]
    },
    {
      "cell_type": "code",
      "execution_count": null,
      "metadata": {
        "colab": {
          "base_uri": "https://localhost:8080/",
          "height": 238
        },
        "id": "rAtU78092RJ7",
        "outputId": "65bdb1c1-3af4-41c0-bbc1-22585daa1ea5"
      },
      "outputs": [
        {
          "data": {
            "text/html": [
              "<div>\n",
              "<style scoped>\n",
              "    .dataframe tbody tr th:only-of-type {\n",
              "        vertical-align: middle;\n",
              "    }\n",
              "\n",
              "    .dataframe tbody tr th {\n",
              "        vertical-align: top;\n",
              "    }\n",
              "\n",
              "    .dataframe thead th {\n",
              "        text-align: right;\n",
              "    }\n",
              "</style>\n",
              "<table border=\"1\" class=\"dataframe\">\n",
              "  <thead>\n",
              "    <tr style=\"text-align: right;\">\n",
              "      <th></th>\n",
              "      <th>eu_sales</th>\n",
              "      <th>share</th>\n",
              "    </tr>\n",
              "    <tr>\n",
              "      <th>platform</th>\n",
              "      <th></th>\n",
              "      <th></th>\n",
              "    </tr>\n",
              "  </thead>\n",
              "  <tbody>\n",
              "    <tr>\n",
              "      <th>PS4</th>\n",
              "      <td>141.09</td>\n",
              "      <td>0.359712</td>\n",
              "    </tr>\n",
              "    <tr>\n",
              "      <th>PS3</th>\n",
              "      <td>67.81</td>\n",
              "      <td>0.172883</td>\n",
              "    </tr>\n",
              "    <tr>\n",
              "      <th>XOne</th>\n",
              "      <td>51.59</td>\n",
              "      <td>0.131530</td>\n",
              "    </tr>\n",
              "    <tr>\n",
              "      <th>X360</th>\n",
              "      <td>42.52</td>\n",
              "      <td>0.108406</td>\n",
              "    </tr>\n",
              "    <tr>\n",
              "      <th>3DS</th>\n",
              "      <td>30.96</td>\n",
              "      <td>0.078933</td>\n",
              "    </tr>\n",
              "  </tbody>\n",
              "</table>\n",
              "</div>"
            ],
            "text/plain": [
              "          eu_sales     share\n",
              "platform                    \n",
              "PS4         141.09  0.359712\n",
              "PS3          67.81  0.172883\n",
              "XOne         51.59  0.131530\n",
              "X360         42.52  0.108406\n",
              "3DS          30.96  0.078933"
            ]
          },
          "execution_count": 58,
          "metadata": {},
          "output_type": "execute_result"
        }
      ],
      "source": [
        "platform_eu_sales = get_top_platform(data_actual, 'eu_sales')\n",
        "platform_eu_sales"
      ]
    },
    {
      "cell_type": "code",
      "execution_count": null,
      "metadata": {
        "colab": {
          "base_uri": "https://localhost:8080/",
          "height": 238
        },
        "id": "jTKE8wjvJMkC",
        "outputId": "74b9cdb0-0f3e-4fd7-9f3f-bc0269317b2d"
      },
      "outputs": [
        {
          "data": {
            "text/html": [
              "<div>\n",
              "<style scoped>\n",
              "    .dataframe tbody tr th:only-of-type {\n",
              "        vertical-align: middle;\n",
              "    }\n",
              "\n",
              "    .dataframe tbody tr th {\n",
              "        vertical-align: top;\n",
              "    }\n",
              "\n",
              "    .dataframe thead th {\n",
              "        text-align: right;\n",
              "    }\n",
              "</style>\n",
              "<table border=\"1\" class=\"dataframe\">\n",
              "  <thead>\n",
              "    <tr style=\"text-align: right;\">\n",
              "      <th></th>\n",
              "      <th>eu_sales</th>\n",
              "    </tr>\n",
              "    <tr>\n",
              "      <th>genre</th>\n",
              "      <th></th>\n",
              "    </tr>\n",
              "  </thead>\n",
              "  <tbody>\n",
              "    <tr>\n",
              "      <th>Action</th>\n",
              "      <td>118.13</td>\n",
              "    </tr>\n",
              "    <tr>\n",
              "      <th>Shooter</th>\n",
              "      <td>87.86</td>\n",
              "    </tr>\n",
              "    <tr>\n",
              "      <th>Sports</th>\n",
              "      <td>60.52</td>\n",
              "    </tr>\n",
              "    <tr>\n",
              "      <th>Role-Playing</th>\n",
              "      <td>36.97</td>\n",
              "    </tr>\n",
              "    <tr>\n",
              "      <th>Racing</th>\n",
              "      <td>20.19</td>\n",
              "    </tr>\n",
              "  </tbody>\n",
              "</table>\n",
              "</div>"
            ],
            "text/plain": [
              "              eu_sales\n",
              "genre                 \n",
              "Action          118.13\n",
              "Shooter          87.86\n",
              "Sports           60.52\n",
              "Role-Playing     36.97\n",
              "Racing           20.19"
            ]
          },
          "execution_count": 59,
          "metadata": {},
          "output_type": "execute_result"
        }
      ],
      "source": [
        "genres_eu_sales = get_top_genres(data_actual, 'eu_sales')\n",
        "genres_eu_sales"
      ]
    },
    {
      "cell_type": "code",
      "execution_count": null,
      "metadata": {
        "colab": {
          "base_uri": "https://localhost:8080/",
          "height": 300
        },
        "id": "j0D4e_uXJSGa",
        "outputId": "9ea25e84-bd06-451d-b4b5-5282dfee36d6"
      },
      "outputs": [
        {
          "data": {
            "text/html": [
              "<div>\n",
              "<style scoped>\n",
              "    .dataframe tbody tr th:only-of-type {\n",
              "        vertical-align: middle;\n",
              "    }\n",
              "\n",
              "    .dataframe tbody tr th {\n",
              "        vertical-align: top;\n",
              "    }\n",
              "\n",
              "    .dataframe thead th {\n",
              "        text-align: right;\n",
              "    }\n",
              "</style>\n",
              "<table border=\"1\" class=\"dataframe\">\n",
              "  <thead>\n",
              "    <tr style=\"text-align: right;\">\n",
              "      <th></th>\n",
              "      <th>eu_sales</th>\n",
              "      <th>share</th>\n",
              "    </tr>\n",
              "    <tr>\n",
              "      <th>rating</th>\n",
              "      <th></th>\n",
              "      <th></th>\n",
              "    </tr>\n",
              "  </thead>\n",
              "  <tbody>\n",
              "    <tr>\n",
              "      <th>M</th>\n",
              "      <td>145.32</td>\n",
              "      <td>0.370497</td>\n",
              "    </tr>\n",
              "    <tr>\n",
              "      <th>E</th>\n",
              "      <td>83.36</td>\n",
              "      <td>0.212528</td>\n",
              "    </tr>\n",
              "    <tr>\n",
              "      <th>unknown</th>\n",
              "      <td>78.91</td>\n",
              "      <td>0.201183</td>\n",
              "    </tr>\n",
              "    <tr>\n",
              "      <th>E10+</th>\n",
              "      <td>42.69</td>\n",
              "      <td>0.108839</td>\n",
              "    </tr>\n",
              "    <tr>\n",
              "      <th>T</th>\n",
              "      <td>41.95</td>\n",
              "      <td>0.106953</td>\n",
              "    </tr>\n",
              "  </tbody>\n",
              "</table>\n",
              "</div>"
            ],
            "text/plain": [
              "         eu_sales     share\n",
              "rating                     \n",
              "M          145.32  0.370497\n",
              "E           83.36  0.212528\n",
              "unknown     78.91  0.201183\n",
              "E10+        42.69  0.108839\n",
              "T           41.95  0.106953"
            ]
          },
          "execution_count": 60,
          "metadata": {},
          "output_type": "execute_result"
        }
      ],
      "source": [
        "eu_rating_sales = get_rating_sales(data_actual, 'eu_sales')\n",
        "eu_rating_sales"
      ]
    },
    {
      "cell_type": "markdown",
      "metadata": {
        "id": "3LpyGA5yJa4d"
      },
      "source": [
        "\n",
        "В Европе платформы PS4 и PS3 доминируют по продажам, особенно PS4, которая занимает 36% от всех продаж. Xbox One и Xbox 360 занимают третье и четвертое места соответственно, но значительно уступают PlayStation по популярности. Среди жанров наибольшие продажи имеют экшен-игры, шутеры и спортивные игры. По рейтингам наиболее продаваемыми являются игры с рейтингом «M» (для взрослых), которые занимают почти 37% от всех продаж. Игры с рейтингом «E» (для всех возрастов) также занимают значительную долю — 21%.\n",
        "\n",
        "Европейская аудитория явно отдает предпочтение экшен-играм и шутерам, которые составляют основу наиболее популярных жанров. Лидерство PlayStation в Европе очевидно, так как PS4 и PS3 составляют значительную долю рынка."
      ]
    },
    {
      "cell_type": "markdown",
      "metadata": {
        "id": "w25ZRVa6U_8c"
      },
      "source": [
        "#### Потрет пользователей Японии (JP)"
      ]
    },
    {
      "cell_type": "code",
      "execution_count": null,
      "metadata": {
        "colab": {
          "base_uri": "https://localhost:8080/",
          "height": 238
        },
        "id": "YCxeV71AJX2w",
        "outputId": "34a6496b-da84-4efd-caf8-65ac6ccec9ed"
      },
      "outputs": [
        {
          "data": {
            "text/html": [
              "<div>\n",
              "<style scoped>\n",
              "    .dataframe tbody tr th:only-of-type {\n",
              "        vertical-align: middle;\n",
              "    }\n",
              "\n",
              "    .dataframe tbody tr th {\n",
              "        vertical-align: top;\n",
              "    }\n",
              "\n",
              "    .dataframe thead th {\n",
              "        text-align: right;\n",
              "    }\n",
              "</style>\n",
              "<table border=\"1\" class=\"dataframe\">\n",
              "  <thead>\n",
              "    <tr style=\"text-align: right;\">\n",
              "      <th></th>\n",
              "      <th>jp_sales</th>\n",
              "      <th>share</th>\n",
              "    </tr>\n",
              "    <tr>\n",
              "      <th>platform</th>\n",
              "      <th></th>\n",
              "      <th></th>\n",
              "    </tr>\n",
              "  </thead>\n",
              "  <tbody>\n",
              "    <tr>\n",
              "      <th>3DS</th>\n",
              "      <td>67.81</td>\n",
              "      <td>0.481674</td>\n",
              "    </tr>\n",
              "    <tr>\n",
              "      <th>PS3</th>\n",
              "      <td>23.35</td>\n",
              "      <td>0.165862</td>\n",
              "    </tr>\n",
              "    <tr>\n",
              "      <th>PSV</th>\n",
              "      <td>18.59</td>\n",
              "      <td>0.132050</td>\n",
              "    </tr>\n",
              "    <tr>\n",
              "      <th>PS4</th>\n",
              "      <td>15.96</td>\n",
              "      <td>0.113368</td>\n",
              "    </tr>\n",
              "    <tr>\n",
              "      <th>WiiU</th>\n",
              "      <td>10.88</td>\n",
              "      <td>0.077284</td>\n",
              "    </tr>\n",
              "  </tbody>\n",
              "</table>\n",
              "</div>"
            ],
            "text/plain": [
              "          jp_sales     share\n",
              "platform                    \n",
              "3DS          67.81  0.481674\n",
              "PS3          23.35  0.165862\n",
              "PSV          18.59  0.132050\n",
              "PS4          15.96  0.113368\n",
              "WiiU         10.88  0.077284"
            ]
          },
          "execution_count": 61,
          "metadata": {},
          "output_type": "execute_result"
        }
      ],
      "source": [
        "platform_jp_sales = get_top_platform(data_actual, 'jp_sales')\n",
        "platform_jp_sales"
      ]
    },
    {
      "cell_type": "code",
      "execution_count": null,
      "metadata": {
        "colab": {
          "base_uri": "https://localhost:8080/",
          "height": 238
        },
        "id": "RY78FstFVJS8",
        "outputId": "1ac696b9-3367-44c6-fea3-6c40504f61bd"
      },
      "outputs": [
        {
          "data": {
            "text/html": [
              "<div>\n",
              "<style scoped>\n",
              "    .dataframe tbody tr th:only-of-type {\n",
              "        vertical-align: middle;\n",
              "    }\n",
              "\n",
              "    .dataframe tbody tr th {\n",
              "        vertical-align: top;\n",
              "    }\n",
              "\n",
              "    .dataframe thead th {\n",
              "        text-align: right;\n",
              "    }\n",
              "</style>\n",
              "<table border=\"1\" class=\"dataframe\">\n",
              "  <thead>\n",
              "    <tr style=\"text-align: right;\">\n",
              "      <th></th>\n",
              "      <th>jp_sales</th>\n",
              "    </tr>\n",
              "    <tr>\n",
              "      <th>genre</th>\n",
              "      <th></th>\n",
              "    </tr>\n",
              "  </thead>\n",
              "  <tbody>\n",
              "    <tr>\n",
              "      <th>Role-Playing</th>\n",
              "      <td>51.04</td>\n",
              "    </tr>\n",
              "    <tr>\n",
              "      <th>Action</th>\n",
              "      <td>40.49</td>\n",
              "    </tr>\n",
              "    <tr>\n",
              "      <th>Misc</th>\n",
              "      <td>9.20</td>\n",
              "    </tr>\n",
              "    <tr>\n",
              "      <th>Fighting</th>\n",
              "      <td>7.65</td>\n",
              "    </tr>\n",
              "    <tr>\n",
              "      <th>Shooter</th>\n",
              "      <td>6.61</td>\n",
              "    </tr>\n",
              "  </tbody>\n",
              "</table>\n",
              "</div>"
            ],
            "text/plain": [
              "              jp_sales\n",
              "genre                 \n",
              "Role-Playing     51.04\n",
              "Action           40.49\n",
              "Misc              9.20\n",
              "Fighting          7.65\n",
              "Shooter           6.61"
            ]
          },
          "execution_count": 62,
          "metadata": {},
          "output_type": "execute_result"
        }
      ],
      "source": [
        "genres_jp_sales = get_top_genres(data_actual, 'jp_sales')\n",
        "genres_jp_sales"
      ]
    },
    {
      "cell_type": "code",
      "execution_count": null,
      "metadata": {
        "colab": {
          "base_uri": "https://localhost:8080/",
          "height": 300
        },
        "id": "-gYl3RK2VLJS",
        "outputId": "bfe7e951-6c3d-4812-a9ff-22f68a4d0519"
      },
      "outputs": [
        {
          "data": {
            "text/html": [
              "<div>\n",
              "<style scoped>\n",
              "    .dataframe tbody tr th:only-of-type {\n",
              "        vertical-align: middle;\n",
              "    }\n",
              "\n",
              "    .dataframe tbody tr th {\n",
              "        vertical-align: top;\n",
              "    }\n",
              "\n",
              "    .dataframe thead th {\n",
              "        text-align: right;\n",
              "    }\n",
              "</style>\n",
              "<table border=\"1\" class=\"dataframe\">\n",
              "  <thead>\n",
              "    <tr style=\"text-align: right;\">\n",
              "      <th></th>\n",
              "      <th>jp_sales</th>\n",
              "      <th>share</th>\n",
              "    </tr>\n",
              "    <tr>\n",
              "      <th>rating</th>\n",
              "      <th></th>\n",
              "      <th></th>\n",
              "    </tr>\n",
              "  </thead>\n",
              "  <tbody>\n",
              "    <tr>\n",
              "      <th>unknown</th>\n",
              "      <td>85.05</td>\n",
              "      <td>0.604134</td>\n",
              "    </tr>\n",
              "    <tr>\n",
              "      <th>T</th>\n",
              "      <td>20.59</td>\n",
              "      <td>0.146257</td>\n",
              "    </tr>\n",
              "    <tr>\n",
              "      <th>E</th>\n",
              "      <td>15.14</td>\n",
              "      <td>0.107544</td>\n",
              "    </tr>\n",
              "    <tr>\n",
              "      <th>M</th>\n",
              "      <td>14.11</td>\n",
              "      <td>0.100227</td>\n",
              "    </tr>\n",
              "    <tr>\n",
              "      <th>E10+</th>\n",
              "      <td>5.89</td>\n",
              "      <td>0.041838</td>\n",
              "    </tr>\n",
              "  </tbody>\n",
              "</table>\n",
              "</div>"
            ],
            "text/plain": [
              "         jp_sales     share\n",
              "rating                     \n",
              "unknown     85.05  0.604134\n",
              "T           20.59  0.146257\n",
              "E           15.14  0.107544\n",
              "M           14.11  0.100227\n",
              "E10+         5.89  0.041838"
            ]
          },
          "execution_count": 63,
          "metadata": {},
          "output_type": "execute_result"
        }
      ],
      "source": [
        "jp_rating_sales = get_rating_sales(data_actual, 'jp_sales')\n",
        "jp_rating_sales"
      ]
    },
    {
      "cell_type": "markdown",
      "metadata": {
        "id": "7la3KmgVX3jh"
      },
      "source": [
        "На японском рынке явным лидером является платформа 3DS, которая занимает почти половину всех продаж. Следом идут PS3, PSV и PS4, но с гораздо меньшими долями. Это подтверждает высокий спрос на портативные устройства, особенно на консоли от Nintendo. Среди жанров явное доминирование наблюдается у ролевых игр (Role-Playing), которые значительно опережают экшен и другие жанры. По рейтингу лидируют игры с неизвестным рейтингом, что может быть связано с локальными особенностями классификации игр в Японии. Среди известных категорий впереди идут игры для подростков и для всех.\n",
        "\n",
        "Таким образом, японский рынок сильно отличается от западных. Портативные устройства и жанр ролевых игр доминируют среди японских пользователей, а предпочтения по рейтингам ESRB менее выражены, возможно, из-за разных методов сертификации игр в регионе."
      ]
    },
    {
      "cell_type": "markdown",
      "metadata": {
        "id": "sTlVpWt1ZGV7"
      },
      "source": [
        "### Проверка гипотез"
      ]
    },
    {
      "cell_type": "markdown",
      "metadata": {
        "id": "R5DhwQfEuImD"
      },
      "source": [
        "#### Сравнение средних рейтингов платформ Xbox One и PC"
      ]
    },
    {
      "cell_type": "markdown",
      "metadata": {
        "id": "RIBhS4lMwizD"
      },
      "source": [
        "Проведем исследование, чтобы выяснить, отличаются ли средние пользовательские рейтинги платформ Xbox One (XOne) и PC. Это поможет определить, существует ли статистически значимое различие в восприятии игр пользователями на разных платформах. Для начала, выделим данные по этим платформам в отдельные таблицы для дальнейшего анализа."
      ]
    },
    {
      "cell_type": "code",
      "execution_count": null,
      "metadata": {
        "colab": {
          "base_uri": "https://localhost:8080/",
          "height": 458
        },
        "id": "TYZW8YSmVPJX",
        "outputId": "d03c83af-6f5d-48a9-f11d-c910d33fa0bb"
      },
      "outputs": [
        {
          "data": {
            "text/plain": [
              "14      NaN\n",
              "22      7.9\n",
              "24      5.4\n",
              "31      6.4\n",
              "39      6.2\n",
              "       ... \n",
              "2204    8.2\n",
              "2208    6.6\n",
              "2210    NaN\n",
              "2215    6.7\n",
              "2219    NaN\n",
              "Name: user_score, Length: 247, dtype: float64"
            ]
          },
          "execution_count": 64,
          "metadata": {},
          "output_type": "execute_result"
        }
      ],
      "source": [
        "xbox_user_score = data_actual.query('platform == \"XOne\"')['user_score']\n",
        "xbox_user_score"
      ]
    },
    {
      "cell_type": "code",
      "execution_count": null,
      "metadata": {
        "colab": {
          "base_uri": "https://localhost:8080/",
          "height": 458
        },
        "id": "uLKtKYiNgQur",
        "outputId": "0ad78080-4bf2-4fbe-8bc7-91b7eb08c08e"
      },
      "outputs": [
        {
          "data": {
            "text/plain": [
              "73      3.9\n",
              "157     7.9\n",
              "184     2.2\n",
              "196     6.0\n",
              "208     5.4\n",
              "       ... \n",
              "2168    7.9\n",
              "2171    1.4\n",
              "2201    NaN\n",
              "2205    NaN\n",
              "2226    7.6\n",
              "Name: user_score, Length: 189, dtype: float64"
            ]
          },
          "execution_count": 65,
          "metadata": {},
          "output_type": "execute_result"
        }
      ],
      "source": [
        "pc_user_score = data_actual.query('platform == \"PC\"')['user_score']\n",
        "pc_user_score"
      ]
    },
    {
      "cell_type": "markdown",
      "metadata": {
        "id": "jWRvnOSlwxh1"
      },
      "source": [
        "Посмотрим какое количество пропусков содержится в данных массивах:"
      ]
    },
    {
      "cell_type": "code",
      "execution_count": null,
      "metadata": {
        "colab": {
          "base_uri": "https://localhost:8080/"
        },
        "id": "R3V_BUP0mFRK",
        "outputId": "438065b3-ec3d-489f-eb21-7bcb04c07fe1"
      },
      "outputs": [
        {
          "data": {
            "text/plain": [
              "65"
            ]
          },
          "execution_count": 66,
          "metadata": {},
          "output_type": "execute_result"
        }
      ],
      "source": [
        "#находим количество пропусков\n",
        "xbox_user_score.isna().sum()"
      ]
    },
    {
      "cell_type": "code",
      "execution_count": null,
      "metadata": {
        "colab": {
          "base_uri": "https://localhost:8080/"
        },
        "id": "YCooqbocf8YI",
        "outputId": "49326924-be2b-49ff-8e32-e0a3f35de31c"
      },
      "outputs": [
        {
          "data": {
            "text/plain": [
              "34"
            ]
          },
          "execution_count": 67,
          "metadata": {},
          "output_type": "execute_result"
        }
      ],
      "source": [
        "#находим количество пропусков\n",
        "pc_user_score.isna().sum()"
      ]
    },
    {
      "cell_type": "markdown",
      "metadata": {
        "id": "hlm7LIMQ3s9e"
      },
      "source": [
        "Количество пропусков составляет большой процент, но для проверки гипотез важны полные данные и отсутствие значений может исказить результаты анализа. Принимаем решение удалить пропуски, но при выводах будем учитывать данный момент."
      ]
    },
    {
      "cell_type": "code",
      "execution_count": null,
      "metadata": {
        "id": "zK90UboNmMZc"
      },
      "outputs": [],
      "source": [
        "#убираем пропуски\n",
        "xbox_user_score = xbox_user_score.dropna()\n",
        "pc_user_score = pc_user_score.dropna()"
      ]
    },
    {
      "cell_type": "markdown",
      "metadata": {
        "id": "V_Oh2CJqpuKm"
      },
      "source": [
        "Сформируем гипотезы для сравнения средних пользовательскизх рейтингов платформ. Для этого в качестве нулевой гипотезы возьмем факт, что они равны между собой, также как и говорится в бизнес гипотезе. Альтернативной гипотезой будет обратное утверждение, что средние значения отличаются."
      ]
    },
    {
      "cell_type": "markdown",
      "metadata": {
        "id": "PxOcZFAQnC1h"
      },
      "source": [
        "**Нулевая гипотеза (H0):**  Средний пользовательский рейтинг платформы XOne равен среднему пользовательскому рейтингу платформы PC.\n",
        "\n",
        "**Альтернативная гипотеза (H1):**\n",
        "Средний пользовательский рейтинг платформы XOne не равен среднему пользовательскому рейтингу платформы PC."
      ]
    },
    {
      "cell_type": "markdown",
      "metadata": {
        "id": "KPm_Dvmdm3bD"
      },
      "source": [
        "Для проверки гипотезы о равенстве средних пользовательских рейтингов платформ Xbox One и PC, мы используем T-тест для независимых выборок. Этот тест подходит, потому что у нас есть две группы данных (рейтинги пользователей для Xbox One и PC), и мы проверяем, различаются ли их средние значения."
      ]
    },
    {
      "cell_type": "markdown",
      "metadata": {
        "id": "UZM44-D_MEJV"
      },
      "source": [
        "Перед проведением теста убедимся, что дисперсии двух выборок не сильно отличаются"
      ]
    },
    {
      "cell_type": "code",
      "execution_count": null,
      "metadata": {
        "colab": {
          "base_uri": "https://localhost:8080/"
        },
        "id": "mVtJP3vFtI47",
        "outputId": "aba34163-ad29-4fba-e6db-6b6643b9d088"
      },
      "outputs": [
        {
          "name": "stdout",
          "output_type": "stream",
          "text": [
            "Дисперсия для Xbox One: 1.91\n",
            "Дисперсия для PC: 3.04\n"
          ]
        }
      ],
      "source": [
        "#находим значение дисперсии\n",
        "xbox_var = xbox_user_score.var()\n",
        "pc_var = pc_user_score.var()\n",
        "\n",
        "print(f\"Дисперсия для Xbox One: {xbox_var:.2f}\")\n",
        "print(f\"Дисперсия для PC: {pc_var:.2f}\")"
      ]
    },
    {
      "cell_type": "markdown",
      "metadata": {
        "id": "dqyp_YW6rL8Q"
      },
      "source": [
        "Для проверки гипотез будем использовать уровень статистической значимости = 0.05"
      ]
    },
    {
      "cell_type": "code",
      "execution_count": null,
      "metadata": {
        "colab": {
          "base_uri": "https://localhost:8080/"
        },
        "id": "Dvu9tBEinBOI",
        "outputId": "2dc17b7d-cfa8-45ce-e4a5-50cd65eb2e75"
      },
      "outputs": [
        {
          "name": "stdout",
          "output_type": "stream",
          "text": [
            "p-value 0.14012658403611647\n",
            "Не отвергаем нулевую гипотезу\n",
            "Средний рейтинг платформы XOne: 6.52\n",
            "Средний рейтинг платформы PC: 6.27\n"
          ]
        }
      ],
      "source": [
        "#выполнение t-теста для сравнения средних значений двух независимых групп\n",
        "t_stat, p_value = st.ttest_ind(xbox_user_score, pc_user_score)\n",
        "\n",
        "alpha = 0.05\n",
        "print('p-value', p_value)\n",
        "\n",
        "#сравниваем параметры\n",
        "if p_value < alpha:\n",
        "    print(\"Отвергаем нулевую гипотезу\")\n",
        "else:\n",
        "    print(\"Не отвергаем нулевую гипотезу\")\n",
        "\n",
        "print(f\"Средний рейтинг платформы XOne: {np.mean(xbox_user_score):.2f}\")\n",
        "print(f\"Средний рейтинг платформы PC: {np.mean(pc_user_score):.2f}\")"
      ]
    },
    {
      "cell_type": "markdown",
      "metadata": {
        "id": "es69xqJnuBTa"
      },
      "source": [
        "На основе результатов t-теста (p-value ≈ 0.14) мы не отвергаем нулевую гипотезу. Это означает, что нет статистически значимых различий между средними пользовательскими рейтингами платформ Xbox One и PC.\n",
        "\n",
        "Средний рейтинг игр на платформе Xbox One составляет 6.52, в то время как на PC — 6.27. Разница в средних значениях рейтингов не является достаточно большой для того, чтобы быть признанной статистически значимой.\n",
        "\n",
        "Таким образом, первоначальная гипотеза, о том что средние пользовательские рейтинги платформ Xbox One и PC одинаковые, не была отвергнута и может быть верна."
      ]
    },
    {
      "cell_type": "markdown",
      "metadata": {
        "id": "4qS5HursuFTW"
      },
      "source": [
        "#### Сравнение средний рейтингов пользователей жанров Action и Sports"
      ]
    },
    {
      "cell_type": "markdown",
      "metadata": {
        "id": "KWrNojlKN94-"
      },
      "source": [
        "Проведем исследование, чтобы выяснить, различаются ли средние пользовательские рейтинги жанров Action и Sports. Это поможет понять, как пользователи оценивают игры разных жанров и есть ли статистически значимое различие в их предпочтениях. Для начала, выделим данные по этим жанрам в отдельные таблицы для дальнейшего анализа:"
      ]
    },
    {
      "cell_type": "code",
      "execution_count": null,
      "metadata": {
        "colab": {
          "base_uri": "https://localhost:8080/",
          "height": 458
        },
        "id": "uP4z-Kf8uBsN",
        "outputId": "f088aa74-01e4-4572-9c70-916542ecbbee"
      },
      "outputs": [
        {
          "data": {
            "text/plain": [
              "0       8.2\n",
              "1       8.1\n",
              "4       8.3\n",
              "20      9.1\n",
              "22      7.9\n",
              "       ... \n",
              "2222    NaN\n",
              "2225    NaN\n",
              "2226    7.6\n",
              "2227    NaN\n",
              "2230    NaN\n",
              "Name: user_score, Length: 766, dtype: float64"
            ]
          },
          "execution_count": 71,
          "metadata": {},
          "output_type": "execute_result"
        }
      ],
      "source": [
        "action_user_score = data_actual.query('genre == \"Action\"')['user_score']\n",
        "action_user_score"
      ]
    },
    {
      "cell_type": "code",
      "execution_count": null,
      "metadata": {
        "colab": {
          "base_uri": "https://localhost:8080/",
          "height": 458
        },
        "id": "p4hLx-tlwCOh",
        "outputId": "daa15436-b43f-4004-9f88-065edb3e5b2f"
      },
      "outputs": [
        {
          "data": {
            "text/plain": [
              "9       4.3\n",
              "12      5.0\n",
              "18      4.3\n",
              "19      5.7\n",
              "38      4.5\n",
              "       ... \n",
              "2144    NaN\n",
              "2147    4.5\n",
              "2171    1.4\n",
              "2207    NaN\n",
              "2208    6.6\n",
              "Name: user_score, Length: 214, dtype: float64"
            ]
          },
          "execution_count": 72,
          "metadata": {},
          "output_type": "execute_result"
        }
      ],
      "source": [
        "sports_user_score = data_actual.query('genre == \"Sports\"')['user_score']\n",
        "sports_user_score"
      ]
    },
    {
      "cell_type": "markdown",
      "metadata": {
        "id": "4-25nH0LOqBJ"
      },
      "source": [
        "Найдем общее количество пропусков в полученных массивах:"
      ]
    },
    {
      "cell_type": "code",
      "execution_count": null,
      "metadata": {
        "colab": {
          "base_uri": "https://localhost:8080/"
        },
        "id": "EXi1kdVSwH9K",
        "outputId": "f1c282bf-186a-47a7-aa1c-3494e29e0f5e"
      },
      "outputs": [
        {
          "data": {
            "text/plain": [
              "377"
            ]
          },
          "execution_count": 73,
          "metadata": {},
          "output_type": "execute_result"
        }
      ],
      "source": [
        "#находим количество пропусков\n",
        "action_user_score.isna().sum()"
      ]
    },
    {
      "cell_type": "code",
      "execution_count": null,
      "metadata": {
        "colab": {
          "base_uri": "https://localhost:8080/"
        },
        "id": "rjQtZyCwwNGD",
        "outputId": "28dc02fb-31ca-4fcb-8675-d447a6966ed8"
      },
      "outputs": [
        {
          "data": {
            "text/plain": [
              "54"
            ]
          },
          "execution_count": 74,
          "metadata": {},
          "output_type": "execute_result"
        }
      ],
      "source": [
        "#находим количество пропусков\n",
        "sports_user_score.isna().sum()"
      ]
    },
    {
      "cell_type": "markdown",
      "metadata": {
        "id": "C6I_L0yJOuEU"
      },
      "source": [
        "Для корректной проверки гипотезы нам нужно избавиться от пропусков в данных, несмотря на факт, что они занимают большой процент от общего количества."
      ]
    },
    {
      "cell_type": "code",
      "execution_count": null,
      "metadata": {
        "id": "XGX6QD-vwXJZ"
      },
      "outputs": [],
      "source": [
        "#удаляем пропуски\n",
        "action_user_score = action_user_score.dropna()\n",
        "sports_user_score = sports_user_score.dropna()"
      ]
    },
    {
      "cell_type": "markdown",
      "metadata": {
        "id": "UmQowiadTvvY"
      },
      "source": [
        "Изначальная бизнес-гипотеза утверждает, что средние пользовательские рейтинги жанров отличаются. Для того чобы проверить этот факт в качестве нулевой гипотезы предположим, что рейтинги равны. Альтернативной гипотезой же будет обратное - средние рейтинги разнятся"
      ]
    },
    {
      "cell_type": "markdown",
      "metadata": {
        "id": "lyk6Dnl5Fc8H"
      },
      "source": [
        "**Нулевая гипотеза (H0):** Средний пользовательский рейтинг жанра Action равен среднему пользовательскому рейтингу жанра Sports.\n",
        "\n",
        "**Альтернативная гипотеза (H1):** Средний пользовательский рейтинг жанра Action не равен среднему пользовательскому рейтингу жанра Sports."
      ]
    },
    {
      "cell_type": "markdown",
      "metadata": {
        "id": "XOvTOmgfOK4q"
      },
      "source": [
        "Будем использовать двухвыборочный t-тест для проверки гипотезы, поскольку необходимо сравнить средние значения двух независимых групп — жанров Action и Sports. T-тест помогает определить, есть ли статистически значимое различие между этими средними значениями. Этот тест применим, когда данные распределены нормально, а выборки независимы друг от друга, как в нашем случае."
      ]
    },
    {
      "cell_type": "markdown",
      "metadata": {
        "id": "d9esvgdAIfQ-"
      },
      "source": [
        "Для проверки гипотез будем использовать уровень статистической значимости = 0.05"
      ]
    },
    {
      "cell_type": "markdown",
      "metadata": {
        "id": "m8OhO2tnORnb"
      },
      "source": [
        "Перед проведение теста проверим значения дисперсий и убедимся, что они не значительно отличаются"
      ]
    },
    {
      "cell_type": "code",
      "execution_count": null,
      "metadata": {
        "colab": {
          "base_uri": "https://localhost:8080/"
        },
        "id": "31t-kbG1Iemh",
        "outputId": "38ba155d-789a-4b3a-c472-508e4be17de1"
      },
      "outputs": [
        {
          "name": "stdout",
          "output_type": "stream",
          "text": [
            "Дисперсия для Action: 1.77\n",
            "Дисперсия для Sports: 3.18\n"
          ]
        }
      ],
      "source": [
        "action_var = action_user_score.var()\n",
        "sports_var = sports_user_score.var()\n",
        "\n",
        "print(f\"Дисперсия для Action: {action_var:.2f}\")\n",
        "print(f\"Дисперсия для Sports: {sports_var:.2f}\")"
      ]
    },
    {
      "cell_type": "code",
      "execution_count": null,
      "metadata": {
        "colab": {
          "base_uri": "https://localhost:8080/"
        },
        "id": "J3lJAawawaKK",
        "outputId": "70e1929c-0744-42ce-8119-d7257e5d369c"
      },
      "outputs": [
        {
          "name": "stdout",
          "output_type": "stream",
          "text": [
            "p-value 1.0517832389140023e-27\n",
            "Отвергаем нулевую гипотезу\n",
            "Средний рейтинг жанра Action: 6.84\n",
            "Средний рейтинг жанра Sports: 5.24\n"
          ]
        }
      ],
      "source": [
        "#выполнение t-теста для сравнения средних значений двух независимых групп\n",
        "t_stat, p_value = st.ttest_ind(action_user_score, sports_user_score)\n",
        "\n",
        "alpha = 0.05\n",
        "print('p-value', p_value)\n",
        "\n",
        "#сравниваем параметры\n",
        "if p_value < alpha:\n",
        "    print(\"Отвергаем нулевую гипотезу\")\n",
        "else:\n",
        "    print(\"Не отвергаем нулевую гипотезу\")\n",
        "\n",
        "print(f'Средний рейтинг жанра Action: {np.mean(action_user_score):.2f}')\n",
        "print(f'Средний рейтинг жанра Sports: {np.mean(sports_user_score):.2f}')"
      ]
    },
    {
      "cell_type": "markdown",
      "metadata": {
        "id": "El3tghbLKsKJ"
      },
      "source": [
        "На основе результатов t-теста (p-value ≈ 1.05e-27) мы отвергаем нулевую гипотезу. Это означает, что средние пользовательские рейтинги жанров Action и Sports статистически значимо различаются.\n",
        "\n",
        "Средний рейтинг игр жанра Action составляет 6.84, а для жанра Sports — 5.24. Разница в средних значениях рейтингов достаточно большая, и низкое p-value подтверждает статистическую значимость этого различия.\n",
        "\n",
        "Таким образом, можно утверждать, что первоначальная бизнес-гипотеза верна — средние пользовательские рейтинги жанров Action и Sports действительно разные."
      ]
    },
    {
      "cell_type": "markdown",
      "metadata": {
        "id": "W_51tjU7PPC7"
      },
      "source": [
        "### Общий вывод"
      ]
    },
    {
      "cell_type": "markdown",
      "metadata": {
        "id": "EIHGSimuUTnf"
      },
      "source": [
        "Вывод:\n",
        "\n",
        "В этом проекте мы провели исследование данных об играх с целью выявления ключевых факторов, влияющих на их продажи. Мы проанализировали платформы, жанры, влияние оценок пользователей и критиков, а также проверили несколько гипотез.\n",
        "\n",
        "1) Предобработка данных:\n",
        "\n",
        "В рамках предобработки данных были исправлены названия столбцов, приведены типы данных в соответствие с задачей, а также обработаны пропуски. Пропуски в столбце рейтинга игр были заменены на \"unknown\", а пропуски в пользовательских и критических оценках остались, так как их было слишком много для удаления или корректного заполнения.\n",
        "\n",
        "2) Анализ по годам и выбор актуального периода:\n",
        "\n",
        "Из-за того, что ранние данные о продажах игр были ограниченными, мы выбрали актуальный период с 2012 года. Это позволило сосредоточиться на современных тенденциях и анализировать данные, которые имеют наибольшую актуальность для прогноза будущих продаж и оценки текущего состояния рынка.\n",
        "\n",
        "3) Результаты анализа платформ:\n",
        "\n",
        "Платформы имеют свой жизненный цикл, который обычно длится около 10–15 лет. На данный момент наиболее перспективными платформами являются PS4 и Xbox One, которые продолжают набирать популярность. В то же время более старые поколения консолей, такие как PS3 и X360, находятся на стадии спада. Nintendo 3DS также остаётся популярной в некоторых регионах, особенно в Японии.\n",
        "\n",
        "4) Результаты анализа жанров:\n",
        "\n",
        "Анализ жанров показал, что Shooter и Sports — это самые прибыльные жанры с высокими медианными продажами. Жанр Platform также показывает хорошие результаты, занимая третье место по медианным продажам, что говорит о его стабильной популярности.\n",
        "\n",
        "5) Проверка гипотез:\n",
        "\n",
        "Мы проверили две ключевые бизнес-гипотезы, которые касались пользовательских рейтингов на разных платформах и в разных жанрах.\n",
        "\n",
        "Первая гипотеза заключалась в том, что средние пользовательские рейтинги на платформах Xbox One и PC одинаковы. Результаты t-теста показали, что мы не отвергаем нулевую гипотезу, то есть средние рейтинги этих платформ не отличаются статистически значимо. Это означает, что различия в пользовательских оценках между Xbox One и PC несущественны.\n",
        "\n",
        "Вторая гипотеза предполагала, что средние пользовательские рейтинги жанров Action и Sports различаются. Проведённый t-тест подтвердил эту гипотезу — рейтинги жанров действительно статистически значимо различаются, что указывает на различия в восприятии игр в зависимости от жанра. Хотя разница в абсолютных числах может быть незначительной, статистический анализ показал, что эти различия имеют значение.\n",
        "\n",
        "6) Рекомендации:\n",
        "\n",
        "На основании анализа рекомендуется сосредоточить внимание на разработке игр для платформ PS4 и Xbox One, которые продолжают расти. Жанры Shooter, Sports и Platform остаются наиболее прибыльными и популярными, поэтому стоит инвестировать в их разработку. Также стоит учитывать важность оценок критиков, так как они оказывают влияние на успешность игр, и ориентироваться на них при планировании маркетинговых стратегий.\n",
        "\n"
      ]
    }
  ],
  "metadata": {
    "ExecuteTimeLog": [
      {
        "duration": 1208,
        "start_time": "2024-10-14T15:05:25.374Z"
      },
      {
        "duration": 3,
        "start_time": "2024-10-14T15:05:26.583Z"
      },
      {
        "duration": 113,
        "start_time": "2024-10-14T15:05:26.588Z"
      },
      {
        "duration": 18,
        "start_time": "2024-10-14T15:05:26.702Z"
      },
      {
        "duration": 63,
        "start_time": "2024-10-14T15:05:26.722Z"
      },
      {
        "duration": 15,
        "start_time": "2024-10-14T15:05:26.787Z"
      },
      {
        "duration": 3,
        "start_time": "2024-10-14T15:05:26.803Z"
      },
      {
        "duration": 13,
        "start_time": "2024-10-14T15:05:26.808Z"
      },
      {
        "duration": 7,
        "start_time": "2024-10-14T15:05:26.822Z"
      },
      {
        "duration": 21,
        "start_time": "2024-10-14T15:05:26.831Z"
      },
      {
        "duration": 7,
        "start_time": "2024-10-14T15:05:26.854Z"
      },
      {
        "duration": 30,
        "start_time": "2024-10-14T15:05:26.862Z"
      },
      {
        "duration": 11,
        "start_time": "2024-10-14T15:05:26.893Z"
      },
      {
        "duration": 12,
        "start_time": "2024-10-14T15:05:26.907Z"
      },
      {
        "duration": 19,
        "start_time": "2024-10-14T15:05:26.920Z"
      },
      {
        "duration": 8,
        "start_time": "2024-10-14T15:05:26.940Z"
      },
      {
        "duration": 12,
        "start_time": "2024-10-14T15:05:26.950Z"
      },
      {
        "duration": 9,
        "start_time": "2024-10-14T15:05:26.964Z"
      },
      {
        "duration": 6,
        "start_time": "2024-10-14T15:05:26.975Z"
      },
      {
        "duration": 15,
        "start_time": "2024-10-14T15:05:26.982Z"
      },
      {
        "duration": 239,
        "start_time": "2024-10-14T15:05:26.999Z"
      },
      {
        "duration": 18,
        "start_time": "2024-10-14T15:05:27.240Z"
      },
      {
        "duration": 9,
        "start_time": "2024-10-14T15:05:27.259Z"
      },
      {
        "duration": 27,
        "start_time": "2024-10-14T15:05:27.269Z"
      },
      {
        "duration": 22,
        "start_time": "2024-10-14T15:05:27.297Z"
      },
      {
        "duration": 303,
        "start_time": "2024-10-14T15:05:27.321Z"
      },
      {
        "duration": 16,
        "start_time": "2024-10-14T15:05:27.625Z"
      },
      {
        "duration": 10,
        "start_time": "2024-10-14T15:05:27.642Z"
      },
      {
        "duration": 5,
        "start_time": "2024-10-14T15:05:27.653Z"
      },
      {
        "duration": 11,
        "start_time": "2024-10-14T15:05:27.659Z"
      },
      {
        "duration": 7,
        "start_time": "2024-10-14T15:05:27.671Z"
      },
      {
        "duration": 327,
        "start_time": "2024-10-14T15:05:27.679Z"
      },
      {
        "duration": 312,
        "start_time": "2024-10-14T15:05:28.007Z"
      },
      {
        "duration": 22,
        "start_time": "2024-10-14T15:05:28.320Z"
      },
      {
        "duration": 644,
        "start_time": "2024-10-14T15:05:28.344Z"
      },
      {
        "duration": 6,
        "start_time": "2024-10-14T15:05:28.989Z"
      },
      {
        "duration": 23,
        "start_time": "2024-10-14T15:05:28.997Z"
      },
      {
        "duration": 157,
        "start_time": "2024-10-14T15:05:29.021Z"
      },
      {
        "duration": 5,
        "start_time": "2024-10-14T15:05:29.179Z"
      },
      {
        "duration": 143,
        "start_time": "2024-10-14T15:05:29.185Z"
      },
      {
        "duration": 4,
        "start_time": "2024-10-14T15:05:29.332Z"
      },
      {
        "duration": 198,
        "start_time": "2024-10-14T15:05:29.337Z"
      },
      {
        "duration": 133,
        "start_time": "2024-10-14T15:05:29.536Z"
      },
      {
        "duration": 14,
        "start_time": "2024-10-14T15:05:29.671Z"
      },
      {
        "duration": 11,
        "start_time": "2024-10-14T15:05:29.687Z"
      },
      {
        "duration": 4,
        "start_time": "2024-10-14T15:05:29.699Z"
      },
      {
        "duration": 7,
        "start_time": "2024-10-14T15:05:29.704Z"
      },
      {
        "duration": 9,
        "start_time": "2024-10-14T15:05:29.712Z"
      },
      {
        "duration": 47,
        "start_time": "2024-10-14T15:05:29.722Z"
      },
      {
        "duration": 10,
        "start_time": "2024-10-14T15:05:29.770Z"
      },
      {
        "duration": 11,
        "start_time": "2024-10-14T15:05:29.781Z"
      },
      {
        "duration": 11,
        "start_time": "2024-10-14T15:05:29.793Z"
      },
      {
        "duration": 9,
        "start_time": "2024-10-14T15:05:29.806Z"
      },
      {
        "duration": 27,
        "start_time": "2024-10-14T15:05:29.816Z"
      },
      {
        "duration": 24,
        "start_time": "2024-10-14T15:05:29.844Z"
      },
      {
        "duration": 11,
        "start_time": "2024-10-14T15:05:29.870Z"
      },
      {
        "duration": 17,
        "start_time": "2024-10-14T15:05:29.883Z"
      },
      {
        "duration": 15,
        "start_time": "2024-10-14T15:05:29.902Z"
      },
      {
        "duration": 8,
        "start_time": "2024-10-14T15:05:29.918Z"
      },
      {
        "duration": 4,
        "start_time": "2024-10-14T15:05:29.927Z"
      },
      {
        "duration": 4,
        "start_time": "2024-10-14T15:05:29.957Z"
      },
      {
        "duration": 9,
        "start_time": "2024-10-14T15:05:29.962Z"
      },
      {
        "duration": 4,
        "start_time": "2024-10-14T15:05:29.973Z"
      },
      {
        "duration": 5,
        "start_time": "2024-10-14T15:05:29.978Z"
      },
      {
        "duration": 11,
        "start_time": "2024-10-14T15:05:29.984Z"
      },
      {
        "duration": 8,
        "start_time": "2024-10-14T15:05:29.996Z"
      },
      {
        "duration": 45,
        "start_time": "2024-10-14T15:05:30.006Z"
      },
      {
        "duration": 47,
        "start_time": "2024-10-14T15:05:30.053Z"
      },
      {
        "duration": 48,
        "start_time": "2024-10-14T15:05:30.102Z"
      },
      {
        "duration": 14,
        "start_time": "2024-10-14T15:05:30.152Z"
      },
      {
        "duration": 63,
        "start_time": "2024-10-14T15:05:30.168Z"
      },
      {
        "duration": 1391,
        "start_time": "2024-10-15T09:15:05.882Z"
      },
      {
        "duration": 4,
        "start_time": "2024-10-15T09:15:07.276Z"
      },
      {
        "duration": 273,
        "start_time": "2024-10-15T09:15:07.282Z"
      },
      {
        "duration": 21,
        "start_time": "2024-10-15T09:15:07.558Z"
      },
      {
        "duration": 16,
        "start_time": "2024-10-15T09:15:07.581Z"
      },
      {
        "duration": 25,
        "start_time": "2024-10-15T09:15:07.599Z"
      },
      {
        "duration": 4,
        "start_time": "2024-10-15T09:15:10.382Z"
      },
      {
        "duration": 22,
        "start_time": "2024-10-15T09:46:25.494Z"
      },
      {
        "duration": 23,
        "start_time": "2024-10-15T12:37:19.192Z"
      },
      {
        "duration": 22,
        "start_time": "2024-10-15T12:53:42.730Z"
      },
      {
        "duration": 17,
        "start_time": "2024-10-15T12:58:21.460Z"
      },
      {
        "duration": 5,
        "start_time": "2024-10-15T13:00:35.028Z"
      },
      {
        "duration": 118,
        "start_time": "2024-10-15T13:01:53.347Z"
      },
      {
        "duration": 1113,
        "start_time": "2024-10-15T13:02:15.854Z"
      },
      {
        "duration": 3,
        "start_time": "2024-10-15T13:02:16.968Z"
      },
      {
        "duration": 93,
        "start_time": "2024-10-15T13:02:16.972Z"
      },
      {
        "duration": 20,
        "start_time": "2024-10-15T13:02:17.067Z"
      },
      {
        "duration": 17,
        "start_time": "2024-10-15T13:02:17.088Z"
      },
      {
        "duration": 15,
        "start_time": "2024-10-15T13:02:17.106Z"
      },
      {
        "duration": 3,
        "start_time": "2024-10-15T13:02:17.123Z"
      },
      {
        "duration": 36,
        "start_time": "2024-10-15T13:02:17.127Z"
      },
      {
        "duration": 4,
        "start_time": "2024-10-15T13:02:17.165Z"
      },
      {
        "duration": 10,
        "start_time": "2024-10-15T13:02:17.172Z"
      },
      {
        "duration": 26,
        "start_time": "2024-10-15T13:02:17.184Z"
      },
      {
        "duration": 35,
        "start_time": "2024-10-15T13:02:17.211Z"
      },
      {
        "duration": 12,
        "start_time": "2024-10-15T13:02:17.248Z"
      },
      {
        "duration": 17,
        "start_time": "2024-10-15T13:02:17.261Z"
      },
      {
        "duration": 16,
        "start_time": "2024-10-15T13:02:17.280Z"
      },
      {
        "duration": 22,
        "start_time": "2024-10-15T13:02:17.298Z"
      },
      {
        "duration": 27,
        "start_time": "2024-10-15T13:02:17.322Z"
      },
      {
        "duration": 12,
        "start_time": "2024-10-15T13:02:17.351Z"
      },
      {
        "duration": 8,
        "start_time": "2024-10-15T13:02:17.365Z"
      },
      {
        "duration": 21,
        "start_time": "2024-10-15T13:02:17.374Z"
      },
      {
        "duration": 28,
        "start_time": "2024-10-15T13:02:17.396Z"
      },
      {
        "duration": 20,
        "start_time": "2024-10-15T13:02:17.426Z"
      },
      {
        "duration": 275,
        "start_time": "2024-10-15T13:02:17.448Z"
      },
      {
        "duration": 16,
        "start_time": "2024-10-15T13:02:17.724Z"
      },
      {
        "duration": 8,
        "start_time": "2024-10-15T13:02:17.741Z"
      },
      {
        "duration": 27,
        "start_time": "2024-10-15T13:02:17.750Z"
      },
      {
        "duration": 46,
        "start_time": "2024-10-15T13:02:17.779Z"
      },
      {
        "duration": 360,
        "start_time": "2024-10-15T13:02:17.829Z"
      },
      {
        "duration": 20,
        "start_time": "2024-10-15T13:02:18.191Z"
      },
      {
        "duration": 18,
        "start_time": "2024-10-15T13:02:18.213Z"
      },
      {
        "duration": 7,
        "start_time": "2024-10-15T13:02:18.232Z"
      },
      {
        "duration": 19,
        "start_time": "2024-10-15T13:02:18.240Z"
      },
      {
        "duration": 7,
        "start_time": "2024-10-15T13:02:18.261Z"
      },
      {
        "duration": 406,
        "start_time": "2024-10-15T13:02:18.269Z"
      },
      {
        "duration": 371,
        "start_time": "2024-10-15T13:02:18.676Z"
      },
      {
        "duration": 20,
        "start_time": "2024-10-15T13:02:19.048Z"
      },
      {
        "duration": 596,
        "start_time": "2024-10-15T13:02:19.069Z"
      },
      {
        "duration": 7,
        "start_time": "2024-10-15T13:02:19.667Z"
      },
      {
        "duration": 103,
        "start_time": "2024-10-15T13:02:19.675Z"
      },
      {
        "duration": 153,
        "start_time": "2024-10-15T13:02:19.779Z"
      },
      {
        "duration": 5,
        "start_time": "2024-10-15T13:02:19.933Z"
      },
      {
        "duration": 173,
        "start_time": "2024-10-15T13:02:19.940Z"
      },
      {
        "duration": 6,
        "start_time": "2024-10-15T13:02:20.115Z"
      },
      {
        "duration": 167,
        "start_time": "2024-10-15T13:02:20.123Z"
      },
      {
        "duration": 163,
        "start_time": "2024-10-15T13:02:20.291Z"
      },
      {
        "duration": 13,
        "start_time": "2024-10-15T13:02:20.456Z"
      },
      {
        "duration": 17,
        "start_time": "2024-10-15T13:02:20.470Z"
      },
      {
        "duration": 4,
        "start_time": "2024-10-15T13:02:20.488Z"
      },
      {
        "duration": 7,
        "start_time": "2024-10-15T13:02:20.493Z"
      },
      {
        "duration": 23,
        "start_time": "2024-10-15T13:02:20.501Z"
      },
      {
        "duration": 17,
        "start_time": "2024-10-15T13:02:20.526Z"
      },
      {
        "duration": 12,
        "start_time": "2024-10-15T13:02:20.544Z"
      },
      {
        "duration": 30,
        "start_time": "2024-10-15T13:02:20.557Z"
      },
      {
        "duration": 49,
        "start_time": "2024-10-15T13:02:20.588Z"
      },
      {
        "duration": 51,
        "start_time": "2024-10-15T13:02:20.638Z"
      },
      {
        "duration": 94,
        "start_time": "2024-10-15T13:02:20.690Z"
      },
      {
        "duration": 30,
        "start_time": "2024-10-15T13:02:20.785Z"
      },
      {
        "duration": 19,
        "start_time": "2024-10-15T13:02:20.816Z"
      },
      {
        "duration": 13,
        "start_time": "2024-10-15T13:02:20.836Z"
      },
      {
        "duration": 19,
        "start_time": "2024-10-15T13:02:20.851Z"
      },
      {
        "duration": 19,
        "start_time": "2024-10-15T13:02:20.872Z"
      },
      {
        "duration": 14,
        "start_time": "2024-10-15T13:02:20.892Z"
      },
      {
        "duration": 6,
        "start_time": "2024-10-15T13:02:20.908Z"
      },
      {
        "duration": 9,
        "start_time": "2024-10-15T13:02:20.915Z"
      },
      {
        "duration": 22,
        "start_time": "2024-10-15T13:02:20.926Z"
      },
      {
        "duration": 25,
        "start_time": "2024-10-15T13:02:20.949Z"
      },
      {
        "duration": 27,
        "start_time": "2024-10-15T13:02:20.975Z"
      },
      {
        "duration": 14,
        "start_time": "2024-10-15T13:02:21.004Z"
      },
      {
        "duration": 5,
        "start_time": "2024-10-15T13:02:21.021Z"
      },
      {
        "duration": 23,
        "start_time": "2024-10-15T13:02:21.027Z"
      },
      {
        "duration": 27,
        "start_time": "2024-10-15T13:02:21.052Z"
      },
      {
        "duration": 19,
        "start_time": "2024-10-15T13:02:21.081Z"
      },
      {
        "duration": 13,
        "start_time": "2024-10-15T13:02:21.102Z"
      },
      {
        "duration": 5,
        "start_time": "2024-10-15T13:08:53.026Z"
      },
      {
        "duration": 9,
        "start_time": "2024-10-15T13:08:56.710Z"
      },
      {
        "duration": 15,
        "start_time": "2024-10-15T13:12:44.294Z"
      },
      {
        "duration": 18,
        "start_time": "2024-10-15T13:13:40.595Z"
      },
      {
        "duration": 11,
        "start_time": "2024-10-15T13:13:45.093Z"
      },
      {
        "duration": 4,
        "start_time": "2024-10-15T13:13:53.826Z"
      },
      {
        "duration": 13,
        "start_time": "2024-10-15T13:14:02.510Z"
      },
      {
        "duration": 7,
        "start_time": "2024-10-15T13:14:05.152Z"
      },
      {
        "duration": 354,
        "start_time": "2024-10-15T13:14:11.241Z"
      },
      {
        "duration": 271,
        "start_time": "2024-10-15T13:14:56.193Z"
      },
      {
        "duration": 19,
        "start_time": "2024-10-15T13:32:29.140Z"
      },
      {
        "duration": 13,
        "start_time": "2024-10-15T13:32:32.457Z"
      },
      {
        "duration": 5,
        "start_time": "2024-10-15T13:32:37.274Z"
      },
      {
        "duration": 1104,
        "start_time": "2024-10-15T13:32:59.461Z"
      },
      {
        "duration": 3,
        "start_time": "2024-10-15T13:33:00.567Z"
      },
      {
        "duration": 122,
        "start_time": "2024-10-15T13:33:00.571Z"
      },
      {
        "duration": 20,
        "start_time": "2024-10-15T13:33:00.695Z"
      },
      {
        "duration": 15,
        "start_time": "2024-10-15T13:33:00.716Z"
      },
      {
        "duration": 42,
        "start_time": "2024-10-15T13:33:00.732Z"
      },
      {
        "duration": 28,
        "start_time": "2024-10-15T13:33:00.775Z"
      },
      {
        "duration": 98,
        "start_time": "2024-10-15T13:33:00.804Z"
      },
      {
        "duration": 5,
        "start_time": "2024-10-15T13:33:00.904Z"
      },
      {
        "duration": 15,
        "start_time": "2024-10-15T13:33:00.911Z"
      },
      {
        "duration": 26,
        "start_time": "2024-10-15T13:33:00.928Z"
      },
      {
        "duration": 7,
        "start_time": "2024-10-15T13:33:00.955Z"
      },
      {
        "duration": 18,
        "start_time": "2024-10-15T13:33:00.963Z"
      },
      {
        "duration": 52,
        "start_time": "2024-10-15T13:33:00.983Z"
      },
      {
        "duration": 20,
        "start_time": "2024-10-15T13:33:01.037Z"
      },
      {
        "duration": 33,
        "start_time": "2024-10-15T13:33:01.058Z"
      },
      {
        "duration": 20,
        "start_time": "2024-10-15T13:33:01.092Z"
      },
      {
        "duration": 25,
        "start_time": "2024-10-15T13:33:01.113Z"
      },
      {
        "duration": 25,
        "start_time": "2024-10-15T13:33:01.140Z"
      },
      {
        "duration": 8,
        "start_time": "2024-10-15T13:33:01.167Z"
      },
      {
        "duration": 22,
        "start_time": "2024-10-15T13:33:01.176Z"
      },
      {
        "duration": 5,
        "start_time": "2024-10-15T13:33:01.199Z"
      },
      {
        "duration": 23,
        "start_time": "2024-10-15T13:33:01.205Z"
      },
      {
        "duration": 280,
        "start_time": "2024-10-15T13:33:01.229Z"
      },
      {
        "duration": 18,
        "start_time": "2024-10-15T13:33:01.511Z"
      },
      {
        "duration": 32,
        "start_time": "2024-10-15T13:33:01.531Z"
      },
      {
        "duration": 33,
        "start_time": "2024-10-15T13:33:01.565Z"
      },
      {
        "duration": 26,
        "start_time": "2024-10-15T13:33:01.602Z"
      },
      {
        "duration": 343,
        "start_time": "2024-10-15T13:33:01.630Z"
      },
      {
        "duration": 18,
        "start_time": "2024-10-15T13:33:01.975Z"
      },
      {
        "duration": 12,
        "start_time": "2024-10-15T13:33:01.994Z"
      },
      {
        "duration": 19,
        "start_time": "2024-10-15T13:33:02.008Z"
      },
      {
        "duration": 47,
        "start_time": "2024-10-15T13:33:02.029Z"
      },
      {
        "duration": 30,
        "start_time": "2024-10-15T13:33:02.077Z"
      },
      {
        "duration": 407,
        "start_time": "2024-10-15T13:33:02.109Z"
      },
      {
        "duration": 271,
        "start_time": "2024-10-15T13:33:02.520Z"
      },
      {
        "duration": 14,
        "start_time": "2024-10-15T13:33:02.793Z"
      },
      {
        "duration": 488,
        "start_time": "2024-10-15T13:33:02.809Z"
      },
      {
        "duration": 6,
        "start_time": "2024-10-15T13:33:03.298Z"
      },
      {
        "duration": 94,
        "start_time": "2024-10-15T13:33:03.306Z"
      },
      {
        "duration": 226,
        "start_time": "2024-10-15T13:33:03.401Z"
      },
      {
        "duration": 4,
        "start_time": "2024-10-15T13:33:03.629Z"
      },
      {
        "duration": 170,
        "start_time": "2024-10-15T13:33:03.634Z"
      },
      {
        "duration": 4,
        "start_time": "2024-10-15T13:33:03.806Z"
      },
      {
        "duration": 200,
        "start_time": "2024-10-15T13:33:03.811Z"
      },
      {
        "duration": 140,
        "start_time": "2024-10-15T13:33:04.012Z"
      },
      {
        "duration": 12,
        "start_time": "2024-10-15T13:33:04.154Z"
      },
      {
        "duration": 14,
        "start_time": "2024-10-15T13:33:04.168Z"
      },
      {
        "duration": 9,
        "start_time": "2024-10-15T13:33:04.184Z"
      },
      {
        "duration": 7,
        "start_time": "2024-10-15T13:33:04.194Z"
      },
      {
        "duration": 27,
        "start_time": "2024-10-15T13:33:04.221Z"
      },
      {
        "duration": 24,
        "start_time": "2024-10-15T13:33:04.250Z"
      },
      {
        "duration": 22,
        "start_time": "2024-10-15T13:33:04.276Z"
      },
      {
        "duration": 14,
        "start_time": "2024-10-15T13:33:04.299Z"
      },
      {
        "duration": 23,
        "start_time": "2024-10-15T13:33:04.314Z"
      },
      {
        "duration": 44,
        "start_time": "2024-10-15T13:33:04.339Z"
      },
      {
        "duration": 16,
        "start_time": "2024-10-15T13:33:04.386Z"
      },
      {
        "duration": 14,
        "start_time": "2024-10-15T13:33:04.404Z"
      },
      {
        "duration": 13,
        "start_time": "2024-10-15T13:33:04.420Z"
      },
      {
        "duration": 26,
        "start_time": "2024-10-15T13:33:04.435Z"
      },
      {
        "duration": 9,
        "start_time": "2024-10-15T13:33:04.463Z"
      },
      {
        "duration": 13,
        "start_time": "2024-10-15T13:33:04.474Z"
      },
      {
        "duration": 86,
        "start_time": "2024-10-15T13:33:04.489Z"
      },
      {
        "duration": 6,
        "start_time": "2024-10-15T13:33:04.577Z"
      },
      {
        "duration": 3,
        "start_time": "2024-10-15T13:33:04.585Z"
      },
      {
        "duration": 18,
        "start_time": "2024-10-15T13:33:04.590Z"
      },
      {
        "duration": 7,
        "start_time": "2024-10-15T13:33:04.610Z"
      },
      {
        "duration": 35,
        "start_time": "2024-10-15T13:33:04.619Z"
      },
      {
        "duration": 51,
        "start_time": "2024-10-15T13:33:04.656Z"
      },
      {
        "duration": 15,
        "start_time": "2024-10-15T13:33:04.709Z"
      },
      {
        "duration": 14,
        "start_time": "2024-10-15T13:33:04.726Z"
      },
      {
        "duration": 9,
        "start_time": "2024-10-15T13:33:04.741Z"
      },
      {
        "duration": 14,
        "start_time": "2024-10-15T13:33:04.752Z"
      },
      {
        "duration": 17,
        "start_time": "2024-10-15T13:33:04.768Z"
      },
      {
        "duration": 25,
        "start_time": "2024-10-15T13:35:00.849Z"
      },
      {
        "duration": 5,
        "start_time": "2024-10-15T13:43:11.621Z"
      },
      {
        "duration": 6,
        "start_time": "2024-10-15T13:43:31.598Z"
      },
      {
        "duration": 17,
        "start_time": "2024-10-15T13:43:55.537Z"
      },
      {
        "duration": 18,
        "start_time": "2024-10-15T13:44:08.077Z"
      },
      {
        "duration": 1205,
        "start_time": "2024-10-15T15:11:42.555Z"
      },
      {
        "duration": 3,
        "start_time": "2024-10-15T15:11:43.762Z"
      },
      {
        "duration": 88,
        "start_time": "2024-10-15T15:11:43.767Z"
      },
      {
        "duration": 20,
        "start_time": "2024-10-15T15:11:43.857Z"
      },
      {
        "duration": 29,
        "start_time": "2024-10-15T15:11:43.879Z"
      },
      {
        "duration": 20,
        "start_time": "2024-10-15T15:11:43.909Z"
      },
      {
        "duration": 3,
        "start_time": "2024-10-15T15:11:43.930Z"
      },
      {
        "duration": 27,
        "start_time": "2024-10-15T15:11:43.935Z"
      },
      {
        "duration": 6,
        "start_time": "2024-10-15T15:11:43.964Z"
      },
      {
        "duration": 7,
        "start_time": "2024-10-15T15:11:43.973Z"
      },
      {
        "duration": 10,
        "start_time": "2024-10-15T15:11:43.982Z"
      },
      {
        "duration": 27,
        "start_time": "2024-10-15T15:11:43.994Z"
      },
      {
        "duration": 8,
        "start_time": "2024-10-15T15:11:44.023Z"
      },
      {
        "duration": 18,
        "start_time": "2024-10-15T15:11:44.032Z"
      },
      {
        "duration": 11,
        "start_time": "2024-10-15T15:11:44.052Z"
      },
      {
        "duration": 14,
        "start_time": "2024-10-15T15:11:44.064Z"
      },
      {
        "duration": 59,
        "start_time": "2024-10-15T15:11:44.079Z"
      },
      {
        "duration": 13,
        "start_time": "2024-10-15T15:11:44.139Z"
      },
      {
        "duration": 8,
        "start_time": "2024-10-15T15:11:44.154Z"
      },
      {
        "duration": 17,
        "start_time": "2024-10-15T15:11:44.164Z"
      },
      {
        "duration": 20,
        "start_time": "2024-10-15T15:11:44.183Z"
      },
      {
        "duration": 10,
        "start_time": "2024-10-15T15:11:44.204Z"
      },
      {
        "duration": 27,
        "start_time": "2024-10-15T15:11:44.216Z"
      },
      {
        "duration": 306,
        "start_time": "2024-10-15T15:11:44.245Z"
      },
      {
        "duration": 14,
        "start_time": "2024-10-15T15:11:44.553Z"
      },
      {
        "duration": 5,
        "start_time": "2024-10-15T15:11:44.569Z"
      },
      {
        "duration": 25,
        "start_time": "2024-10-15T15:11:44.576Z"
      },
      {
        "duration": 27,
        "start_time": "2024-10-15T15:11:44.620Z"
      },
      {
        "duration": 376,
        "start_time": "2024-10-15T15:11:44.649Z"
      },
      {
        "duration": 20,
        "start_time": "2024-10-15T15:11:45.027Z"
      },
      {
        "duration": 80,
        "start_time": "2024-10-15T15:11:45.048Z"
      },
      {
        "duration": 87,
        "start_time": "2024-10-15T15:11:45.130Z"
      },
      {
        "duration": 56,
        "start_time": "2024-10-15T15:11:45.218Z"
      },
      {
        "duration": 101,
        "start_time": "2024-10-15T15:11:45.276Z"
      },
      {
        "duration": 376,
        "start_time": "2024-10-15T15:11:45.380Z"
      },
      {
        "duration": 285,
        "start_time": "2024-10-15T15:11:45.758Z"
      },
      {
        "duration": 28,
        "start_time": "2024-10-15T15:11:46.045Z"
      },
      {
        "duration": 440,
        "start_time": "2024-10-15T15:11:46.075Z"
      },
      {
        "duration": 7,
        "start_time": "2024-10-15T15:11:46.521Z"
      },
      {
        "duration": 33,
        "start_time": "2024-10-15T15:11:46.529Z"
      },
      {
        "duration": 233,
        "start_time": "2024-10-15T15:11:46.564Z"
      },
      {
        "duration": 5,
        "start_time": "2024-10-15T15:11:46.798Z"
      },
      {
        "duration": 222,
        "start_time": "2024-10-15T15:11:46.805Z"
      },
      {
        "duration": 5,
        "start_time": "2024-10-15T15:11:47.029Z"
      },
      {
        "duration": 161,
        "start_time": "2024-10-15T15:11:47.036Z"
      },
      {
        "duration": 176,
        "start_time": "2024-10-15T15:11:47.198Z"
      },
      {
        "duration": 14,
        "start_time": "2024-10-15T15:11:47.377Z"
      },
      {
        "duration": 30,
        "start_time": "2024-10-15T15:11:47.393Z"
      },
      {
        "duration": 14,
        "start_time": "2024-10-15T15:11:47.426Z"
      },
      {
        "duration": 12,
        "start_time": "2024-10-15T15:11:47.442Z"
      },
      {
        "duration": 28,
        "start_time": "2024-10-15T15:11:47.456Z"
      },
      {
        "duration": 14,
        "start_time": "2024-10-15T15:11:47.486Z"
      },
      {
        "duration": 11,
        "start_time": "2024-10-15T15:11:47.502Z"
      },
      {
        "duration": 16,
        "start_time": "2024-10-15T15:11:47.515Z"
      },
      {
        "duration": 14,
        "start_time": "2024-10-15T15:11:47.533Z"
      },
      {
        "duration": 15,
        "start_time": "2024-10-15T15:11:47.548Z"
      },
      {
        "duration": 37,
        "start_time": "2024-10-15T15:11:47.564Z"
      },
      {
        "duration": 21,
        "start_time": "2024-10-15T15:11:47.603Z"
      },
      {
        "duration": 40,
        "start_time": "2024-10-15T15:11:47.625Z"
      },
      {
        "duration": 22,
        "start_time": "2024-10-15T15:11:47.667Z"
      },
      {
        "duration": 12,
        "start_time": "2024-10-15T15:11:47.693Z"
      },
      {
        "duration": 11,
        "start_time": "2024-10-15T15:11:47.707Z"
      },
      {
        "duration": 6,
        "start_time": "2024-10-15T15:11:47.720Z"
      },
      {
        "duration": 5,
        "start_time": "2024-10-15T15:11:47.728Z"
      },
      {
        "duration": 21,
        "start_time": "2024-10-15T15:11:47.734Z"
      },
      {
        "duration": 7,
        "start_time": "2024-10-15T15:11:47.757Z"
      },
      {
        "duration": 6,
        "start_time": "2024-10-15T15:11:47.766Z"
      },
      {
        "duration": 16,
        "start_time": "2024-10-15T15:11:47.773Z"
      },
      {
        "duration": 7,
        "start_time": "2024-10-15T15:11:47.791Z"
      },
      {
        "duration": 23,
        "start_time": "2024-10-15T15:11:47.800Z"
      },
      {
        "duration": 113,
        "start_time": "2024-10-15T15:11:47.825Z"
      },
      {
        "duration": 15,
        "start_time": "2024-10-15T15:11:47.939Z"
      },
      {
        "duration": 17,
        "start_time": "2024-10-15T15:11:47.955Z"
      },
      {
        "duration": 9,
        "start_time": "2024-10-15T15:11:47.974Z"
      },
      {
        "duration": 25,
        "start_time": "2024-10-15T15:12:10.861Z"
      },
      {
        "duration": 20,
        "start_time": "2024-10-15T15:12:15.406Z"
      },
      {
        "duration": 437,
        "start_time": "2024-10-15T15:12:59.330Z"
      },
      {
        "duration": 445,
        "start_time": "2024-10-15T15:13:12.347Z"
      },
      {
        "duration": 451,
        "start_time": "2024-10-15T15:19:55.746Z"
      },
      {
        "duration": 1094,
        "start_time": "2024-10-15T15:20:47.878Z"
      },
      {
        "duration": 2,
        "start_time": "2024-10-15T15:20:48.974Z"
      },
      {
        "duration": 95,
        "start_time": "2024-10-15T15:20:48.978Z"
      },
      {
        "duration": 20,
        "start_time": "2024-10-15T15:20:49.074Z"
      },
      {
        "duration": 14,
        "start_time": "2024-10-15T15:20:49.096Z"
      },
      {
        "duration": 15,
        "start_time": "2024-10-15T15:20:49.112Z"
      },
      {
        "duration": 2,
        "start_time": "2024-10-15T15:20:49.129Z"
      },
      {
        "duration": 21,
        "start_time": "2024-10-15T15:20:49.133Z"
      },
      {
        "duration": 5,
        "start_time": "2024-10-15T15:20:49.156Z"
      },
      {
        "duration": 11,
        "start_time": "2024-10-15T15:20:49.163Z"
      },
      {
        "duration": 8,
        "start_time": "2024-10-15T15:20:49.175Z"
      },
      {
        "duration": 10,
        "start_time": "2024-10-15T15:20:49.184Z"
      },
      {
        "duration": 27,
        "start_time": "2024-10-15T15:20:49.195Z"
      },
      {
        "duration": 17,
        "start_time": "2024-10-15T15:20:49.223Z"
      },
      {
        "duration": 9,
        "start_time": "2024-10-15T15:20:49.241Z"
      },
      {
        "duration": 32,
        "start_time": "2024-10-15T15:20:49.251Z"
      },
      {
        "duration": 28,
        "start_time": "2024-10-15T15:20:49.285Z"
      },
      {
        "duration": 31,
        "start_time": "2024-10-15T15:20:49.315Z"
      },
      {
        "duration": 56,
        "start_time": "2024-10-15T15:20:49.348Z"
      },
      {
        "duration": 8,
        "start_time": "2024-10-15T15:20:49.405Z"
      },
      {
        "duration": 11,
        "start_time": "2024-10-15T15:20:49.414Z"
      },
      {
        "duration": 4,
        "start_time": "2024-10-15T15:20:49.426Z"
      },
      {
        "duration": 29,
        "start_time": "2024-10-15T15:20:49.432Z"
      },
      {
        "duration": 277,
        "start_time": "2024-10-15T15:20:49.462Z"
      },
      {
        "duration": 14,
        "start_time": "2024-10-15T15:20:49.741Z"
      },
      {
        "duration": 16,
        "start_time": "2024-10-15T15:20:49.757Z"
      },
      {
        "duration": 30,
        "start_time": "2024-10-15T15:20:49.775Z"
      },
      {
        "duration": 27,
        "start_time": "2024-10-15T15:20:49.809Z"
      },
      {
        "duration": 371,
        "start_time": "2024-10-15T15:20:49.838Z"
      },
      {
        "duration": 18,
        "start_time": "2024-10-15T15:20:50.211Z"
      },
      {
        "duration": 13,
        "start_time": "2024-10-15T15:20:50.231Z"
      },
      {
        "duration": 9,
        "start_time": "2024-10-15T15:20:50.246Z"
      },
      {
        "duration": 18,
        "start_time": "2024-10-15T15:20:50.256Z"
      },
      {
        "duration": 10,
        "start_time": "2024-10-15T15:20:50.276Z"
      },
      {
        "duration": 445,
        "start_time": "2024-10-15T15:20:50.287Z"
      },
      {
        "duration": 273,
        "start_time": "2024-10-15T15:20:50.733Z"
      },
      {
        "duration": 24,
        "start_time": "2024-10-15T15:20:51.007Z"
      },
      {
        "duration": 460,
        "start_time": "2024-10-15T15:20:51.032Z"
      },
      {
        "duration": 7,
        "start_time": "2024-10-15T15:20:51.494Z"
      },
      {
        "duration": 22,
        "start_time": "2024-10-15T15:20:51.502Z"
      },
      {
        "duration": 246,
        "start_time": "2024-10-15T15:20:51.526Z"
      },
      {
        "duration": 4,
        "start_time": "2024-10-15T15:20:51.774Z"
      },
      {
        "duration": 150,
        "start_time": "2024-10-15T15:20:51.780Z"
      },
      {
        "duration": 3,
        "start_time": "2024-10-15T15:20:51.932Z"
      },
      {
        "duration": 162,
        "start_time": "2024-10-15T15:20:51.937Z"
      },
      {
        "duration": 146,
        "start_time": "2024-10-15T15:20:52.100Z"
      },
      {
        "duration": 13,
        "start_time": "2024-10-15T15:20:52.248Z"
      },
      {
        "duration": 43,
        "start_time": "2024-10-15T15:20:52.262Z"
      },
      {
        "duration": 93,
        "start_time": "2024-10-15T15:20:52.306Z"
      },
      {
        "duration": 5,
        "start_time": "2024-10-15T15:20:52.401Z"
      },
      {
        "duration": 24,
        "start_time": "2024-10-15T15:20:52.407Z"
      },
      {
        "duration": 25,
        "start_time": "2024-10-15T15:20:52.432Z"
      },
      {
        "duration": 12,
        "start_time": "2024-10-15T15:20:52.459Z"
      },
      {
        "duration": 26,
        "start_time": "2024-10-15T15:20:52.473Z"
      },
      {
        "duration": 18,
        "start_time": "2024-10-15T15:20:52.500Z"
      },
      {
        "duration": 14,
        "start_time": "2024-10-15T15:20:52.519Z"
      },
      {
        "duration": 16,
        "start_time": "2024-10-15T15:20:52.534Z"
      },
      {
        "duration": 18,
        "start_time": "2024-10-15T15:20:52.551Z"
      },
      {
        "duration": 13,
        "start_time": "2024-10-15T15:20:52.571Z"
      },
      {
        "duration": 13,
        "start_time": "2024-10-15T15:20:52.585Z"
      },
      {
        "duration": 28,
        "start_time": "2024-10-15T15:20:52.599Z"
      },
      {
        "duration": 19,
        "start_time": "2024-10-15T15:20:52.629Z"
      },
      {
        "duration": 36,
        "start_time": "2024-10-15T15:20:52.650Z"
      },
      {
        "duration": 5,
        "start_time": "2024-10-15T15:20:52.688Z"
      },
      {
        "duration": 5,
        "start_time": "2024-10-15T15:20:52.694Z"
      },
      {
        "duration": 13,
        "start_time": "2024-10-15T15:20:52.700Z"
      },
      {
        "duration": 8,
        "start_time": "2024-10-15T15:20:52.714Z"
      },
      {
        "duration": 16,
        "start_time": "2024-10-15T15:20:52.724Z"
      },
      {
        "duration": 19,
        "start_time": "2024-10-15T15:20:52.741Z"
      },
      {
        "duration": 18,
        "start_time": "2024-10-15T15:20:52.762Z"
      },
      {
        "duration": 4,
        "start_time": "2024-10-15T15:20:52.782Z"
      },
      {
        "duration": 4,
        "start_time": "2024-10-15T15:20:52.787Z"
      },
      {
        "duration": 16,
        "start_time": "2024-10-15T15:20:52.792Z"
      },
      {
        "duration": 6,
        "start_time": "2024-10-15T15:20:52.809Z"
      },
      {
        "duration": 24,
        "start_time": "2024-10-15T15:21:21.742Z"
      },
      {
        "duration": 169,
        "start_time": "2024-10-15T15:21:33.826Z"
      },
      {
        "duration": 160,
        "start_time": "2024-10-15T15:21:38.161Z"
      },
      {
        "duration": 168,
        "start_time": "2024-10-15T15:21:45.967Z"
      },
      {
        "duration": 5,
        "start_time": "2024-10-15T15:21:50.894Z"
      },
      {
        "duration": 5,
        "start_time": "2024-10-15T15:21:53.736Z"
      },
      {
        "duration": 16,
        "start_time": "2024-10-15T15:26:24.047Z"
      },
      {
        "duration": 663,
        "start_time": "2024-10-15T15:33:52.726Z"
      },
      {
        "duration": 595,
        "start_time": "2024-10-15T15:34:15.690Z"
      },
      {
        "duration": 687,
        "start_time": "2024-10-15T15:34:34.686Z"
      },
      {
        "duration": 214,
        "start_time": "2024-10-15T15:42:54.866Z"
      },
      {
        "duration": 225,
        "start_time": "2024-10-15T15:43:25.754Z"
      },
      {
        "duration": 592,
        "start_time": "2024-10-15T16:05:49.650Z"
      },
      {
        "duration": 605,
        "start_time": "2024-10-15T16:06:32.086Z"
      },
      {
        "duration": 602,
        "start_time": "2024-10-15T16:09:56.548Z"
      },
      {
        "duration": 712,
        "start_time": "2024-10-15T16:12:55.592Z"
      },
      {
        "duration": 644,
        "start_time": "2024-10-15T16:13:36.971Z"
      },
      {
        "duration": 1201,
        "start_time": "2024-10-15T16:21:01.290Z"
      },
      {
        "duration": 3,
        "start_time": "2024-10-15T16:21:02.493Z"
      },
      {
        "duration": 97,
        "start_time": "2024-10-15T16:21:02.497Z"
      },
      {
        "duration": 19,
        "start_time": "2024-10-15T16:21:02.597Z"
      },
      {
        "duration": 25,
        "start_time": "2024-10-15T16:21:02.618Z"
      },
      {
        "duration": 68,
        "start_time": "2024-10-15T16:21:02.645Z"
      },
      {
        "duration": 18,
        "start_time": "2024-10-15T16:21:02.715Z"
      },
      {
        "duration": 80,
        "start_time": "2024-10-15T16:21:02.735Z"
      },
      {
        "duration": 7,
        "start_time": "2024-10-15T16:21:02.816Z"
      },
      {
        "duration": 29,
        "start_time": "2024-10-15T16:21:02.826Z"
      },
      {
        "duration": 22,
        "start_time": "2024-10-15T16:21:02.857Z"
      },
      {
        "duration": 23,
        "start_time": "2024-10-15T16:21:02.880Z"
      },
      {
        "duration": 35,
        "start_time": "2024-10-15T16:21:02.905Z"
      },
      {
        "duration": 81,
        "start_time": "2024-10-15T16:21:02.943Z"
      },
      {
        "duration": 14,
        "start_time": "2024-10-15T16:21:03.033Z"
      },
      {
        "duration": 52,
        "start_time": "2024-10-15T16:21:03.049Z"
      },
      {
        "duration": 96,
        "start_time": "2024-10-15T16:21:03.103Z"
      },
      {
        "duration": 13,
        "start_time": "2024-10-15T16:21:03.201Z"
      },
      {
        "duration": 65,
        "start_time": "2024-10-15T16:21:03.216Z"
      },
      {
        "duration": 57,
        "start_time": "2024-10-15T16:21:03.283Z"
      },
      {
        "duration": 46,
        "start_time": "2024-10-15T16:21:03.342Z"
      },
      {
        "duration": 47,
        "start_time": "2024-10-15T16:21:03.389Z"
      },
      {
        "duration": 63,
        "start_time": "2024-10-15T16:21:03.438Z"
      },
      {
        "duration": 284,
        "start_time": "2024-10-15T16:21:03.502Z"
      },
      {
        "duration": 15,
        "start_time": "2024-10-15T16:21:03.787Z"
      },
      {
        "duration": 49,
        "start_time": "2024-10-15T16:21:03.803Z"
      },
      {
        "duration": 71,
        "start_time": "2024-10-15T16:21:03.853Z"
      },
      {
        "duration": 44,
        "start_time": "2024-10-15T16:21:03.935Z"
      },
      {
        "duration": 352,
        "start_time": "2024-10-15T16:21:03.981Z"
      },
      {
        "duration": 21,
        "start_time": "2024-10-15T16:21:04.336Z"
      },
      {
        "duration": 36,
        "start_time": "2024-10-15T16:21:04.358Z"
      },
      {
        "duration": 40,
        "start_time": "2024-10-15T16:21:04.396Z"
      },
      {
        "duration": 48,
        "start_time": "2024-10-15T16:21:04.437Z"
      },
      {
        "duration": 48,
        "start_time": "2024-10-15T16:21:04.486Z"
      },
      {
        "duration": 389,
        "start_time": "2024-10-15T16:21:04.536Z"
      },
      {
        "duration": 274,
        "start_time": "2024-10-15T16:21:04.926Z"
      },
      {
        "duration": 35,
        "start_time": "2024-10-15T16:21:05.201Z"
      },
      {
        "duration": 498,
        "start_time": "2024-10-15T16:21:05.238Z"
      },
      {
        "duration": 7,
        "start_time": "2024-10-15T16:21:05.738Z"
      },
      {
        "duration": 85,
        "start_time": "2024-10-15T16:21:05.747Z"
      },
      {
        "duration": 276,
        "start_time": "2024-10-15T16:21:05.834Z"
      },
      {
        "duration": 4,
        "start_time": "2024-10-15T16:21:06.112Z"
      },
      {
        "duration": 268,
        "start_time": "2024-10-15T16:21:06.121Z"
      },
      {
        "duration": 4,
        "start_time": "2024-10-15T16:21:06.391Z"
      },
      {
        "duration": 612,
        "start_time": "2024-10-15T16:21:06.396Z"
      },
      {
        "duration": 581,
        "start_time": "2024-10-15T16:21:07.010Z"
      },
      {
        "duration": 13,
        "start_time": "2024-10-15T16:21:07.592Z"
      },
      {
        "duration": 70,
        "start_time": "2024-10-15T16:21:07.606Z"
      },
      {
        "duration": 28,
        "start_time": "2024-10-15T16:21:07.678Z"
      },
      {
        "duration": 58,
        "start_time": "2024-10-15T16:21:07.707Z"
      },
      {
        "duration": 48,
        "start_time": "2024-10-15T16:21:07.767Z"
      },
      {
        "duration": 26,
        "start_time": "2024-10-15T16:21:07.817Z"
      },
      {
        "duration": 23,
        "start_time": "2024-10-15T16:21:07.845Z"
      },
      {
        "duration": 28,
        "start_time": "2024-10-15T16:21:07.869Z"
      },
      {
        "duration": 14,
        "start_time": "2024-10-15T16:21:07.898Z"
      },
      {
        "duration": 32,
        "start_time": "2024-10-15T16:21:07.913Z"
      },
      {
        "duration": 17,
        "start_time": "2024-10-15T16:21:07.946Z"
      },
      {
        "duration": 27,
        "start_time": "2024-10-15T16:21:07.965Z"
      },
      {
        "duration": 13,
        "start_time": "2024-10-15T16:21:07.993Z"
      },
      {
        "duration": 27,
        "start_time": "2024-10-15T16:21:08.008Z"
      },
      {
        "duration": 20,
        "start_time": "2024-10-15T16:21:08.037Z"
      },
      {
        "duration": 29,
        "start_time": "2024-10-15T16:21:08.059Z"
      },
      {
        "duration": 22,
        "start_time": "2024-10-15T16:21:08.090Z"
      },
      {
        "duration": 22,
        "start_time": "2024-10-15T16:21:08.114Z"
      },
      {
        "duration": 97,
        "start_time": "2024-10-15T16:21:08.138Z"
      },
      {
        "duration": 20,
        "start_time": "2024-10-15T16:21:08.236Z"
      },
      {
        "duration": 29,
        "start_time": "2024-10-15T16:21:08.257Z"
      },
      {
        "duration": 10,
        "start_time": "2024-10-15T16:21:08.287Z"
      },
      {
        "duration": 11,
        "start_time": "2024-10-15T16:21:08.298Z"
      },
      {
        "duration": 8,
        "start_time": "2024-10-15T16:21:08.311Z"
      },
      {
        "duration": 12,
        "start_time": "2024-10-15T16:21:08.329Z"
      },
      {
        "duration": 11,
        "start_time": "2024-10-15T16:21:08.343Z"
      },
      {
        "duration": 18,
        "start_time": "2024-10-15T16:21:08.355Z"
      },
      {
        "duration": 22,
        "start_time": "2024-10-15T16:21:08.374Z"
      },
      {
        "duration": 14,
        "start_time": "2024-10-15T16:21:53.849Z"
      },
      {
        "duration": 1147,
        "start_time": "2024-10-15T16:23:41.992Z"
      },
      {
        "duration": 2,
        "start_time": "2024-10-15T16:23:43.141Z"
      },
      {
        "duration": 103,
        "start_time": "2024-10-15T16:23:43.144Z"
      },
      {
        "duration": 19,
        "start_time": "2024-10-15T16:23:43.249Z"
      },
      {
        "duration": 14,
        "start_time": "2024-10-15T16:23:43.270Z"
      },
      {
        "duration": 16,
        "start_time": "2024-10-15T16:23:43.285Z"
      },
      {
        "duration": 19,
        "start_time": "2024-10-15T16:23:43.302Z"
      },
      {
        "duration": 38,
        "start_time": "2024-10-15T16:23:43.322Z"
      },
      {
        "duration": 5,
        "start_time": "2024-10-15T16:23:43.361Z"
      },
      {
        "duration": 8,
        "start_time": "2024-10-15T16:23:43.368Z"
      },
      {
        "duration": 6,
        "start_time": "2024-10-15T16:23:43.377Z"
      },
      {
        "duration": 5,
        "start_time": "2024-10-15T16:23:43.385Z"
      },
      {
        "duration": 12,
        "start_time": "2024-10-15T16:23:43.391Z"
      },
      {
        "duration": 18,
        "start_time": "2024-10-15T16:23:43.405Z"
      },
      {
        "duration": 9,
        "start_time": "2024-10-15T16:23:43.424Z"
      },
      {
        "duration": 13,
        "start_time": "2024-10-15T16:23:43.434Z"
      },
      {
        "duration": 20,
        "start_time": "2024-10-15T16:23:43.449Z"
      },
      {
        "duration": 8,
        "start_time": "2024-10-15T16:23:43.470Z"
      },
      {
        "duration": 6,
        "start_time": "2024-10-15T16:23:43.480Z"
      },
      {
        "duration": 34,
        "start_time": "2024-10-15T16:23:43.487Z"
      },
      {
        "duration": 10,
        "start_time": "2024-10-15T16:23:43.522Z"
      },
      {
        "duration": 12,
        "start_time": "2024-10-15T16:23:43.533Z"
      },
      {
        "duration": 15,
        "start_time": "2024-10-15T16:23:43.546Z"
      },
      {
        "duration": 269,
        "start_time": "2024-10-15T16:23:43.562Z"
      },
      {
        "duration": 14,
        "start_time": "2024-10-15T16:23:43.832Z"
      },
      {
        "duration": 2,
        "start_time": "2024-10-15T16:23:43.848Z"
      },
      {
        "duration": 20,
        "start_time": "2024-10-15T16:23:43.851Z"
      },
      {
        "duration": 24,
        "start_time": "2024-10-15T16:23:43.874Z"
      },
      {
        "duration": 340,
        "start_time": "2024-10-15T16:23:43.921Z"
      },
      {
        "duration": 17,
        "start_time": "2024-10-15T16:23:44.263Z"
      },
      {
        "duration": 10,
        "start_time": "2024-10-15T16:23:44.282Z"
      },
      {
        "duration": 4,
        "start_time": "2024-10-15T16:23:44.294Z"
      },
      {
        "duration": 22,
        "start_time": "2024-10-15T16:23:44.299Z"
      },
      {
        "duration": 7,
        "start_time": "2024-10-15T16:23:44.322Z"
      },
      {
        "duration": 351,
        "start_time": "2024-10-15T16:23:44.330Z"
      },
      {
        "duration": 260,
        "start_time": "2024-10-15T16:23:44.683Z"
      },
      {
        "duration": 18,
        "start_time": "2024-10-15T16:23:44.944Z"
      },
      {
        "duration": 426,
        "start_time": "2024-10-15T16:23:44.964Z"
      },
      {
        "duration": 7,
        "start_time": "2024-10-15T16:23:45.391Z"
      },
      {
        "duration": 26,
        "start_time": "2024-10-15T16:23:45.399Z"
      },
      {
        "duration": 238,
        "start_time": "2024-10-15T16:23:45.427Z"
      },
      {
        "duration": 5,
        "start_time": "2024-10-15T16:23:45.667Z"
      },
      {
        "duration": 176,
        "start_time": "2024-10-15T16:23:45.673Z"
      },
      {
        "duration": 4,
        "start_time": "2024-10-15T16:23:45.850Z"
      },
      {
        "duration": 534,
        "start_time": "2024-10-15T16:23:45.855Z"
      },
      {
        "duration": 520,
        "start_time": "2024-10-15T16:23:46.391Z"
      },
      {
        "duration": 18,
        "start_time": "2024-10-15T16:23:46.912Z"
      },
      {
        "duration": 30,
        "start_time": "2024-10-15T16:23:46.931Z"
      },
      {
        "duration": 11,
        "start_time": "2024-10-15T16:23:46.963Z"
      },
      {
        "duration": 14,
        "start_time": "2024-10-15T16:23:46.976Z"
      },
      {
        "duration": 3,
        "start_time": "2024-10-15T16:23:46.991Z"
      },
      {
        "duration": 4,
        "start_time": "2024-10-15T16:23:46.996Z"
      },
      {
        "duration": 16,
        "start_time": "2024-10-15T16:23:47.001Z"
      },
      {
        "duration": 12,
        "start_time": "2024-10-15T16:23:47.018Z"
      },
      {
        "duration": 15,
        "start_time": "2024-10-15T16:23:47.031Z"
      },
      {
        "duration": 13,
        "start_time": "2024-10-15T16:23:47.047Z"
      },
      {
        "duration": 11,
        "start_time": "2024-10-15T16:23:47.061Z"
      },
      {
        "duration": 17,
        "start_time": "2024-10-15T16:23:47.074Z"
      },
      {
        "duration": 29,
        "start_time": "2024-10-15T16:23:47.093Z"
      },
      {
        "duration": 61,
        "start_time": "2024-10-15T16:23:47.124Z"
      },
      {
        "duration": 14,
        "start_time": "2024-10-15T16:23:47.186Z"
      },
      {
        "duration": 7,
        "start_time": "2024-10-15T16:23:47.201Z"
      },
      {
        "duration": 7,
        "start_time": "2024-10-15T16:23:47.209Z"
      },
      {
        "duration": 4,
        "start_time": "2024-10-15T16:23:47.218Z"
      },
      {
        "duration": 5,
        "start_time": "2024-10-15T16:23:47.223Z"
      },
      {
        "duration": 3,
        "start_time": "2024-10-15T16:23:47.229Z"
      },
      {
        "duration": 5,
        "start_time": "2024-10-15T16:23:47.233Z"
      },
      {
        "duration": 5,
        "start_time": "2024-10-15T16:23:47.239Z"
      },
      {
        "duration": 7,
        "start_time": "2024-10-15T16:23:47.245Z"
      },
      {
        "duration": 7,
        "start_time": "2024-10-15T16:23:47.254Z"
      },
      {
        "duration": 4,
        "start_time": "2024-10-15T16:23:47.262Z"
      },
      {
        "duration": 16,
        "start_time": "2024-10-15T16:23:47.268Z"
      },
      {
        "duration": 5,
        "start_time": "2024-10-15T16:23:47.321Z"
      },
      {
        "duration": 29,
        "start_time": "2024-10-15T16:23:47.327Z"
      },
      {
        "duration": 9,
        "start_time": "2024-10-15T16:23:47.357Z"
      },
      {
        "duration": 617,
        "start_time": "2024-10-15T16:24:23.080Z"
      },
      {
        "duration": 533,
        "start_time": "2024-10-15T16:25:21.473Z"
      },
      {
        "duration": 561,
        "start_time": "2024-10-15T16:25:32.561Z"
      },
      {
        "duration": 631,
        "start_time": "2024-10-15T16:25:33.124Z"
      },
      {
        "duration": 552,
        "start_time": "2024-10-15T16:25:52.732Z"
      },
      {
        "duration": 547,
        "start_time": "2024-10-15T16:26:33.167Z"
      },
      {
        "duration": 1131,
        "start_time": "2024-10-15T16:26:59.033Z"
      },
      {
        "duration": 2,
        "start_time": "2024-10-15T16:27:00.166Z"
      },
      {
        "duration": 203,
        "start_time": "2024-10-15T16:27:00.170Z"
      },
      {
        "duration": 19,
        "start_time": "2024-10-15T16:27:00.375Z"
      },
      {
        "duration": 33,
        "start_time": "2024-10-15T16:27:00.395Z"
      },
      {
        "duration": 88,
        "start_time": "2024-10-15T16:27:00.430Z"
      },
      {
        "duration": 55,
        "start_time": "2024-10-15T16:27:00.519Z"
      },
      {
        "duration": 118,
        "start_time": "2024-10-15T16:27:00.577Z"
      },
      {
        "duration": 57,
        "start_time": "2024-10-15T16:27:00.696Z"
      },
      {
        "duration": 41,
        "start_time": "2024-10-15T16:27:00.756Z"
      },
      {
        "duration": 36,
        "start_time": "2024-10-15T16:27:00.799Z"
      },
      {
        "duration": 50,
        "start_time": "2024-10-15T16:27:00.836Z"
      },
      {
        "duration": 26,
        "start_time": "2024-10-15T16:27:00.888Z"
      },
      {
        "duration": 67,
        "start_time": "2024-10-15T16:27:00.916Z"
      },
      {
        "duration": 30,
        "start_time": "2024-10-15T16:27:00.986Z"
      },
      {
        "duration": 46,
        "start_time": "2024-10-15T16:27:01.018Z"
      },
      {
        "duration": 52,
        "start_time": "2024-10-15T16:27:01.066Z"
      },
      {
        "duration": 87,
        "start_time": "2024-10-15T16:27:01.119Z"
      },
      {
        "duration": 22,
        "start_time": "2024-10-15T16:27:01.208Z"
      },
      {
        "duration": 34,
        "start_time": "2024-10-15T16:27:01.231Z"
      },
      {
        "duration": 29,
        "start_time": "2024-10-15T16:27:01.266Z"
      },
      {
        "duration": 8,
        "start_time": "2024-10-15T16:27:01.297Z"
      },
      {
        "duration": 49,
        "start_time": "2024-10-15T16:27:01.307Z"
      },
      {
        "duration": 278,
        "start_time": "2024-10-15T16:27:01.358Z"
      },
      {
        "duration": 13,
        "start_time": "2024-10-15T16:27:01.638Z"
      },
      {
        "duration": 96,
        "start_time": "2024-10-15T16:27:01.652Z"
      },
      {
        "duration": 67,
        "start_time": "2024-10-15T16:27:01.749Z"
      },
      {
        "duration": 48,
        "start_time": "2024-10-15T16:27:01.820Z"
      },
      {
        "duration": 356,
        "start_time": "2024-10-15T16:27:01.870Z"
      },
      {
        "duration": 19,
        "start_time": "2024-10-15T16:27:02.227Z"
      },
      {
        "duration": 43,
        "start_time": "2024-10-15T16:27:02.247Z"
      },
      {
        "duration": 31,
        "start_time": "2024-10-15T16:27:02.292Z"
      },
      {
        "duration": 48,
        "start_time": "2024-10-15T16:27:02.325Z"
      },
      {
        "duration": 41,
        "start_time": "2024-10-15T16:27:02.374Z"
      },
      {
        "duration": 390,
        "start_time": "2024-10-15T16:27:02.417Z"
      },
      {
        "duration": 290,
        "start_time": "2024-10-15T16:27:02.809Z"
      },
      {
        "duration": 23,
        "start_time": "2024-10-15T16:27:03.101Z"
      },
      {
        "duration": 479,
        "start_time": "2024-10-15T16:27:03.126Z"
      },
      {
        "duration": 15,
        "start_time": "2024-10-15T16:27:03.607Z"
      },
      {
        "duration": 91,
        "start_time": "2024-10-15T16:27:03.624Z"
      },
      {
        "duration": 284,
        "start_time": "2024-10-15T16:27:03.717Z"
      },
      {
        "duration": 6,
        "start_time": "2024-10-15T16:27:04.003Z"
      },
      {
        "duration": 225,
        "start_time": "2024-10-15T16:27:04.010Z"
      },
      {
        "duration": 5,
        "start_time": "2024-10-15T16:27:04.236Z"
      },
      {
        "duration": 562,
        "start_time": "2024-10-15T16:27:04.242Z"
      },
      {
        "duration": 567,
        "start_time": "2024-10-15T16:27:04.805Z"
      },
      {
        "duration": 14,
        "start_time": "2024-10-15T16:27:05.374Z"
      },
      {
        "duration": 28,
        "start_time": "2024-10-15T16:27:05.390Z"
      },
      {
        "duration": 19,
        "start_time": "2024-10-15T16:27:05.421Z"
      },
      {
        "duration": 33,
        "start_time": "2024-10-15T16:27:05.442Z"
      },
      {
        "duration": 18,
        "start_time": "2024-10-15T16:27:05.477Z"
      },
      {
        "duration": 23,
        "start_time": "2024-10-15T16:27:05.496Z"
      },
      {
        "duration": 55,
        "start_time": "2024-10-15T16:27:05.520Z"
      },
      {
        "duration": 14,
        "start_time": "2024-10-15T16:27:05.577Z"
      },
      {
        "duration": 35,
        "start_time": "2024-10-15T16:27:05.593Z"
      },
      {
        "duration": 64,
        "start_time": "2024-10-15T16:27:05.630Z"
      },
      {
        "duration": 18,
        "start_time": "2024-10-15T16:27:05.696Z"
      },
      {
        "duration": 55,
        "start_time": "2024-10-15T16:27:05.716Z"
      },
      {
        "duration": 35,
        "start_time": "2024-10-15T16:27:05.772Z"
      },
      {
        "duration": 33,
        "start_time": "2024-10-15T16:27:05.809Z"
      },
      {
        "duration": 57,
        "start_time": "2024-10-15T16:27:05.844Z"
      },
      {
        "duration": 22,
        "start_time": "2024-10-15T16:27:05.903Z"
      },
      {
        "duration": 34,
        "start_time": "2024-10-15T16:27:05.927Z"
      },
      {
        "duration": 11,
        "start_time": "2024-10-15T16:27:05.963Z"
      },
      {
        "duration": 30,
        "start_time": "2024-10-15T16:27:05.976Z"
      },
      {
        "duration": 57,
        "start_time": "2024-10-15T16:27:06.008Z"
      },
      {
        "duration": 22,
        "start_time": "2024-10-15T16:27:06.066Z"
      },
      {
        "duration": 7,
        "start_time": "2024-10-15T16:27:06.090Z"
      },
      {
        "duration": 14,
        "start_time": "2024-10-15T16:27:06.098Z"
      },
      {
        "duration": 36,
        "start_time": "2024-10-15T16:27:06.114Z"
      },
      {
        "duration": 113,
        "start_time": "2024-10-15T16:27:06.151Z"
      },
      {
        "duration": 45,
        "start_time": "2024-10-15T16:27:06.265Z"
      },
      {
        "duration": 20,
        "start_time": "2024-10-15T16:27:06.311Z"
      },
      {
        "duration": 50,
        "start_time": "2024-10-15T16:27:06.333Z"
      },
      {
        "duration": 13,
        "start_time": "2024-10-15T16:27:06.385Z"
      },
      {
        "duration": 635,
        "start_time": "2024-10-15T16:28:12.718Z"
      },
      {
        "duration": 111,
        "start_time": "2024-10-15T16:37:37.648Z"
      },
      {
        "duration": 108,
        "start_time": "2024-10-15T16:37:43.189Z"
      },
      {
        "duration": 123,
        "start_time": "2024-10-15T16:38:38.799Z"
      },
      {
        "duration": 250,
        "start_time": "2024-10-15T16:41:59.104Z"
      },
      {
        "duration": 13,
        "start_time": "2024-10-15T16:42:27.772Z"
      },
      {
        "duration": 270,
        "start_time": "2024-10-15T16:44:00.043Z"
      },
      {
        "duration": 1162,
        "start_time": "2024-10-15T17:29:18.886Z"
      },
      {
        "duration": 2,
        "start_time": "2024-10-15T17:29:20.050Z"
      },
      {
        "duration": 106,
        "start_time": "2024-10-15T17:29:20.054Z"
      },
      {
        "duration": 20,
        "start_time": "2024-10-15T17:29:20.162Z"
      },
      {
        "duration": 15,
        "start_time": "2024-10-15T17:29:20.183Z"
      },
      {
        "duration": 25,
        "start_time": "2024-10-15T17:29:20.199Z"
      },
      {
        "duration": 3,
        "start_time": "2024-10-15T17:29:20.226Z"
      },
      {
        "duration": 27,
        "start_time": "2024-10-15T17:29:20.230Z"
      },
      {
        "duration": 5,
        "start_time": "2024-10-15T17:29:20.258Z"
      },
      {
        "duration": 13,
        "start_time": "2024-10-15T17:29:20.265Z"
      },
      {
        "duration": 9,
        "start_time": "2024-10-15T17:29:20.280Z"
      },
      {
        "duration": 6,
        "start_time": "2024-10-15T17:29:20.290Z"
      },
      {
        "duration": 25,
        "start_time": "2024-10-15T17:29:20.297Z"
      },
      {
        "duration": 13,
        "start_time": "2024-10-15T17:29:20.324Z"
      },
      {
        "duration": 8,
        "start_time": "2024-10-15T17:29:20.339Z"
      },
      {
        "duration": 19,
        "start_time": "2024-10-15T17:29:20.349Z"
      },
      {
        "duration": 20,
        "start_time": "2024-10-15T17:29:20.369Z"
      },
      {
        "duration": 34,
        "start_time": "2024-10-15T17:29:20.391Z"
      },
      {
        "duration": 6,
        "start_time": "2024-10-15T17:29:20.427Z"
      },
      {
        "duration": 8,
        "start_time": "2024-10-15T17:29:20.434Z"
      },
      {
        "duration": 14,
        "start_time": "2024-10-15T17:29:20.444Z"
      },
      {
        "duration": 4,
        "start_time": "2024-10-15T17:29:20.459Z"
      },
      {
        "duration": 21,
        "start_time": "2024-10-15T17:29:20.465Z"
      },
      {
        "duration": 303,
        "start_time": "2024-10-15T17:29:20.488Z"
      },
      {
        "duration": 14,
        "start_time": "2024-10-15T17:29:20.792Z"
      },
      {
        "duration": 3,
        "start_time": "2024-10-15T17:29:20.808Z"
      },
      {
        "duration": 17,
        "start_time": "2024-10-15T17:29:20.821Z"
      },
      {
        "duration": 26,
        "start_time": "2024-10-15T17:29:20.842Z"
      },
      {
        "duration": 359,
        "start_time": "2024-10-15T17:29:20.870Z"
      },
      {
        "duration": 17,
        "start_time": "2024-10-15T17:29:21.231Z"
      },
      {
        "duration": 10,
        "start_time": "2024-10-15T17:29:21.250Z"
      },
      {
        "duration": 10,
        "start_time": "2024-10-15T17:29:21.261Z"
      },
      {
        "duration": 53,
        "start_time": "2024-10-15T17:29:21.272Z"
      },
      {
        "duration": 7,
        "start_time": "2024-10-15T17:29:21.327Z"
      },
      {
        "duration": 365,
        "start_time": "2024-10-15T17:29:21.335Z"
      },
      {
        "duration": 266,
        "start_time": "2024-10-15T17:29:21.701Z"
      },
      {
        "duration": 18,
        "start_time": "2024-10-15T17:29:21.968Z"
      },
      {
        "duration": 424,
        "start_time": "2024-10-15T17:29:21.987Z"
      },
      {
        "duration": 12,
        "start_time": "2024-10-15T17:29:22.413Z"
      },
      {
        "duration": 25,
        "start_time": "2024-10-15T17:29:22.427Z"
      },
      {
        "duration": 249,
        "start_time": "2024-10-15T17:29:22.454Z"
      },
      {
        "duration": 5,
        "start_time": "2024-10-15T17:29:22.704Z"
      },
      {
        "duration": 183,
        "start_time": "2024-10-15T17:29:22.711Z"
      },
      {
        "duration": 6,
        "start_time": "2024-10-15T17:29:22.896Z"
      },
      {
        "duration": 566,
        "start_time": "2024-10-15T17:29:22.903Z"
      },
      {
        "duration": 535,
        "start_time": "2024-10-15T17:29:23.471Z"
      },
      {
        "duration": 18,
        "start_time": "2024-10-15T17:29:24.007Z"
      },
      {
        "duration": 12,
        "start_time": "2024-10-15T17:29:24.026Z"
      },
      {
        "duration": 18,
        "start_time": "2024-10-15T17:29:24.040Z"
      },
      {
        "duration": 351,
        "start_time": "2024-10-15T17:29:24.060Z"
      },
      {
        "duration": 9,
        "start_time": "2024-10-15T17:29:24.413Z"
      },
      {
        "duration": 4,
        "start_time": "2024-10-15T17:29:24.424Z"
      },
      {
        "duration": 4,
        "start_time": "2024-10-15T17:29:24.429Z"
      },
      {
        "duration": 28,
        "start_time": "2024-10-15T17:29:24.434Z"
      },
      {
        "duration": 11,
        "start_time": "2024-10-15T17:29:24.464Z"
      },
      {
        "duration": 13,
        "start_time": "2024-10-15T17:29:24.477Z"
      },
      {
        "duration": 39,
        "start_time": "2024-10-15T17:29:24.492Z"
      },
      {
        "duration": 63,
        "start_time": "2024-10-15T17:29:24.532Z"
      },
      {
        "duration": 14,
        "start_time": "2024-10-15T17:29:24.597Z"
      },
      {
        "duration": 14,
        "start_time": "2024-10-15T17:29:24.613Z"
      },
      {
        "duration": 11,
        "start_time": "2024-10-15T17:29:24.629Z"
      },
      {
        "duration": 14,
        "start_time": "2024-10-15T17:29:24.642Z"
      },
      {
        "duration": 7,
        "start_time": "2024-10-15T17:29:24.657Z"
      },
      {
        "duration": 9,
        "start_time": "2024-10-15T17:29:24.666Z"
      },
      {
        "duration": 4,
        "start_time": "2024-10-15T17:29:24.677Z"
      },
      {
        "duration": 5,
        "start_time": "2024-10-15T17:29:24.682Z"
      },
      {
        "duration": 35,
        "start_time": "2024-10-15T17:29:24.688Z"
      },
      {
        "duration": 16,
        "start_time": "2024-10-15T17:29:24.725Z"
      },
      {
        "duration": 6,
        "start_time": "2024-10-15T17:29:24.743Z"
      },
      {
        "duration": 8,
        "start_time": "2024-10-15T17:29:24.750Z"
      },
      {
        "duration": 7,
        "start_time": "2024-10-15T17:29:24.760Z"
      },
      {
        "duration": 13,
        "start_time": "2024-10-15T17:29:24.768Z"
      },
      {
        "duration": 4,
        "start_time": "2024-10-15T17:29:24.783Z"
      },
      {
        "duration": 14,
        "start_time": "2024-10-15T17:29:24.788Z"
      },
      {
        "duration": 20,
        "start_time": "2024-10-15T17:29:24.803Z"
      },
      {
        "duration": 6,
        "start_time": "2024-10-15T17:29:24.824Z"
      },
      {
        "duration": 1131,
        "start_time": "2024-10-15T18:24:59.206Z"
      },
      {
        "duration": 3,
        "start_time": "2024-10-15T18:25:00.338Z"
      },
      {
        "duration": 109,
        "start_time": "2024-10-15T18:25:00.342Z"
      },
      {
        "duration": 19,
        "start_time": "2024-10-15T18:25:00.453Z"
      },
      {
        "duration": 39,
        "start_time": "2024-10-15T18:25:00.474Z"
      },
      {
        "duration": 61,
        "start_time": "2024-10-15T18:25:00.514Z"
      },
      {
        "duration": 42,
        "start_time": "2024-10-15T18:25:00.576Z"
      },
      {
        "duration": 42,
        "start_time": "2024-10-15T18:25:00.620Z"
      },
      {
        "duration": 36,
        "start_time": "2024-10-15T18:25:00.663Z"
      },
      {
        "duration": 6,
        "start_time": "2024-10-15T18:25:00.702Z"
      },
      {
        "duration": 18,
        "start_time": "2024-10-15T18:25:00.709Z"
      },
      {
        "duration": 17,
        "start_time": "2024-10-15T18:25:00.729Z"
      },
      {
        "duration": 26,
        "start_time": "2024-10-15T18:25:00.747Z"
      },
      {
        "duration": 26,
        "start_time": "2024-10-15T18:25:00.774Z"
      },
      {
        "duration": 9,
        "start_time": "2024-10-15T18:25:00.802Z"
      },
      {
        "duration": 89,
        "start_time": "2024-10-15T18:25:00.812Z"
      },
      {
        "duration": 20,
        "start_time": "2024-10-15T18:25:00.903Z"
      },
      {
        "duration": 42,
        "start_time": "2024-10-15T18:25:00.924Z"
      },
      {
        "duration": 20,
        "start_time": "2024-10-15T18:25:00.967Z"
      },
      {
        "duration": 10,
        "start_time": "2024-10-15T18:25:00.989Z"
      },
      {
        "duration": 23,
        "start_time": "2024-10-15T18:25:01.000Z"
      },
      {
        "duration": 27,
        "start_time": "2024-10-15T18:25:01.025Z"
      },
      {
        "duration": 41,
        "start_time": "2024-10-15T18:25:01.053Z"
      },
      {
        "duration": 326,
        "start_time": "2024-10-15T18:25:01.096Z"
      },
      {
        "duration": 14,
        "start_time": "2024-10-15T18:25:01.424Z"
      },
      {
        "duration": 23,
        "start_time": "2024-10-15T18:25:01.439Z"
      },
      {
        "duration": 82,
        "start_time": "2024-10-15T18:25:01.463Z"
      },
      {
        "duration": 52,
        "start_time": "2024-10-15T18:25:01.549Z"
      },
      {
        "duration": 408,
        "start_time": "2024-10-15T18:25:01.603Z"
      },
      {
        "duration": 18,
        "start_time": "2024-10-15T18:25:02.013Z"
      },
      {
        "duration": 22,
        "start_time": "2024-10-15T18:25:02.033Z"
      },
      {
        "duration": 18,
        "start_time": "2024-10-15T18:25:02.057Z"
      },
      {
        "duration": 16,
        "start_time": "2024-10-15T18:25:02.076Z"
      },
      {
        "duration": 14,
        "start_time": "2024-10-15T18:25:02.093Z"
      },
      {
        "duration": 369,
        "start_time": "2024-10-15T18:25:02.109Z"
      },
      {
        "duration": 267,
        "start_time": "2024-10-15T18:25:02.480Z"
      },
      {
        "duration": 18,
        "start_time": "2024-10-15T18:25:02.749Z"
      },
      {
        "duration": 455,
        "start_time": "2024-10-15T18:25:02.768Z"
      },
      {
        "duration": 7,
        "start_time": "2024-10-15T18:25:03.224Z"
      },
      {
        "duration": 32,
        "start_time": "2024-10-15T18:25:03.232Z"
      },
      {
        "duration": 241,
        "start_time": "2024-10-15T18:25:03.265Z"
      },
      {
        "duration": 5,
        "start_time": "2024-10-15T18:25:03.507Z"
      },
      {
        "duration": 204,
        "start_time": "2024-10-15T18:25:03.520Z"
      },
      {
        "duration": 5,
        "start_time": "2024-10-15T18:25:03.726Z"
      },
      {
        "duration": 552,
        "start_time": "2024-10-15T18:25:03.732Z"
      },
      {
        "duration": 550,
        "start_time": "2024-10-15T18:25:04.286Z"
      },
      {
        "duration": 12,
        "start_time": "2024-10-15T18:25:04.838Z"
      },
      {
        "duration": 67,
        "start_time": "2024-10-15T18:25:04.852Z"
      },
      {
        "duration": 16,
        "start_time": "2024-10-15T18:25:04.921Z"
      },
      {
        "duration": 368,
        "start_time": "2024-10-15T18:25:04.938Z"
      },
      {
        "duration": 4,
        "start_time": "2024-10-15T18:25:05.308Z"
      },
      {
        "duration": 9,
        "start_time": "2024-10-15T18:25:05.313Z"
      },
      {
        "duration": 41,
        "start_time": "2024-10-15T18:25:05.324Z"
      },
      {
        "duration": 35,
        "start_time": "2024-10-15T18:25:05.367Z"
      },
      {
        "duration": 12,
        "start_time": "2024-10-15T18:25:05.404Z"
      },
      {
        "duration": 51,
        "start_time": "2024-10-15T18:25:05.418Z"
      },
      {
        "duration": 32,
        "start_time": "2024-10-15T18:25:05.470Z"
      },
      {
        "duration": 31,
        "start_time": "2024-10-15T18:25:05.503Z"
      },
      {
        "duration": 38,
        "start_time": "2024-10-15T18:25:05.536Z"
      },
      {
        "duration": 90,
        "start_time": "2024-10-15T18:25:05.575Z"
      },
      {
        "duration": 22,
        "start_time": "2024-10-15T18:25:05.666Z"
      },
      {
        "duration": 20,
        "start_time": "2024-10-15T18:25:05.690Z"
      },
      {
        "duration": 17,
        "start_time": "2024-10-15T18:25:05.712Z"
      },
      {
        "duration": 33,
        "start_time": "2024-10-15T18:25:05.731Z"
      },
      {
        "duration": 26,
        "start_time": "2024-10-15T18:25:05.766Z"
      },
      {
        "duration": 11,
        "start_time": "2024-10-15T18:25:05.794Z"
      },
      {
        "duration": 8,
        "start_time": "2024-10-15T18:25:05.807Z"
      },
      {
        "duration": 35,
        "start_time": "2024-10-15T18:25:05.816Z"
      },
      {
        "duration": 33,
        "start_time": "2024-10-15T18:25:05.853Z"
      },
      {
        "duration": 22,
        "start_time": "2024-10-15T18:25:05.887Z"
      },
      {
        "duration": 30,
        "start_time": "2024-10-15T18:25:05.910Z"
      },
      {
        "duration": 8,
        "start_time": "2024-10-15T18:25:05.941Z"
      },
      {
        "duration": 16,
        "start_time": "2024-10-15T18:25:05.950Z"
      },
      {
        "duration": 8,
        "start_time": "2024-10-15T18:25:05.967Z"
      },
      {
        "duration": 18,
        "start_time": "2024-10-15T18:25:05.976Z"
      },
      {
        "duration": 25,
        "start_time": "2024-10-15T18:25:05.996Z"
      },
      {
        "duration": 57,
        "start_time": "2024-10-15T18:49:54.927Z"
      },
      {
        "duration": 68,
        "start_time": "2024-10-15T18:52:37.157Z"
      },
      {
        "duration": 1689,
        "start_time": "2024-10-15T19:18:33.267Z"
      },
      {
        "duration": 2,
        "start_time": "2024-10-15T19:18:34.958Z"
      },
      {
        "duration": 87,
        "start_time": "2024-10-15T19:18:34.961Z"
      },
      {
        "duration": 18,
        "start_time": "2024-10-15T19:18:35.050Z"
      },
      {
        "duration": 88,
        "start_time": "2024-10-15T19:18:35.069Z"
      },
      {
        "duration": 19,
        "start_time": "2024-10-15T19:18:35.159Z"
      },
      {
        "duration": 10,
        "start_time": "2024-10-15T19:18:35.179Z"
      },
      {
        "duration": 36,
        "start_time": "2024-10-15T19:18:35.190Z"
      },
      {
        "duration": 11,
        "start_time": "2024-10-15T19:18:35.228Z"
      },
      {
        "duration": 12,
        "start_time": "2024-10-15T19:18:35.241Z"
      },
      {
        "duration": 9,
        "start_time": "2024-10-15T19:18:35.255Z"
      },
      {
        "duration": 8,
        "start_time": "2024-10-15T19:18:35.265Z"
      },
      {
        "duration": 6,
        "start_time": "2024-10-15T19:18:35.275Z"
      },
      {
        "duration": 64,
        "start_time": "2024-10-15T19:18:35.282Z"
      },
      {
        "duration": 48,
        "start_time": "2024-10-15T19:18:35.348Z"
      },
      {
        "duration": 14,
        "start_time": "2024-10-15T19:18:35.397Z"
      },
      {
        "duration": 22,
        "start_time": "2024-10-15T19:18:35.412Z"
      },
      {
        "duration": 32,
        "start_time": "2024-10-15T19:18:35.436Z"
      },
      {
        "duration": 14,
        "start_time": "2024-10-15T19:18:35.469Z"
      },
      {
        "duration": 8,
        "start_time": "2024-10-15T19:18:35.485Z"
      },
      {
        "duration": 41,
        "start_time": "2024-10-15T19:18:35.494Z"
      },
      {
        "duration": 5,
        "start_time": "2024-10-15T19:18:35.536Z"
      },
      {
        "duration": 39,
        "start_time": "2024-10-15T19:18:35.542Z"
      },
      {
        "duration": 240,
        "start_time": "2024-10-15T19:18:35.582Z"
      },
      {
        "duration": 14,
        "start_time": "2024-10-15T19:18:35.824Z"
      },
      {
        "duration": 18,
        "start_time": "2024-10-15T19:18:35.839Z"
      },
      {
        "duration": 23,
        "start_time": "2024-10-15T19:18:35.858Z"
      },
      {
        "duration": 25,
        "start_time": "2024-10-15T19:18:35.886Z"
      },
      {
        "duration": 341,
        "start_time": "2024-10-15T19:18:35.912Z"
      },
      {
        "duration": 16,
        "start_time": "2024-10-15T19:18:36.255Z"
      },
      {
        "duration": 10,
        "start_time": "2024-10-15T19:18:36.272Z"
      },
      {
        "duration": 9,
        "start_time": "2024-10-15T19:18:36.284Z"
      },
      {
        "duration": 20,
        "start_time": "2024-10-15T19:18:36.294Z"
      },
      {
        "duration": 27,
        "start_time": "2024-10-15T19:18:36.315Z"
      },
      {
        "duration": 401,
        "start_time": "2024-10-15T19:18:36.344Z"
      },
      {
        "duration": 250,
        "start_time": "2024-10-15T19:18:36.747Z"
      },
      {
        "duration": 27,
        "start_time": "2024-10-15T19:18:36.998Z"
      },
      {
        "duration": 445,
        "start_time": "2024-10-15T19:18:37.027Z"
      },
      {
        "duration": 7,
        "start_time": "2024-10-15T19:18:37.473Z"
      },
      {
        "duration": 17,
        "start_time": "2024-10-15T19:18:37.481Z"
      },
      {
        "duration": 237,
        "start_time": "2024-10-15T19:18:37.499Z"
      },
      {
        "duration": 5,
        "start_time": "2024-10-15T19:18:37.737Z"
      },
      {
        "duration": 219,
        "start_time": "2024-10-15T19:18:37.743Z"
      },
      {
        "duration": 5,
        "start_time": "2024-10-15T19:18:37.963Z"
      },
      {
        "duration": 538,
        "start_time": "2024-10-15T19:18:37.969Z"
      },
      {
        "duration": 547,
        "start_time": "2024-10-15T19:18:38.509Z"
      },
      {
        "duration": 13,
        "start_time": "2024-10-15T19:18:39.058Z"
      },
      {
        "duration": 67,
        "start_time": "2024-10-15T19:18:39.072Z"
      },
      {
        "duration": 15,
        "start_time": "2024-10-15T19:18:39.141Z"
      },
      {
        "duration": 317,
        "start_time": "2024-10-15T19:18:39.157Z"
      },
      {
        "duration": 4,
        "start_time": "2024-10-15T19:18:39.475Z"
      },
      {
        "duration": 7,
        "start_time": "2024-10-15T19:18:39.480Z"
      },
      {
        "duration": 16,
        "start_time": "2024-10-15T19:18:39.488Z"
      },
      {
        "duration": 15,
        "start_time": "2024-10-15T19:18:39.506Z"
      },
      {
        "duration": 11,
        "start_time": "2024-10-15T19:18:39.523Z"
      },
      {
        "duration": 13,
        "start_time": "2024-10-15T19:18:39.535Z"
      },
      {
        "duration": 18,
        "start_time": "2024-10-15T19:18:39.549Z"
      },
      {
        "duration": 12,
        "start_time": "2024-10-15T19:18:39.568Z"
      },
      {
        "duration": 15,
        "start_time": "2024-10-15T19:18:39.581Z"
      },
      {
        "duration": 33,
        "start_time": "2024-10-15T19:18:39.597Z"
      },
      {
        "duration": 11,
        "start_time": "2024-10-15T19:18:39.632Z"
      },
      {
        "duration": 15,
        "start_time": "2024-10-15T19:18:39.644Z"
      },
      {
        "duration": 9,
        "start_time": "2024-10-15T19:18:39.661Z"
      },
      {
        "duration": 23,
        "start_time": "2024-10-15T19:18:39.672Z"
      },
      {
        "duration": 8,
        "start_time": "2024-10-15T19:18:39.697Z"
      },
      {
        "duration": 5,
        "start_time": "2024-10-15T19:18:39.706Z"
      },
      {
        "duration": 8,
        "start_time": "2024-10-15T19:18:39.713Z"
      },
      {
        "duration": 4,
        "start_time": "2024-10-15T19:18:39.722Z"
      },
      {
        "duration": 18,
        "start_time": "2024-10-15T19:18:39.727Z"
      },
      {
        "duration": 98,
        "start_time": "2024-10-15T19:18:39.746Z"
      },
      {
        "duration": 10,
        "start_time": "2024-10-15T19:18:39.845Z"
      },
      {
        "duration": 5,
        "start_time": "2024-10-15T19:18:39.856Z"
      },
      {
        "duration": 20,
        "start_time": "2024-10-15T19:18:39.862Z"
      },
      {
        "duration": 26,
        "start_time": "2024-10-15T19:18:39.883Z"
      },
      {
        "duration": 7,
        "start_time": "2024-10-15T19:18:39.910Z"
      },
      {
        "duration": 19,
        "start_time": "2024-10-15T19:18:39.918Z"
      },
      {
        "duration": 1297,
        "start_time": "2024-10-15T19:34:21.778Z"
      },
      {
        "duration": 3,
        "start_time": "2024-10-15T19:34:23.079Z"
      },
      {
        "duration": 138,
        "start_time": "2024-10-15T19:34:23.084Z"
      },
      {
        "duration": 19,
        "start_time": "2024-10-15T19:34:23.225Z"
      },
      {
        "duration": 17,
        "start_time": "2024-10-15T19:34:23.246Z"
      },
      {
        "duration": 25,
        "start_time": "2024-10-15T19:34:23.265Z"
      },
      {
        "duration": 4,
        "start_time": "2024-10-15T19:34:23.292Z"
      },
      {
        "duration": 31,
        "start_time": "2024-10-15T19:34:23.299Z"
      },
      {
        "duration": 31,
        "start_time": "2024-10-15T19:34:23.332Z"
      },
      {
        "duration": 30,
        "start_time": "2024-10-15T19:34:23.368Z"
      },
      {
        "duration": 13,
        "start_time": "2024-10-15T19:34:23.408Z"
      },
      {
        "duration": 8,
        "start_time": "2024-10-15T19:34:23.423Z"
      },
      {
        "duration": 10,
        "start_time": "2024-10-15T19:34:23.433Z"
      },
      {
        "duration": 51,
        "start_time": "2024-10-15T19:34:23.445Z"
      },
      {
        "duration": 18,
        "start_time": "2024-10-15T19:34:23.498Z"
      },
      {
        "duration": 21,
        "start_time": "2024-10-15T19:34:23.519Z"
      },
      {
        "duration": 32,
        "start_time": "2024-10-15T19:34:23.543Z"
      },
      {
        "duration": 23,
        "start_time": "2024-10-15T19:34:23.577Z"
      },
      {
        "duration": 10,
        "start_time": "2024-10-15T19:34:23.602Z"
      },
      {
        "duration": 8,
        "start_time": "2024-10-15T19:34:23.613Z"
      },
      {
        "duration": 19,
        "start_time": "2024-10-15T19:34:23.623Z"
      },
      {
        "duration": 8,
        "start_time": "2024-10-15T19:34:23.655Z"
      },
      {
        "duration": 25,
        "start_time": "2024-10-15T19:34:23.665Z"
      },
      {
        "duration": 330,
        "start_time": "2024-10-15T19:34:23.692Z"
      },
      {
        "duration": 15,
        "start_time": "2024-10-15T19:34:24.024Z"
      },
      {
        "duration": 19,
        "start_time": "2024-10-15T19:34:24.040Z"
      },
      {
        "duration": 31,
        "start_time": "2024-10-15T19:34:24.065Z"
      },
      {
        "duration": 29,
        "start_time": "2024-10-15T19:34:24.100Z"
      },
      {
        "duration": 441,
        "start_time": "2024-10-15T19:34:24.131Z"
      },
      {
        "duration": 20,
        "start_time": "2024-10-15T19:34:24.574Z"
      },
      {
        "duration": 15,
        "start_time": "2024-10-15T19:34:24.596Z"
      },
      {
        "duration": 5,
        "start_time": "2024-10-15T19:34:24.613Z"
      },
      {
        "duration": 44,
        "start_time": "2024-10-15T19:34:24.619Z"
      },
      {
        "duration": 10,
        "start_time": "2024-10-15T19:34:24.665Z"
      },
      {
        "duration": 524,
        "start_time": "2024-10-15T19:34:24.676Z"
      },
      {
        "duration": 340,
        "start_time": "2024-10-15T19:34:25.202Z"
      },
      {
        "duration": 37,
        "start_time": "2024-10-15T19:34:25.545Z"
      },
      {
        "duration": 487,
        "start_time": "2024-10-15T19:34:25.583Z"
      },
      {
        "duration": 9,
        "start_time": "2024-10-15T19:34:26.072Z"
      },
      {
        "duration": 19,
        "start_time": "2024-10-15T19:34:26.083Z"
      },
      {
        "duration": 324,
        "start_time": "2024-10-15T19:34:26.104Z"
      },
      {
        "duration": 5,
        "start_time": "2024-10-15T19:34:26.429Z"
      },
      {
        "duration": 254,
        "start_time": "2024-10-15T19:34:26.436Z"
      },
      {
        "duration": 7,
        "start_time": "2024-10-15T19:34:26.692Z"
      },
      {
        "duration": 693,
        "start_time": "2024-10-15T19:34:26.701Z"
      },
      {
        "duration": 800,
        "start_time": "2024-10-15T19:34:27.396Z"
      },
      {
        "duration": 18,
        "start_time": "2024-10-15T19:34:28.198Z"
      },
      {
        "duration": 21,
        "start_time": "2024-10-15T19:34:28.218Z"
      },
      {
        "duration": 31,
        "start_time": "2024-10-15T19:34:28.261Z"
      },
      {
        "duration": 504,
        "start_time": "2024-10-15T19:34:28.294Z"
      },
      {
        "duration": 5,
        "start_time": "2024-10-15T19:34:28.800Z"
      },
      {
        "duration": 4,
        "start_time": "2024-10-15T19:34:28.807Z"
      },
      {
        "duration": 7,
        "start_time": "2024-10-15T19:34:28.813Z"
      },
      {
        "duration": 50,
        "start_time": "2024-10-15T19:34:28.822Z"
      },
      {
        "duration": 22,
        "start_time": "2024-10-15T19:34:28.874Z"
      },
      {
        "duration": 15,
        "start_time": "2024-10-15T19:34:28.898Z"
      },
      {
        "duration": 14,
        "start_time": "2024-10-15T19:34:28.914Z"
      },
      {
        "duration": 51,
        "start_time": "2024-10-15T19:34:28.929Z"
      },
      {
        "duration": 26,
        "start_time": "2024-10-15T19:34:28.988Z"
      },
      {
        "duration": 17,
        "start_time": "2024-10-15T19:34:29.016Z"
      },
      {
        "duration": 14,
        "start_time": "2024-10-15T19:34:29.034Z"
      },
      {
        "duration": 41,
        "start_time": "2024-10-15T19:34:29.049Z"
      },
      {
        "duration": 23,
        "start_time": "2024-10-15T19:34:29.092Z"
      },
      {
        "duration": 31,
        "start_time": "2024-10-15T19:34:29.116Z"
      },
      {
        "duration": 5,
        "start_time": "2024-10-15T19:34:29.150Z"
      },
      {
        "duration": 14,
        "start_time": "2024-10-15T19:34:29.161Z"
      },
      {
        "duration": 6,
        "start_time": "2024-10-15T19:34:29.181Z"
      },
      {
        "duration": 9,
        "start_time": "2024-10-15T19:34:29.189Z"
      },
      {
        "duration": 8,
        "start_time": "2024-10-15T19:34:29.200Z"
      },
      {
        "duration": 10,
        "start_time": "2024-10-15T19:34:29.212Z"
      },
      {
        "duration": 14,
        "start_time": "2024-10-15T19:34:29.224Z"
      },
      {
        "duration": 5,
        "start_time": "2024-10-15T19:34:29.253Z"
      },
      {
        "duration": 16,
        "start_time": "2024-10-15T19:34:29.260Z"
      },
      {
        "duration": 13,
        "start_time": "2024-10-15T19:34:29.278Z"
      },
      {
        "duration": 5,
        "start_time": "2024-10-15T19:34:29.293Z"
      },
      {
        "duration": 7,
        "start_time": "2024-10-15T19:34:29.300Z"
      },
      {
        "duration": 1123,
        "start_time": "2024-10-15T19:37:18.391Z"
      },
      {
        "duration": 2,
        "start_time": "2024-10-15T19:37:19.516Z"
      },
      {
        "duration": 74,
        "start_time": "2024-10-15T19:37:19.520Z"
      },
      {
        "duration": 29,
        "start_time": "2024-10-15T19:37:19.597Z"
      },
      {
        "duration": 15,
        "start_time": "2024-10-15T19:37:19.627Z"
      },
      {
        "duration": 139,
        "start_time": "2024-10-15T19:37:19.643Z"
      },
      {
        "duration": 13,
        "start_time": "2024-10-15T19:37:19.784Z"
      },
      {
        "duration": 3,
        "start_time": "2024-10-15T19:37:19.798Z"
      },
      {
        "duration": 28,
        "start_time": "2024-10-15T19:37:19.803Z"
      },
      {
        "duration": 31,
        "start_time": "2024-10-15T19:37:19.834Z"
      },
      {
        "duration": 7,
        "start_time": "2024-10-15T19:37:19.868Z"
      },
      {
        "duration": 8,
        "start_time": "2024-10-15T19:37:19.876Z"
      },
      {
        "duration": 6,
        "start_time": "2024-10-15T19:37:19.886Z"
      },
      {
        "duration": 25,
        "start_time": "2024-10-15T19:37:19.893Z"
      },
      {
        "duration": 25,
        "start_time": "2024-10-15T19:37:19.919Z"
      },
      {
        "duration": 21,
        "start_time": "2024-10-15T19:37:19.946Z"
      },
      {
        "duration": 49,
        "start_time": "2024-10-15T19:37:19.968Z"
      },
      {
        "duration": 36,
        "start_time": "2024-10-15T19:37:20.018Z"
      },
      {
        "duration": 11,
        "start_time": "2024-10-15T19:37:20.064Z"
      },
      {
        "duration": 12,
        "start_time": "2024-10-15T19:37:20.077Z"
      },
      {
        "duration": 8,
        "start_time": "2024-10-15T19:37:20.091Z"
      },
      {
        "duration": 14,
        "start_time": "2024-10-15T19:37:20.100Z"
      },
      {
        "duration": 6,
        "start_time": "2024-10-15T19:37:20.116Z"
      },
      {
        "duration": 33,
        "start_time": "2024-10-15T19:37:20.124Z"
      },
      {
        "duration": 319,
        "start_time": "2024-10-15T19:37:20.159Z"
      },
      {
        "duration": 14,
        "start_time": "2024-10-15T19:37:20.480Z"
      },
      {
        "duration": 11,
        "start_time": "2024-10-15T19:37:20.496Z"
      },
      {
        "duration": 19,
        "start_time": "2024-10-15T19:37:20.512Z"
      },
      {
        "duration": 59,
        "start_time": "2024-10-15T19:37:20.533Z"
      },
      {
        "duration": 385,
        "start_time": "2024-10-15T19:37:20.594Z"
      },
      {
        "duration": 18,
        "start_time": "2024-10-15T19:37:20.981Z"
      },
      {
        "duration": 23,
        "start_time": "2024-10-15T19:37:21.000Z"
      },
      {
        "duration": 16,
        "start_time": "2024-10-15T19:37:21.024Z"
      },
      {
        "duration": 30,
        "start_time": "2024-10-15T19:37:21.042Z"
      },
      {
        "duration": 23,
        "start_time": "2024-10-15T19:37:21.074Z"
      },
      {
        "duration": 402,
        "start_time": "2024-10-15T19:37:21.099Z"
      },
      {
        "duration": 322,
        "start_time": "2024-10-15T19:37:21.503Z"
      },
      {
        "duration": 40,
        "start_time": "2024-10-15T19:37:21.827Z"
      },
      {
        "duration": 505,
        "start_time": "2024-10-15T19:37:21.871Z"
      },
      {
        "duration": 7,
        "start_time": "2024-10-15T19:37:22.379Z"
      },
      {
        "duration": 26,
        "start_time": "2024-10-15T19:37:22.388Z"
      },
      {
        "duration": 295,
        "start_time": "2024-10-15T19:37:22.417Z"
      },
      {
        "duration": 6,
        "start_time": "2024-10-15T19:37:22.714Z"
      },
      {
        "duration": 290,
        "start_time": "2024-10-15T19:37:22.722Z"
      },
      {
        "duration": 7,
        "start_time": "2024-10-15T19:37:23.014Z"
      },
      {
        "duration": 653,
        "start_time": "2024-10-15T19:37:23.023Z"
      },
      {
        "duration": 604,
        "start_time": "2024-10-15T19:37:23.678Z"
      },
      {
        "duration": 21,
        "start_time": "2024-10-15T19:37:24.284Z"
      },
      {
        "duration": 106,
        "start_time": "2024-10-15T19:37:24.308Z"
      },
      {
        "duration": 32,
        "start_time": "2024-10-15T19:37:24.416Z"
      },
      {
        "duration": 390,
        "start_time": "2024-10-15T19:37:24.450Z"
      },
      {
        "duration": 4,
        "start_time": "2024-10-15T19:37:24.841Z"
      },
      {
        "duration": 22,
        "start_time": "2024-10-15T19:37:24.858Z"
      },
      {
        "duration": 8,
        "start_time": "2024-10-15T19:37:24.881Z"
      },
      {
        "duration": 16,
        "start_time": "2024-10-15T19:37:24.891Z"
      },
      {
        "duration": 12,
        "start_time": "2024-10-15T19:37:24.909Z"
      },
      {
        "duration": 18,
        "start_time": "2024-10-15T19:37:24.923Z"
      },
      {
        "duration": 34,
        "start_time": "2024-10-15T19:37:24.943Z"
      },
      {
        "duration": 43,
        "start_time": "2024-10-15T19:37:24.979Z"
      },
      {
        "duration": 20,
        "start_time": "2024-10-15T19:37:25.024Z"
      },
      {
        "duration": 24,
        "start_time": "2024-10-15T19:37:25.046Z"
      },
      {
        "duration": 26,
        "start_time": "2024-10-15T19:37:25.072Z"
      },
      {
        "duration": 14,
        "start_time": "2024-10-15T19:37:25.099Z"
      },
      {
        "duration": 7,
        "start_time": "2024-10-15T19:37:25.115Z"
      },
      {
        "duration": 7,
        "start_time": "2024-10-15T19:37:25.124Z"
      },
      {
        "duration": 10,
        "start_time": "2024-10-15T19:37:25.132Z"
      },
      {
        "duration": 35,
        "start_time": "2024-10-15T19:37:25.153Z"
      },
      {
        "duration": 4,
        "start_time": "2024-10-15T19:37:25.190Z"
      },
      {
        "duration": 5,
        "start_time": "2024-10-15T19:37:25.196Z"
      },
      {
        "duration": 5,
        "start_time": "2024-10-15T19:37:25.203Z"
      },
      {
        "duration": 8,
        "start_time": "2024-10-15T19:37:25.209Z"
      },
      {
        "duration": 8,
        "start_time": "2024-10-15T19:37:25.219Z"
      },
      {
        "duration": 9,
        "start_time": "2024-10-15T19:37:25.228Z"
      },
      {
        "duration": 19,
        "start_time": "2024-10-15T19:37:25.239Z"
      },
      {
        "duration": 6,
        "start_time": "2024-10-15T19:37:25.260Z"
      },
      {
        "duration": 7,
        "start_time": "2024-10-15T19:37:25.268Z"
      },
      {
        "duration": 7,
        "start_time": "2024-10-15T19:37:25.276Z"
      },
      {
        "duration": 542,
        "start_time": "2024-10-15T19:52:51.320Z"
      },
      {
        "duration": 761,
        "start_time": "2024-10-15T19:53:56.899Z"
      },
      {
        "duration": 1384,
        "start_time": "2024-10-15T19:54:38.320Z"
      }
    ],
    "colab": {
      "provenance": []
    },
    "kernelspec": {
      "display_name": "Python 3 (ipykernel)",
      "language": "python",
      "name": "python3"
    },
    "language_info": {
      "codemirror_mode": {
        "name": "ipython",
        "version": 3
      },
      "file_extension": ".py",
      "mimetype": "text/x-python",
      "name": "python",
      "nbconvert_exporter": "python",
      "pygments_lexer": "ipython3",
      "version": "3.9.5"
    },
    "toc": {
      "base_numbering": 1,
      "nav_menu": {},
      "number_sections": true,
      "sideBar": true,
      "skip_h1_title": true,
      "title_cell": "Table of Contents",
      "title_sidebar": "Contents",
      "toc_cell": false,
      "toc_position": {},
      "toc_section_display": true,
      "toc_window_display": false
    }
  },
  "nbformat": 4,
  "nbformat_minor": 0
}